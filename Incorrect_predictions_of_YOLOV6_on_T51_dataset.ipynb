{
  "nbformat": 4,
  "nbformat_minor": 0,
  "metadata": {
    "colab": {
      "provenance": [],
      "gpuType": "T4",
      "authorship_tag": "ABX9TyPX6mGTowsHIZsV7PguS8Xf",
      "include_colab_link": true
    },
    "kernelspec": {
      "name": "python3",
      "display_name": "Python 3"
    },
    "language_info": {
      "name": "python"
    }
  },
  "cells": [
    {
      "cell_type": "markdown",
      "metadata": {
        "id": "view-in-github",
        "colab_type": "text"
      },
      "source": [
        "<a href=\"https://colab.research.google.com/github/samikshagadhave/YOLOv6_model/blob/main/Incorrect_predictions_of_YOLOV6_on_T51_dataset.ipynb\" target=\"_parent\"><img src=\"https://colab.research.google.com/assets/colab-badge.svg\" alt=\"Open In Colab\"/></a>"
      ]
    },
    {
      "cell_type": "code",
      "execution_count": null,
      "metadata": {
        "colab": {
          "base_uri": "https://localhost:8080/",
          "height": 1000
        },
        "id": "ZXcDZHAk810Y",
        "outputId": "ad1f1480-223b-4f99-f0ec-067d02c8c774"
      },
      "outputs": [
        {
          "output_type": "stream",
          "name": "stdout",
          "text": [
            "Cloning into 'YOLOv6'...\n",
            "remote: Enumerating objects: 3649, done.\u001b[K\n",
            "remote: Counting objects: 100% (1204/1204), done.\u001b[K\n",
            "remote: Compressing objects: 100% (205/205), done.\u001b[K\n",
            "remote: Total 3649 (delta 1075), reused 1008 (delta 999), pack-reused 2445\u001b[K\n",
            "Receiving objects: 100% (3649/3649), 43.34 MiB | 34.03 MiB/s, done.\n",
            "Resolving deltas: 100% (2183/2183), done.\n",
            "/content/YOLOv6\n",
            "Requirement already satisfied: torch>=1.8.0 in /usr/local/lib/python3.10/dist-packages (from -r requirements.txt (line 4)) (2.0.1+cu118)\n",
            "Requirement already satisfied: torchvision>=0.9.0 in /usr/local/lib/python3.10/dist-packages (from -r requirements.txt (line 5)) (0.15.2+cu118)\n",
            "Collecting numpy>=1.24.0 (from -r requirements.txt (line 6))\n",
            "  Downloading numpy-1.25.1-cp310-cp310-manylinux_2_17_x86_64.manylinux2014_x86_64.whl (17.6 MB)\n",
            "\u001b[2K     \u001b[90m━━━━━━━━━━━━━━━━━━━━━━━━━━━━━━━━━━━━━━━━\u001b[0m \u001b[32m17.6/17.6 MB\u001b[0m \u001b[31m84.8 MB/s\u001b[0m eta \u001b[36m0:00:00\u001b[0m\n",
            "\u001b[?25hRequirement already satisfied: opencv-python>=4.1.2 in /usr/local/lib/python3.10/dist-packages (from -r requirements.txt (line 7)) (4.7.0.72)\n",
            "Requirement already satisfied: PyYAML>=5.3.1 in /usr/local/lib/python3.10/dist-packages (from -r requirements.txt (line 8)) (6.0)\n",
            "Requirement already satisfied: scipy>=1.4.1 in /usr/local/lib/python3.10/dist-packages (from -r requirements.txt (line 9)) (1.10.1)\n",
            "Requirement already satisfied: tqdm>=4.41.0 in /usr/local/lib/python3.10/dist-packages (from -r requirements.txt (line 10)) (4.65.0)\n",
            "Collecting addict>=2.4.0 (from -r requirements.txt (line 11))\n",
            "  Downloading addict-2.4.0-py3-none-any.whl (3.8 kB)\n",
            "Requirement already satisfied: tensorboard>=2.7.0 in /usr/local/lib/python3.10/dist-packages (from -r requirements.txt (line 12)) (2.12.3)\n",
            "Requirement already satisfied: pycocotools>=2.0 in /usr/local/lib/python3.10/dist-packages (from -r requirements.txt (line 13)) (2.0.6)\n",
            "Collecting onnx>=1.10.0 (from -r requirements.txt (line 14))\n",
            "  Downloading onnx-1.14.0-cp310-cp310-manylinux_2_17_x86_64.manylinux2014_x86_64.whl (14.6 MB)\n",
            "\u001b[2K     \u001b[90m━━━━━━━━━━━━━━━━━━━━━━━━━━━━━━━━━━━━━━━\u001b[0m \u001b[32m14.6/14.6 MB\u001b[0m \u001b[31m100.5 MB/s\u001b[0m eta \u001b[36m0:00:00\u001b[0m\n",
            "\u001b[?25hCollecting onnx-simplifier>=0.3.6 (from -r requirements.txt (line 15))\n",
            "  Downloading onnx_simplifier-0.4.33-cp310-cp310-manylinux_2_17_x86_64.manylinux2014_x86_64.whl (2.2 MB)\n",
            "\u001b[2K     \u001b[90m━━━━━━━━━━━━━━━━━━━━━━━━━━━━━━━━━━━━━━━━\u001b[0m \u001b[32m2.2/2.2 MB\u001b[0m \u001b[31m9.7 MB/s\u001b[0m eta \u001b[36m0:00:00\u001b[0m\n",
            "\u001b[?25hCollecting thop (from -r requirements.txt (line 16))\n",
            "  Downloading thop-0.1.1.post2209072238-py3-none-any.whl (15 kB)\n",
            "Requirement already satisfied: filelock in /usr/local/lib/python3.10/dist-packages (from torch>=1.8.0->-r requirements.txt (line 4)) (3.12.2)\n",
            "Requirement already satisfied: typing-extensions in /usr/local/lib/python3.10/dist-packages (from torch>=1.8.0->-r requirements.txt (line 4)) (4.7.1)\n",
            "Requirement already satisfied: sympy in /usr/local/lib/python3.10/dist-packages (from torch>=1.8.0->-r requirements.txt (line 4)) (1.11.1)\n",
            "Requirement already satisfied: networkx in /usr/local/lib/python3.10/dist-packages (from torch>=1.8.0->-r requirements.txt (line 4)) (3.1)\n",
            "Requirement already satisfied: jinja2 in /usr/local/lib/python3.10/dist-packages (from torch>=1.8.0->-r requirements.txt (line 4)) (3.1.2)\n",
            "Requirement already satisfied: triton==2.0.0 in /usr/local/lib/python3.10/dist-packages (from torch>=1.8.0->-r requirements.txt (line 4)) (2.0.0)\n",
            "Requirement already satisfied: cmake in /usr/local/lib/python3.10/dist-packages (from triton==2.0.0->torch>=1.8.0->-r requirements.txt (line 4)) (3.25.2)\n",
            "Requirement already satisfied: lit in /usr/local/lib/python3.10/dist-packages (from triton==2.0.0->torch>=1.8.0->-r requirements.txt (line 4)) (16.0.6)\n",
            "Requirement already satisfied: requests in /usr/local/lib/python3.10/dist-packages (from torchvision>=0.9.0->-r requirements.txt (line 5)) (2.27.1)\n",
            "Requirement already satisfied: pillow!=8.3.*,>=5.3.0 in /usr/local/lib/python3.10/dist-packages (from torchvision>=0.9.0->-r requirements.txt (line 5)) (8.4.0)\n",
            "Requirement already satisfied: absl-py>=0.4 in /usr/local/lib/python3.10/dist-packages (from tensorboard>=2.7.0->-r requirements.txt (line 12)) (1.4.0)\n",
            "Requirement already satisfied: grpcio>=1.48.2 in /usr/local/lib/python3.10/dist-packages (from tensorboard>=2.7.0->-r requirements.txt (line 12)) (1.56.0)\n",
            "Requirement already satisfied: google-auth<3,>=1.6.3 in /usr/local/lib/python3.10/dist-packages (from tensorboard>=2.7.0->-r requirements.txt (line 12)) (2.17.3)\n",
            "Requirement already satisfied: google-auth-oauthlib<1.1,>=0.5 in /usr/local/lib/python3.10/dist-packages (from tensorboard>=2.7.0->-r requirements.txt (line 12)) (1.0.0)\n",
            "Requirement already satisfied: markdown>=2.6.8 in /usr/local/lib/python3.10/dist-packages (from tensorboard>=2.7.0->-r requirements.txt (line 12)) (3.4.3)\n",
            "Requirement already satisfied: protobuf>=3.19.6 in /usr/local/lib/python3.10/dist-packages (from tensorboard>=2.7.0->-r requirements.txt (line 12)) (3.20.3)\n",
            "Requirement already satisfied: setuptools>=41.0.0 in /usr/local/lib/python3.10/dist-packages (from tensorboard>=2.7.0->-r requirements.txt (line 12)) (67.7.2)\n",
            "Requirement already satisfied: tensorboard-data-server<0.8.0,>=0.7.0 in /usr/local/lib/python3.10/dist-packages (from tensorboard>=2.7.0->-r requirements.txt (line 12)) (0.7.1)\n",
            "Requirement already satisfied: werkzeug>=1.0.1 in /usr/local/lib/python3.10/dist-packages (from tensorboard>=2.7.0->-r requirements.txt (line 12)) (2.3.6)\n",
            "Requirement already satisfied: wheel>=0.26 in /usr/local/lib/python3.10/dist-packages (from tensorboard>=2.7.0->-r requirements.txt (line 12)) (0.40.0)\n",
            "Requirement already satisfied: matplotlib>=2.1.0 in /usr/local/lib/python3.10/dist-packages (from pycocotools>=2.0->-r requirements.txt (line 13)) (3.7.1)\n",
            "Requirement already satisfied: rich in /usr/local/lib/python3.10/dist-packages (from onnx-simplifier>=0.3.6->-r requirements.txt (line 15)) (13.4.2)\n",
            "Requirement already satisfied: cachetools<6.0,>=2.0.0 in /usr/local/lib/python3.10/dist-packages (from google-auth<3,>=1.6.3->tensorboard>=2.7.0->-r requirements.txt (line 12)) (5.3.1)\n",
            "Requirement already satisfied: pyasn1-modules>=0.2.1 in /usr/local/lib/python3.10/dist-packages (from google-auth<3,>=1.6.3->tensorboard>=2.7.0->-r requirements.txt (line 12)) (0.3.0)\n",
            "Requirement already satisfied: six>=1.9.0 in /usr/local/lib/python3.10/dist-packages (from google-auth<3,>=1.6.3->tensorboard>=2.7.0->-r requirements.txt (line 12)) (1.16.0)\n",
            "Requirement already satisfied: rsa<5,>=3.1.4 in /usr/local/lib/python3.10/dist-packages (from google-auth<3,>=1.6.3->tensorboard>=2.7.0->-r requirements.txt (line 12)) (4.9)\n",
            "Requirement already satisfied: requests-oauthlib>=0.7.0 in /usr/local/lib/python3.10/dist-packages (from google-auth-oauthlib<1.1,>=0.5->tensorboard>=2.7.0->-r requirements.txt (line 12)) (1.3.1)\n",
            "Requirement already satisfied: contourpy>=1.0.1 in /usr/local/lib/python3.10/dist-packages (from matplotlib>=2.1.0->pycocotools>=2.0->-r requirements.txt (line 13)) (1.1.0)\n",
            "Requirement already satisfied: cycler>=0.10 in /usr/local/lib/python3.10/dist-packages (from matplotlib>=2.1.0->pycocotools>=2.0->-r requirements.txt (line 13)) (0.11.0)\n",
            "Requirement already satisfied: fonttools>=4.22.0 in /usr/local/lib/python3.10/dist-packages (from matplotlib>=2.1.0->pycocotools>=2.0->-r requirements.txt (line 13)) (4.41.0)\n",
            "Requirement already satisfied: kiwisolver>=1.0.1 in /usr/local/lib/python3.10/dist-packages (from matplotlib>=2.1.0->pycocotools>=2.0->-r requirements.txt (line 13)) (1.4.4)\n",
            "Requirement already satisfied: packaging>=20.0 in /usr/local/lib/python3.10/dist-packages (from matplotlib>=2.1.0->pycocotools>=2.0->-r requirements.txt (line 13)) (23.1)\n",
            "Requirement already satisfied: pyparsing>=2.3.1 in /usr/local/lib/python3.10/dist-packages (from matplotlib>=2.1.0->pycocotools>=2.0->-r requirements.txt (line 13)) (3.1.0)\n",
            "Requirement already satisfied: python-dateutil>=2.7 in /usr/local/lib/python3.10/dist-packages (from matplotlib>=2.1.0->pycocotools>=2.0->-r requirements.txt (line 13)) (2.8.2)\n",
            "Requirement already satisfied: urllib3<1.27,>=1.21.1 in /usr/local/lib/python3.10/dist-packages (from requests->torchvision>=0.9.0->-r requirements.txt (line 5)) (1.26.16)\n",
            "Requirement already satisfied: certifi>=2017.4.17 in /usr/local/lib/python3.10/dist-packages (from requests->torchvision>=0.9.0->-r requirements.txt (line 5)) (2023.5.7)\n",
            "Requirement already satisfied: charset-normalizer~=2.0.0 in /usr/local/lib/python3.10/dist-packages (from requests->torchvision>=0.9.0->-r requirements.txt (line 5)) (2.0.12)\n",
            "Requirement already satisfied: idna<4,>=2.5 in /usr/local/lib/python3.10/dist-packages (from requests->torchvision>=0.9.0->-r requirements.txt (line 5)) (3.4)\n",
            "Requirement already satisfied: MarkupSafe>=2.1.1 in /usr/local/lib/python3.10/dist-packages (from werkzeug>=1.0.1->tensorboard>=2.7.0->-r requirements.txt (line 12)) (2.1.3)\n",
            "Requirement already satisfied: markdown-it-py>=2.2.0 in /usr/local/lib/python3.10/dist-packages (from rich->onnx-simplifier>=0.3.6->-r requirements.txt (line 15)) (3.0.0)\n",
            "Requirement already satisfied: pygments<3.0.0,>=2.13.0 in /usr/local/lib/python3.10/dist-packages (from rich->onnx-simplifier>=0.3.6->-r requirements.txt (line 15)) (2.14.0)\n",
            "Requirement already satisfied: mpmath>=0.19 in /usr/local/lib/python3.10/dist-packages (from sympy->torch>=1.8.0->-r requirements.txt (line 4)) (1.3.0)\n",
            "Requirement already satisfied: mdurl~=0.1 in /usr/local/lib/python3.10/dist-packages (from markdown-it-py>=2.2.0->rich->onnx-simplifier>=0.3.6->-r requirements.txt (line 15)) (0.1.2)\n",
            "Requirement already satisfied: pyasn1<0.6.0,>=0.4.6 in /usr/local/lib/python3.10/dist-packages (from pyasn1-modules>=0.2.1->google-auth<3,>=1.6.3->tensorboard>=2.7.0->-r requirements.txt (line 12)) (0.5.0)\n",
            "Requirement already satisfied: oauthlib>=3.0.0 in /usr/local/lib/python3.10/dist-packages (from requests-oauthlib>=0.7.0->google-auth-oauthlib<1.1,>=0.5->tensorboard>=2.7.0->-r requirements.txt (line 12)) (3.2.2)\n",
            "Installing collected packages: addict, numpy, onnx, onnx-simplifier, thop\n",
            "  Attempting uninstall: numpy\n",
            "    Found existing installation: numpy 1.22.4\n",
            "    Uninstalling numpy-1.22.4:\n",
            "      Successfully uninstalled numpy-1.22.4\n",
            "\u001b[31mERROR: pip's dependency resolver does not currently take into account all the packages that are installed. This behaviour is the source of the following dependency conflicts.\n",
            "numba 0.56.4 requires numpy<1.24,>=1.18, but you have numpy 1.25.1 which is incompatible.\n",
            "tensorflow 2.12.0 requires numpy<1.24,>=1.22, but you have numpy 1.25.1 which is incompatible.\u001b[0m\u001b[31m\n",
            "\u001b[0mSuccessfully installed addict-2.4.0 numpy-1.25.1 onnx-1.14.0 onnx-simplifier-0.4.33 thop-0.1.1.post2209072238\n"
          ]
        },
        {
          "output_type": "display_data",
          "data": {
            "application/vnd.colab-display-data+json": {
              "pip_warning": {
                "packages": [
                  "numpy"
                ]
              }
            }
          },
          "metadata": {}
        }
      ],
      "source": [
        "!git clone https://github.com/meituan/YOLOv6\n",
        "%cd YOLOv6\n",
        "!pip install -r requirements.txt"
      ]
    },
    {
      "cell_type": "code",
      "source": [
        "!pip install roboflow\n",
        "\n",
        "from roboflow import Roboflow\n",
        "rf = Roboflow(api_key=\"mwbsdPvkmXbwf9oRwN1g\")\n",
        "project = rf.workspace(\"samiksha-gadhave-oyljr\").project(\"transmission-dataset-t51\")\n",
        "dataset = project.version(1).download(\"mt-yolov6\")\n"
      ],
      "metadata": {
        "colab": {
          "base_uri": "https://localhost:8080/",
          "height": 1000
        },
        "id": "inL3a-cl862v",
        "outputId": "05b05e46-44cc-485d-e983-eaddfdbbfedb"
      },
      "execution_count": null,
      "outputs": [
        {
          "output_type": "stream",
          "name": "stdout",
          "text": [
            "Collecting roboflow\n",
            "  Downloading roboflow-1.1.1-py3-none-any.whl (57 kB)\n",
            "\u001b[2K     \u001b[90m━━━━━━━━━━━━━━━━━━━━━━━━━━━━━━━━━━━━━━━━\u001b[0m \u001b[32m57.4/57.4 kB\u001b[0m \u001b[31m3.2 MB/s\u001b[0m eta \u001b[36m0:00:00\u001b[0m\n",
            "\u001b[?25hCollecting certifi==2022.12.7 (from roboflow)\n",
            "  Downloading certifi-2022.12.7-py3-none-any.whl (155 kB)\n",
            "\u001b[2K     \u001b[90m━━━━━━━━━━━━━━━━━━━━━━━━━━━━━━━━━━━━━━\u001b[0m \u001b[32m155.3/155.3 kB\u001b[0m \u001b[31m19.2 MB/s\u001b[0m eta \u001b[36m0:00:00\u001b[0m\n",
            "\u001b[?25hRequirement already satisfied: chardet==4.0.0 in /usr/local/lib/python3.10/dist-packages (from roboflow) (4.0.0)\n",
            "Collecting cycler==0.10.0 (from roboflow)\n",
            "  Downloading cycler-0.10.0-py2.py3-none-any.whl (6.5 kB)\n",
            "Collecting idna==2.10 (from roboflow)\n",
            "  Downloading idna-2.10-py2.py3-none-any.whl (58 kB)\n",
            "\u001b[2K     \u001b[90m━━━━━━━━━━━━━━━━━━━━━━━━━━━━━━━━━━━━━━━━\u001b[0m \u001b[32m58.8/58.8 kB\u001b[0m \u001b[31m8.2 MB/s\u001b[0m eta \u001b[36m0:00:00\u001b[0m\n",
            "\u001b[?25hRequirement already satisfied: kiwisolver>=1.3.1 in /usr/local/lib/python3.10/dist-packages (from roboflow) (1.4.4)\n",
            "Requirement already satisfied: matplotlib in /usr/local/lib/python3.10/dist-packages (from roboflow) (3.7.1)\n",
            "Requirement already satisfied: numpy>=1.18.5 in /usr/local/lib/python3.10/dist-packages (from roboflow) (1.25.1)\n",
            "Requirement already satisfied: opencv-python>=4.1.2 in /usr/local/lib/python3.10/dist-packages (from roboflow) (4.7.0.72)\n",
            "Requirement already satisfied: Pillow>=7.1.2 in /usr/local/lib/python3.10/dist-packages (from roboflow) (8.4.0)\n",
            "Collecting pyparsing==2.4.7 (from roboflow)\n",
            "  Downloading pyparsing-2.4.7-py2.py3-none-any.whl (67 kB)\n",
            "\u001b[2K     \u001b[90m━━━━━━━━━━━━━━━━━━━━━━━━━━━━━━━━━━━━━━━━\u001b[0m \u001b[32m67.8/67.8 kB\u001b[0m \u001b[31m5.3 MB/s\u001b[0m eta \u001b[36m0:00:00\u001b[0m\n",
            "\u001b[?25hRequirement already satisfied: python-dateutil in /usr/local/lib/python3.10/dist-packages (from roboflow) (2.8.2)\n",
            "Collecting python-dotenv (from roboflow)\n",
            "  Downloading python_dotenv-1.0.0-py3-none-any.whl (19 kB)\n",
            "Requirement already satisfied: requests in /usr/local/lib/python3.10/dist-packages (from roboflow) (2.27.1)\n",
            "Requirement already satisfied: six in /usr/local/lib/python3.10/dist-packages (from roboflow) (1.16.0)\n",
            "Collecting supervision (from roboflow)\n",
            "  Downloading supervision-0.11.1-py3-none-any.whl (55 kB)\n",
            "\u001b[2K     \u001b[90m━━━━━━━━━━━━━━━━━━━━━━━━━━━━━━━━━━━━━━━━\u001b[0m \u001b[32m55.6/55.6 kB\u001b[0m \u001b[31m3.0 MB/s\u001b[0m eta \u001b[36m0:00:00\u001b[0m\n",
            "\u001b[?25hRequirement already satisfied: urllib3>=1.26.6 in /usr/local/lib/python3.10/dist-packages (from roboflow) (1.26.16)\n",
            "Collecting wget (from roboflow)\n",
            "  Downloading wget-3.2.zip (10 kB)\n",
            "  Preparing metadata (setup.py) ... \u001b[?25l\u001b[?25hdone\n",
            "Requirement already satisfied: tqdm>=4.41.0 in /usr/local/lib/python3.10/dist-packages (from roboflow) (4.65.0)\n",
            "Requirement already satisfied: PyYAML>=5.3.1 in /usr/local/lib/python3.10/dist-packages (from roboflow) (6.0)\n",
            "Collecting requests-toolbelt (from roboflow)\n",
            "  Downloading requests_toolbelt-1.0.0-py2.py3-none-any.whl (54 kB)\n",
            "\u001b[2K     \u001b[90m━━━━━━━━━━━━━━━━━━━━━━━━━━━━━━━━━━━━━━━━\u001b[0m \u001b[32m54.5/54.5 kB\u001b[0m \u001b[31m4.4 MB/s\u001b[0m eta \u001b[36m0:00:00\u001b[0m\n",
            "\u001b[?25hRequirement already satisfied: contourpy>=1.0.1 in /usr/local/lib/python3.10/dist-packages (from matplotlib->roboflow) (1.1.0)\n",
            "Requirement already satisfied: fonttools>=4.22.0 in /usr/local/lib/python3.10/dist-packages (from matplotlib->roboflow) (4.41.0)\n",
            "Requirement already satisfied: packaging>=20.0 in /usr/local/lib/python3.10/dist-packages (from matplotlib->roboflow) (23.1)\n",
            "Requirement already satisfied: charset-normalizer~=2.0.0 in /usr/local/lib/python3.10/dist-packages (from requests->roboflow) (2.0.12)\n",
            "Building wheels for collected packages: wget\n",
            "  Building wheel for wget (setup.py) ... \u001b[?25l\u001b[?25hdone\n",
            "  Created wheel for wget: filename=wget-3.2-py3-none-any.whl size=9657 sha256=897a1d77b3e1e90b8fe4ebd8dd7bac333c6dc117692e3ab742a604a647d62d93\n",
            "  Stored in directory: /root/.cache/pip/wheels/8b/f1/7f/5c94f0a7a505ca1c81cd1d9208ae2064675d97582078e6c769\n",
            "Successfully built wget\n",
            "Installing collected packages: wget, python-dotenv, pyparsing, idna, cycler, certifi, supervision, requests-toolbelt, roboflow\n",
            "  Attempting uninstall: pyparsing\n",
            "    Found existing installation: pyparsing 3.1.0\n",
            "    Uninstalling pyparsing-3.1.0:\n",
            "      Successfully uninstalled pyparsing-3.1.0\n",
            "  Attempting uninstall: idna\n",
            "    Found existing installation: idna 3.4\n",
            "    Uninstalling idna-3.4:\n",
            "      Successfully uninstalled idna-3.4\n",
            "  Attempting uninstall: cycler\n",
            "    Found existing installation: cycler 0.11.0\n",
            "    Uninstalling cycler-0.11.0:\n",
            "      Successfully uninstalled cycler-0.11.0\n",
            "  Attempting uninstall: certifi\n",
            "    Found existing installation: certifi 2023.5.7\n",
            "    Uninstalling certifi-2023.5.7:\n",
            "      Successfully uninstalled certifi-2023.5.7\n",
            "\u001b[31mERROR: pip's dependency resolver does not currently take into account all the packages that are installed. This behaviour is the source of the following dependency conflicts.\n",
            "tensorflow 2.12.0 requires numpy<1.24,>=1.22, but you have numpy 1.25.1 which is incompatible.\u001b[0m\u001b[31m\n",
            "\u001b[0mSuccessfully installed certifi-2022.12.7 cycler-0.10.0 idna-2.10 pyparsing-2.4.7 python-dotenv-1.0.0 requests-toolbelt-1.0.0 roboflow-1.1.1 supervision-0.11.1 wget-3.2\n"
          ]
        },
        {
          "output_type": "display_data",
          "data": {
            "application/vnd.colab-display-data+json": {
              "pip_warning": {
                "packages": [
                  "certifi",
                  "cycler",
                  "pyparsing"
                ]
              }
            }
          },
          "metadata": {}
        },
        {
          "output_type": "stream",
          "name": "stdout",
          "text": [
            "loading Roboflow workspace...\n",
            "loading Roboflow project...\n",
            "Downloading Dataset Version Zip in Transmission-dataset-T51-1 to mt-yolov6: 100% [59396606 / 59396606] bytes\n"
          ]
        },
        {
          "output_type": "stream",
          "name": "stderr",
          "text": [
            "Extracting Dataset Version Zip to Transmission-dataset-T51-1 in mt-yolov6:: 100%|██████████| 1281/1281 [00:00<00:00, 2041.84it/s]\n"
          ]
        }
      ]
    },
    {
      "cell_type": "code",
      "source": [
        "!python tools/train.py --batch 32 --conf configs/yolov6l.py --epochs 100 --img-size 416 --data {dataset.location}/data.yaml --device 0"
      ],
      "metadata": {
        "colab": {
          "base_uri": "https://localhost:8080/"
        },
        "id": "pWFNOBbg87AV",
        "outputId": "a82dd76c-8759-4453-8731-1944f8e224bb"
      },
      "execution_count": null,
      "outputs": [
        {
          "output_type": "stream",
          "name": "stdout",
          "text": [
            "2023-07-19 06:53:40.310742: I tensorflow/core/platform/cpu_feature_guard.cc:182] This TensorFlow binary is optimized to use available CPU instructions in performance-critical operations.\n",
            "To enable the following instructions: AVX2 FMA, in other operations, rebuild TensorFlow with the appropriate compiler flags.\n",
            "2023-07-19 06:53:41.927315: W tensorflow/compiler/tf2tensorrt/utils/py_utils.cc:38] TF-TRT Warning: Could not find TensorRT\n",
            "Traceback (most recent call last):\n",
            "  File \"/usr/local/lib/python3.10/dist-packages/tensorboard/compat/__init__.py\", line 42, in tf\n",
            "    from tensorboard.compat import notf  # noqa: F401\n",
            "ImportError: cannot import name 'notf' from 'tensorboard.compat' (/usr/local/lib/python3.10/dist-packages/tensorboard/compat/__init__.py)\n",
            "\n",
            "During handling of the above exception, another exception occurred:\n",
            "\n",
            "Traceback (most recent call last):\n",
            "  File \"/content/YOLOv6/tools/train.py\", line 18, in <module>\n",
            "    from yolov6.core.engine import Trainer\n",
            "  File \"/content/YOLOv6/yolov6/core/engine.py\", line 17, in <module>\n",
            "    from torch.utils.tensorboard import SummaryWriter\n",
            "  File \"/usr/local/lib/python3.10/dist-packages/torch/utils/tensorboard/__init__.py\", line 12, in <module>\n",
            "    from .writer import FileWriter, SummaryWriter  # noqa: F401\n",
            "  File \"/usr/local/lib/python3.10/dist-packages/torch/utils/tensorboard/writer.py\", line 16, in <module>\n",
            "    from ._embedding import (\n",
            "  File \"/usr/local/lib/python3.10/dist-packages/torch/utils/tensorboard/_embedding.py\", line 9, in <module>\n",
            "    _HAS_GFILE_JOIN = hasattr(tf.io.gfile, \"join\")\n",
            "  File \"/usr/local/lib/python3.10/dist-packages/tensorboard/lazy.py\", line 65, in __getattr__\n",
            "    return getattr(load_once(self), attr_name)\n",
            "  File \"/usr/local/lib/python3.10/dist-packages/tensorboard/lazy.py\", line 97, in wrapper\n",
            "    cache[arg] = f(arg)\n",
            "  File \"/usr/local/lib/python3.10/dist-packages/tensorboard/lazy.py\", line 50, in load_once\n",
            "    module = load_fn()\n",
            "  File \"/usr/local/lib/python3.10/dist-packages/tensorboard/compat/__init__.py\", line 45, in tf\n",
            "    import tensorflow\n",
            "  File \"/usr/local/lib/python3.10/dist-packages/tensorflow/__init__.py\", line 37, in <module>\n",
            "    from tensorflow.python.tools import module_util as _module_util\n",
            "  File \"/usr/local/lib/python3.10/dist-packages/tensorflow/python/__init__.py\", line 63, in <module>\n",
            "    from tensorflow.python.ops.linalg import linalg\n",
            "  File \"/usr/local/lib/python3.10/dist-packages/tensorflow/python/ops/linalg/linalg.py\", line 19, in <module>\n",
            "    from tensorflow.python.ops.linalg import adjoint_registrations as _adjoint_registrations\n",
            "  File \"/usr/local/lib/python3.10/dist-packages/tensorflow/python/ops/linalg/adjoint_registrations.py\", line 26, in <module>\n",
            "    from tensorflow.python.ops.linalg import linear_operator_kronecker\n",
            "  File \"<frozen importlib._bootstrap>\", line 1027, in _find_and_load\n",
            "  File \"<frozen importlib._bootstrap>\", line 1006, in _find_and_load_unlocked\n",
            "  File \"<frozen importlib._bootstrap>\", line 688, in _load_unlocked\n",
            "  File \"<frozen importlib._bootstrap_external>\", line 879, in exec_module\n",
            "  File \"<frozen importlib._bootstrap_external>\", line 1012, in get_code\n",
            "  File \"<frozen importlib._bootstrap_external>\", line 672, in _compile_bytecode\n",
            "KeyboardInterrupt\n",
            "^C\n"
          ]
        }
      ]
    },
    {
      "cell_type": "code",
      "source": [
        "!python tools/eval.py --data {dataset.location}/data.yaml --img-size 416 --weights runs/train/exp/weights/best_ckpt.pt --device 0"
      ],
      "metadata": {
        "colab": {
          "base_uri": "https://localhost:8080/"
        },
        "id": "fTKViaZZ9IV3",
        "outputId": "34dd3578-406d-404d-cc20-292b0816e5de"
      },
      "execution_count": null,
      "outputs": [
        {
          "output_type": "stream",
          "name": "stdout",
          "text": [
            "Namespace(data='/content/YOLOv6/Transmission-dataset-T51-1/data.yaml', weights='runs/train/exp/weights/best_ckpt.pt', batch_size=32, img_size=416, conf_thres=0.03, iou_thres=0.65, task='val', device='0', half=False, save_dir='runs/val/', name='exp', shrink_size=0, infer_on_rect=True, reproduce_640_eval=False, eval_config_file='./configs/experiment/eval_640_repro.py', do_coco_metric=True, do_pr_metric=False, plot_curve=True, plot_confusion_matrix=False, verbose=False, config_file='', specific_shape=False, height=None, width=None)\n",
            "Loading checkpoint from runs/train/exp/weights/best_ckpt.pt\n",
            "\n",
            "Fusing model...\n",
            "Switch model to deploy modality.\n",
            "Model Summary: Params: 59.54M, Gflops: 63.59\n",
            "img record infomation path is:Transmission-dataset-T51-1/images/.valid_cache.json\n",
            "Val: Checking formats of labels with 2 process(es): \n",
            "127 label(s) found, 0 label(s) missing, 0 label(s) empty, 0 invalid label files: 100% 127/127 [00:00<00:00, 2979.49it/s]\n",
            "Convert to COCO format\n",
            "100% 127/127 [00:00<00:00, 21345.49it/s]\n",
            "Convert to COCO format finished. Resutls saved in Transmission-dataset-T51-1/annotations/instances_valid.json\n",
            "Val: Final numbers of valid images: 127/ labels: 127. \n",
            "0.2s for dataset initialization.\n",
            "Inferencing model in val datasets.: 100% 4/4 [00:05<00:00,  1.46s/it]\n",
            "\n",
            "Evaluating speed.\n",
            "Average pre-process time: 0.10 ms\n",
            "Average inference time: 14.92 ms\n",
            "Average NMS time: 6.45 ms\n",
            "\n",
            "Evaluating mAP by pycocotools.\n",
            "Saving runs/val/exp/predictions.json...\n",
            "loading annotations into memory...\n",
            "Done (t=0.01s)\n",
            "creating index...\n",
            "index created!\n",
            "Loading and preparing results...\n",
            "DONE (t=0.27s)\n",
            "creating index...\n",
            "index created!\n",
            "Running per image evaluation...\n",
            "Evaluate annotation type *bbox*\n",
            "DONE (t=2.54s).\n",
            "Accumulating evaluation results...\n",
            "DONE (t=0.40s).\n",
            " Average Precision  (AP) @[ IoU=0.50:0.95 | area=   all | maxDets=100 ] = 0.157\n",
            " Average Precision  (AP) @[ IoU=0.50      | area=   all | maxDets=100 ] = 0.320\n",
            " Average Precision  (AP) @[ IoU=0.75      | area=   all | maxDets=100 ] = 0.135\n",
            " Average Precision  (AP) @[ IoU=0.50:0.95 | area= small | maxDets=100 ] = 0.021\n",
            " Average Precision  (AP) @[ IoU=0.50:0.95 | area=medium | maxDets=100 ] = 0.093\n",
            " Average Precision  (AP) @[ IoU=0.50:0.95 | area= large | maxDets=100 ] = 0.211\n",
            " Average Recall     (AR) @[ IoU=0.50:0.95 | area=   all | maxDets=  1 ] = 0.125\n",
            " Average Recall     (AR) @[ IoU=0.50:0.95 | area=   all | maxDets= 10 ] = 0.282\n",
            " Average Recall     (AR) @[ IoU=0.50:0.95 | area=   all | maxDets=100 ] = 0.314\n",
            " Average Recall     (AR) @[ IoU=0.50:0.95 | area= small | maxDets=100 ] = 0.045\n",
            " Average Recall     (AR) @[ IoU=0.50:0.95 | area=medium | maxDets=100 ] = 0.239\n",
            " Average Recall     (AR) @[ IoU=0.50:0.95 | area= large | maxDets=100 ] = 0.314\n",
            "Results saved to runs/val/exp\n"
          ]
        }
      ]
    },
    {
      "cell_type": "code",
      "source": [
        "!python tools/infer.py --yaml {dataset.location}/data.yaml  --weights runs/train/exp/weights/best_ckpt.pt --source {dataset.location}/images/test/DJI_0779_jpg.rf.06dbb09bb43237bf4a74085a2542a9e2.jpg --device 0\n"
      ],
      "metadata": {
        "colab": {
          "base_uri": "https://localhost:8080/"
        },
        "id": "cSwG3wO79SJW",
        "outputId": "5335ad70-a7fc-4c96-d906-2e6e5a18cbe0"
      },
      "execution_count": null,
      "outputs": [
        {
          "output_type": "stream",
          "name": "stdout",
          "text": [
            "Namespace(weights='runs/train/exp/weights/best_ckpt.pt', source='/content/YOLOv6/Transmission-dataset-T51-1/images/test/DJI_0779_jpg.rf.06dbb09bb43237bf4a74085a2542a9e2.jpg', webcam=False, webcam_addr='0', yaml='/content/YOLOv6/Transmission-dataset-T51-1/data.yaml', img_size=[640, 640], conf_thres=0.4, iou_thres=0.45, max_det=1000, device='0', save_txt=False, not_save_img=False, save_dir=None, view_img=False, classes=None, agnostic_nms=False, project='runs/inference', name='exp', hide_labels=False, hide_conf=False, half=False)\n",
            "Loading checkpoint from runs/train/exp/weights/best_ckpt.pt\n",
            "\n",
            "Fusing model...\n",
            "Switch model to deploy modality.\n",
            "100% 1/1 [00:00<00:00,  7.29it/s]\n",
            "Results saved to runs/inference/exp\n"
          ]
        }
      ]
    },
    {
      "cell_type": "code",
      "source": [
        "!python tools/infer.py --yaml {dataset.location}/data.yaml  --weights runs/train/exp/weights/best_ckpt.pt --source {dataset.location}/images/test/DJI_0785_jpg.rf.ae12a485ef4a0239bc5002ca550afa16.jpg --device 0"
      ],
      "metadata": {
        "colab": {
          "base_uri": "https://localhost:8080/"
        },
        "id": "NcCtpPIs9SV-",
        "outputId": "82ca58ff-f798-4a2b-e978-45eb292c5413"
      },
      "execution_count": null,
      "outputs": [
        {
          "output_type": "stream",
          "name": "stdout",
          "text": [
            "Namespace(weights='runs/train/exp/weights/best_ckpt.pt', source='/content/YOLOv6/Transmission-dataset-T51-1/images/test/DJI_0785_jpg.rf.ae12a485ef4a0239bc5002ca550afa16.jpg', webcam=False, webcam_addr='0', yaml='/content/YOLOv6/Transmission-dataset-T51-1/data.yaml', img_size=[640, 640], conf_thres=0.4, iou_thres=0.45, max_det=1000, device='0', save_txt=False, not_save_img=False, save_dir=None, view_img=False, classes=None, agnostic_nms=False, project='runs/inference', name='exp', hide_labels=False, hide_conf=False, half=False)\n",
            "Save directory already existed\n",
            "Loading checkpoint from runs/train/exp/weights/best_ckpt.pt\n",
            "\n",
            "Fusing model...\n",
            "Switch model to deploy modality.\n",
            "100% 1/1 [00:00<00:00, 10.69it/s]\n",
            "Results saved to runs/inference/exp\n"
          ]
        }
      ]
    },
    {
      "cell_type": "code",
      "source": [
        "!python tools/infer.py --yaml {dataset.location}/data.yaml  --weights runs/train/exp/weights/best_ckpt.pt --source {dataset.location}/images/test/DJI_0795_jpg.rf.28f003161514463be3421b687058c456.jpg --device 0"
      ],
      "metadata": {
        "colab": {
          "base_uri": "https://localhost:8080/"
        },
        "id": "Trvv5Ydq-q1g",
        "outputId": "900f27a3-21fa-4d3f-9260-5fed44682efa"
      },
      "execution_count": null,
      "outputs": [
        {
          "output_type": "stream",
          "name": "stdout",
          "text": [
            "Namespace(weights='runs/train/exp/weights/best_ckpt.pt', source='/content/YOLOv6/Transmission-dataset-T51-1/images/test/DJI_0795_jpg.rf.28f003161514463be3421b687058c456.jpg', webcam=False, webcam_addr='0', yaml='/content/YOLOv6/Transmission-dataset-T51-1/data.yaml', img_size=[640, 640], conf_thres=0.4, iou_thres=0.45, max_det=1000, device='0', save_txt=False, not_save_img=False, save_dir=None, view_img=False, classes=None, agnostic_nms=False, project='runs/inference', name='exp', hide_labels=False, hide_conf=False, half=False)\n",
            "Save directory already existed\n",
            "Loading checkpoint from runs/train/exp/weights/best_ckpt.pt\n",
            "\n",
            "Fusing model...\n",
            "Switch model to deploy modality.\n",
            "100% 1/1 [00:00<00:00,  9.37it/s]\n",
            "Results saved to runs/inference/exp\n"
          ]
        }
      ]
    },
    {
      "cell_type": "code",
      "source": [
        "!python tools/infer.py --yaml {dataset.location}/data.yaml  --weights runs/train/exp/weights/best_ckpt.pt --source {dataset.location}/images/test/DJI_0811_jpg.rf.1ca1bd10de0614ec32aa7e37f4c3af9a.jpg --device 0"
      ],
      "metadata": {
        "colab": {
          "base_uri": "https://localhost:8080/"
        },
        "id": "Lsz7h8GL-q_t",
        "outputId": "323b1e5b-88fc-457c-a313-a8eb6d8003c2"
      },
      "execution_count": null,
      "outputs": [
        {
          "output_type": "stream",
          "name": "stdout",
          "text": [
            "Namespace(weights='runs/train/exp/weights/best_ckpt.pt', source='/content/YOLOv6/Transmission-dataset-T51-1/images/test/DJI_0811_jpg.rf.1ca1bd10de0614ec32aa7e37f4c3af9a.jpg', webcam=False, webcam_addr='0', yaml='/content/YOLOv6/Transmission-dataset-T51-1/data.yaml', img_size=[640, 640], conf_thres=0.4, iou_thres=0.45, max_det=1000, device='0', save_txt=False, not_save_img=False, save_dir=None, view_img=False, classes=None, agnostic_nms=False, project='runs/inference', name='exp', hide_labels=False, hide_conf=False, half=False)\n",
            "Save directory already existed\n",
            "Loading checkpoint from runs/train/exp/weights/best_ckpt.pt\n",
            "\n",
            "Fusing model...\n",
            "Switch model to deploy modality.\n",
            "100% 1/1 [00:00<00:00,  9.48it/s]\n",
            "Results saved to runs/inference/exp\n"
          ]
        }
      ]
    },
    {
      "cell_type": "code",
      "source": [
        "!python tools/infer.py --yaml {dataset.location}/data.yaml  --weights runs/train/exp/weights/best_ckpt.pt --source {dataset.location}/images/test/DJI_0813_jpg.rf.89b7eda37dfd3a78bc10bc8ca296ffb3.jpg --device 0"
      ],
      "metadata": {
        "colab": {
          "base_uri": "https://localhost:8080/"
        },
        "id": "Yx5xVBJB-rJ-",
        "outputId": "1baef495-3d67-415e-c4ef-c5284476afe8"
      },
      "execution_count": null,
      "outputs": [
        {
          "output_type": "stream",
          "name": "stdout",
          "text": [
            "Namespace(weights='runs/train/exp/weights/best_ckpt.pt', source='/content/YOLOv6/Transmission-dataset-T51-1/images/test/DJI_0813_jpg.rf.89b7eda37dfd3a78bc10bc8ca296ffb3.jpg', webcam=False, webcam_addr='0', yaml='/content/YOLOv6/Transmission-dataset-T51-1/data.yaml', img_size=[640, 640], conf_thres=0.4, iou_thres=0.45, max_det=1000, device='0', save_txt=False, not_save_img=False, save_dir=None, view_img=False, classes=None, agnostic_nms=False, project='runs/inference', name='exp', hide_labels=False, hide_conf=False, half=False)\n",
            "Save directory already existed\n",
            "Loading checkpoint from runs/train/exp/weights/best_ckpt.pt\n",
            "\n",
            "Fusing model...\n",
            "Switch model to deploy modality.\n",
            "100% 1/1 [00:00<00:00, 10.27it/s]\n",
            "Results saved to runs/inference/exp\n"
          ]
        }
      ]
    },
    {
      "cell_type": "code",
      "source": [
        "!python tools/infer.py --yaml {dataset.location}/data.yaml  --weights runs/train/exp/weights/best_ckpt.pt --source {dataset.location}/images/test/DJI_0815_jpg.rf.32cc94256fae3929e454614a880c357e.jpg --device 0"
      ],
      "metadata": {
        "colab": {
          "base_uri": "https://localhost:8080/"
        },
        "id": "BbZpsGx1-uBe",
        "outputId": "b0ab046f-2fac-42be-f474-eeced27cb083"
      },
      "execution_count": null,
      "outputs": [
        {
          "output_type": "stream",
          "name": "stdout",
          "text": [
            "Namespace(weights='runs/train/exp/weights/best_ckpt.pt', source='/content/YOLOv6/Transmission-dataset-T51-1/images/test/DJI_0815_jpg.rf.32cc94256fae3929e454614a880c357e.jpg', webcam=False, webcam_addr='0', yaml='/content/YOLOv6/Transmission-dataset-T51-1/data.yaml', img_size=[640, 640], conf_thres=0.4, iou_thres=0.45, max_det=1000, device='0', save_txt=False, not_save_img=False, save_dir=None, view_img=False, classes=None, agnostic_nms=False, project='runs/inference', name='exp', hide_labels=False, hide_conf=False, half=False)\n",
            "Save directory already existed\n",
            "Loading checkpoint from runs/train/exp/weights/best_ckpt.pt\n",
            "\n",
            "Fusing model...\n",
            "Switch model to deploy modality.\n",
            "100% 1/1 [00:00<00:00, 10.95it/s]\n",
            "Results saved to runs/inference/exp\n"
          ]
        }
      ]
    },
    {
      "cell_type": "code",
      "source": [
        "!python tools/infer.py --yaml {dataset.location}/data.yaml  --weights runs/train/exp/weights/best_ckpt.pt --source {dataset.location}/images/test/DJI_0851_jpg.rf.9a219ab01fd23018d6269ee36eb07a9f.jpg --device 0"
      ],
      "metadata": {
        "colab": {
          "base_uri": "https://localhost:8080/"
        },
        "id": "yTnRTbdK-uJm",
        "outputId": "e149291e-660d-4d0c-9f1f-0dddc82bcea1"
      },
      "execution_count": null,
      "outputs": [
        {
          "output_type": "stream",
          "name": "stdout",
          "text": [
            "Namespace(weights='runs/train/exp/weights/best_ckpt.pt', source='/content/YOLOv6/Transmission-dataset-T51-1/images/test/DJI_0851_jpg.rf.9a219ab01fd23018d6269ee36eb07a9f.jpg', webcam=False, webcam_addr='0', yaml='/content/YOLOv6/Transmission-dataset-T51-1/data.yaml', img_size=[640, 640], conf_thres=0.4, iou_thres=0.45, max_det=1000, device='0', save_txt=False, not_save_img=False, save_dir=None, view_img=False, classes=None, agnostic_nms=False, project='runs/inference', name='exp', hide_labels=False, hide_conf=False, half=False)\n",
            "Save directory already existed\n",
            "Loading checkpoint from runs/train/exp/weights/best_ckpt.pt\n",
            "\n",
            "Fusing model...\n",
            "Switch model to deploy modality.\n",
            "100% 1/1 [00:00<00:00, 10.52it/s]\n",
            "Results saved to runs/inference/exp\n"
          ]
        }
      ]
    },
    {
      "cell_type": "code",
      "source": [
        "!python tools/infer.py --yaml {dataset.location}/data.yaml  --weights runs/train/exp/weights/best_ckpt.pt --source {dataset.location}/images/test/DJI_0857_jpg.rf.403b927f586d5a9c18727429b0745586.jpg --device 0"
      ],
      "metadata": {
        "colab": {
          "base_uri": "https://localhost:8080/"
        },
        "id": "iwXLIrUa-uO9",
        "outputId": "ad9e7830-d501-4b75-a56a-204365497ad0"
      },
      "execution_count": null,
      "outputs": [
        {
          "output_type": "stream",
          "name": "stdout",
          "text": [
            "Namespace(weights='runs/train/exp/weights/best_ckpt.pt', source='/content/YOLOv6/Transmission-dataset-T51-1/images/test/DJI_0857_jpg.rf.403b927f586d5a9c18727429b0745586.jpg', webcam=False, webcam_addr='0', yaml='/content/YOLOv6/Transmission-dataset-T51-1/data.yaml', img_size=[640, 640], conf_thres=0.4, iou_thres=0.45, max_det=1000, device='0', save_txt=False, not_save_img=False, save_dir=None, view_img=False, classes=None, agnostic_nms=False, project='runs/inference', name='exp', hide_labels=False, hide_conf=False, half=False)\n",
            "Save directory already existed\n",
            "Loading checkpoint from runs/train/exp/weights/best_ckpt.pt\n",
            "\n",
            "Fusing model...\n",
            "Switch model to deploy modality.\n",
            "100% 1/1 [00:00<00:00, 10.52it/s]\n",
            "Results saved to runs/inference/exp\n"
          ]
        }
      ]
    },
    {
      "cell_type": "code",
      "source": [
        "!python tools/infer.py --yaml {dataset.location}/data.yaml  --weights runs/train/exp/weights/best_ckpt.pt --source {dataset.location}/images/test/DJI_0863_jpg.rf.b33f088418661bfd484376a5f4f4d731.jpg --device 0"
      ],
      "metadata": {
        "colab": {
          "base_uri": "https://localhost:8080/"
        },
        "id": "KA2Mam8O-wu-",
        "outputId": "8eae75a1-cac1-4b72-b223-01f7291f2804"
      },
      "execution_count": null,
      "outputs": [
        {
          "output_type": "stream",
          "name": "stdout",
          "text": [
            "Namespace(weights='runs/train/exp/weights/best_ckpt.pt', source='/content/YOLOv6/Transmission-dataset-T51-1/images/test/DJI_0863_jpg.rf.b33f088418661bfd484376a5f4f4d731.jpg', webcam=False, webcam_addr='0', yaml='/content/YOLOv6/Transmission-dataset-T51-1/data.yaml', img_size=[640, 640], conf_thres=0.4, iou_thres=0.45, max_det=1000, device='0', save_txt=False, not_save_img=False, save_dir=None, view_img=False, classes=None, agnostic_nms=False, project='runs/inference', name='exp', hide_labels=False, hide_conf=False, half=False)\n",
            "Save directory already existed\n",
            "Loading checkpoint from runs/train/exp/weights/best_ckpt.pt\n",
            "\n",
            "Fusing model...\n",
            "Switch model to deploy modality.\n",
            "100% 1/1 [00:00<00:00, 10.32it/s]\n",
            "Results saved to runs/inference/exp\n"
          ]
        }
      ]
    },
    {
      "cell_type": "code",
      "source": [
        "!python tools/infer.py --yaml {dataset.location}/data.yaml  --weights runs/train/exp/weights/best_ckpt.pt --source {dataset.location}/images/test/DJI_0865_jpg.rf.b0a4cf1bf20e2c8d2529c6e9aa37f6e0.jpg --device 0"
      ],
      "metadata": {
        "colab": {
          "base_uri": "https://localhost:8080/"
        },
        "id": "yl5lr0Ba-w2O",
        "outputId": "169ecc4b-f38f-4310-8024-22c161fbb5fe"
      },
      "execution_count": null,
      "outputs": [
        {
          "output_type": "stream",
          "name": "stdout",
          "text": [
            "Namespace(weights='runs/train/exp/weights/best_ckpt.pt', source='/content/YOLOv6/Transmission-dataset-T51-1/images/test/DJI_0865_jpg.rf.b0a4cf1bf20e2c8d2529c6e9aa37f6e0.jpg', webcam=False, webcam_addr='0', yaml='/content/YOLOv6/Transmission-dataset-T51-1/data.yaml', img_size=[640, 640], conf_thres=0.4, iou_thres=0.45, max_det=1000, device='0', save_txt=False, not_save_img=False, save_dir=None, view_img=False, classes=None, agnostic_nms=False, project='runs/inference', name='exp', hide_labels=False, hide_conf=False, half=False)\n",
            "Save directory already existed\n",
            "Loading checkpoint from runs/train/exp/weights/best_ckpt.pt\n",
            "\n",
            "Fusing model...\n",
            "Switch model to deploy modality.\n",
            "100% 1/1 [00:00<00:00,  9.59it/s]\n",
            "Results saved to runs/inference/exp\n"
          ]
        }
      ]
    },
    {
      "cell_type": "code",
      "source": [
        "!python tools/infer.py --yaml {dataset.location}/data.yaml  --weights runs/train/exp/weights/best_ckpt.pt --source {dataset.location}/images/test/DJI_0885_jpg.rf.4a9e1412d8a7f613c1a38d1512162687.jpg --device 0"
      ],
      "metadata": {
        "colab": {
          "base_uri": "https://localhost:8080/"
        },
        "id": "t_3CGHUK-y5-",
        "outputId": "ba459e5f-5464-431e-9f18-af57bca3995d"
      },
      "execution_count": null,
      "outputs": [
        {
          "output_type": "stream",
          "name": "stdout",
          "text": [
            "Namespace(weights='runs/train/exp/weights/best_ckpt.pt', source='/content/YOLOv6/Transmission-dataset-T51-1/images/test/DJI_0885_jpg.rf.4a9e1412d8a7f613c1a38d1512162687.jpg', webcam=False, webcam_addr='0', yaml='/content/YOLOv6/Transmission-dataset-T51-1/data.yaml', img_size=[640, 640], conf_thres=0.4, iou_thres=0.45, max_det=1000, device='0', save_txt=False, not_save_img=False, save_dir=None, view_img=False, classes=None, agnostic_nms=False, project='runs/inference', name='exp', hide_labels=False, hide_conf=False, half=False)\n",
            "Save directory already existed\n",
            "Loading checkpoint from runs/train/exp/weights/best_ckpt.pt\n",
            "\n",
            "Fusing model...\n",
            "Switch model to deploy modality.\n",
            "100% 1/1 [00:00<00:00,  9.52it/s]\n",
            "Results saved to runs/inference/exp\n"
          ]
        }
      ]
    },
    {
      "cell_type": "code",
      "source": [
        "!python tools/infer.py --yaml {dataset.location}/data.yaml  --weights runs/train/exp/weights/best_ckpt.pt --source {dataset.location}/images/test/DJI_0923_jpg.rf.0399eaa5ea18374a3616e591080dcdca.jpg --device 0"
      ],
      "metadata": {
        "colab": {
          "base_uri": "https://localhost:8080/"
        },
        "id": "-Fdx9HEg-zCm",
        "outputId": "a747de8b-5a6f-4c1e-af69-93b108500aaa"
      },
      "execution_count": null,
      "outputs": [
        {
          "output_type": "stream",
          "name": "stdout",
          "text": [
            "Namespace(weights='runs/train/exp/weights/best_ckpt.pt', source='/content/YOLOv6/Transmission-dataset-T51-1/images/test/DJI_0923_jpg.rf.0399eaa5ea18374a3616e591080dcdca.jpg', webcam=False, webcam_addr='0', yaml='/content/YOLOv6/Transmission-dataset-T51-1/data.yaml', img_size=[640, 640], conf_thres=0.4, iou_thres=0.45, max_det=1000, device='0', save_txt=False, not_save_img=False, save_dir=None, view_img=False, classes=None, agnostic_nms=False, project='runs/inference', name='exp', hide_labels=False, hide_conf=False, half=False)\n",
            "Save directory already existed\n",
            "Loading checkpoint from runs/train/exp/weights/best_ckpt.pt\n",
            "\n",
            "Fusing model...\n",
            "Switch model to deploy modality.\n",
            "100% 1/1 [00:00<00:00, 10.58it/s]\n",
            "Results saved to runs/inference/exp\n"
          ]
        }
      ]
    },
    {
      "cell_type": "code",
      "source": [
        "!mkdir save_images_test"
      ],
      "metadata": {
        "id": "UgGS_G_IIKtK"
      },
      "execution_count": null,
      "outputs": []
    },
    {
      "cell_type": "code",
      "execution_count": null,
      "metadata": {
        "colab": {
          "base_uri": "https://localhost:8080/"
        },
        "id": "MsmLH55uQCjn",
        "outputId": "fab9edf1-a233-487d-b37b-499bf29cb492"
      },
      "outputs": [
        {
          "output_type": "stream",
          "name": "stdout",
          "text": [
            "./runs/inference/exp/DJI_0779_jpg.rf.06dbb09bb43237bf4a74085a2542a9e2.jpg\n"
          ]
        },
        {
          "output_type": "execute_result",
          "data": {
            "text/plain": [
              "1"
            ]
          },
          "metadata": {},
          "execution_count": 19
        }
      ],
      "source": [
        "import cv2\n",
        "import os\n",
        "import random\n",
        "label_folder = r'/content/YOLOv6/Transmission-dataset-T51-1/labels'\n",
        "raw_images_folder = r'/content/YOLOv6/Transmission-dataset-T51-1/images'\n",
        "save_images_folder = r'/content/YOLOv6/save_images_test'\n",
        "name_list_path = r'/content/YOLOv6/Transmission-dataset-T51-1/labels/test'\n",
        "classes_path = r'/content/YOLOv6/Transmission-dataset-T51-1'\n",
        "image_name=r'./runs/inference/exp/DJI_0779_jpg.rf.06dbb09bb43237bf4a74085a2542a9e2.jpg'\n",
        "label=name_of_class='transmissionline'\n",
        "\n",
        "def plot_one_box(x, image, color=None, label=name_of_class,line_thickness=None):\n",
        "\n",
        "    tl = line_thickness or round(0.002 * (image.shape[0] + image.shape[1]) / 2) + 1  # line/font thickness\n",
        "    color = color or [random.randint(0, 255) for _ in range(3)]\n",
        "    c1, c2 = (int(x[0]), int(x[1])), (int(x[2]), int(x[3]))\n",
        "    cv2.rectangle(image, c1, c2, color, thickness=tl, lineType=cv2.LINE_AA)\n",
        "    if label:\n",
        "        tf = max(tl - 1, 1)  # font thickness\n",
        "        t_size = cv2.getTextSize(str(label), 0, fontScale=tl / 3,thickness=tf)[0]\n",
        "        c2 = c1[0] + t_size[0], c1[1] - t_size[1] - 3\n",
        "        cv2.rectangle(image, c1, c2, color, -1, cv2.LINE_AA)  # filled\n",
        "        cv2.putText(image, str(label), (c1[0], c1[1] - 2), 0, tl / 3, [225, 255, 255], thickness=tf, lineType=cv2.LINE_AA)\n",
        "def draw_box_on_image(image_name, classes_path, label_folder, raw_images_folder, save_images_folder ):\n",
        "    txt_path  = r\"/content/YOLOv6/Transmission-dataset-T51-1/labels/test/DJI_0779_jpg.rf.06dbb09bb43237bf4a74085a2542a9e2.txt\"\n",
        "    print(image_name)\n",
        "    if image_name == '.DS_Store':\n",
        "        return 0\n",
        "    image_path = r\"./runs/inference/exp/DJI_0779_jpg.rf.06dbb09bb43237bf4a74085a2542a9e2.jpg\"\n",
        "    save_file_path = r\"/content/YOLOv6/save_images_test/DJI_0779\"\n",
        "    source_file = open(txt_path) if os.path.exists(txt_path) else []\n",
        "    image = cv2.imread(image_path)\n",
        "    try:\n",
        "        height, width, channels = image.shape\n",
        "    except:\n",
        "        print('no shape info.')\n",
        "        return 0\n",
        "    box_number = 0\n",
        "    for line in source_file:\n",
        "        staff = line.split()\n",
        "        class_idx = int(staff[0])\n",
        "        x_center, y_center, w, h = float(staff[1])*width, float(staff[2])*height, float(staff[3])*width, float(staff[4])*height\n",
        "        x1 = round(x_center-w/2)\n",
        "        y1 = round(y_center-h/2)\n",
        "        x2 = round(x_center+w/2)\n",
        "        y2 = round(y_center+h/2)\n",
        "        plot_one_box([x1,y1,x2,y2], image,  label=name_of_class, line_thickness=None)\n",
        "        cv2.imwrite(r\"/content/YOLOv6/save_images_test/DJI_0779.jpg\",image)\n",
        "        box_number += 1\n",
        "        return box_number\n",
        "draw_box_on_image(image_name, classes_path,  label_folder, raw_images_folder, save_images_folder )\n",
        "\n",
        "\n",
        "\n"
      ]
    },
    {
      "cell_type": "code",
      "execution_count": null,
      "metadata": {
        "colab": {
          "base_uri": "https://localhost:8080/"
        },
        "outputId": "fd6b16c5-f254-4252-e8e4-31f8a7233c5a",
        "id": "5N1DS5WGBwA-"
      },
      "outputs": [
        {
          "output_type": "stream",
          "name": "stdout",
          "text": [
            "./runs/inference/exp/DJI_0785_jpg.rf.ae12a485ef4a0239bc5002ca550afa16.jpg\n"
          ]
        },
        {
          "output_type": "execute_result",
          "data": {
            "text/plain": [
              "1"
            ]
          },
          "metadata": {},
          "execution_count": 20
        }
      ],
      "source": [
        "import cv2\n",
        "import os\n",
        "import random\n",
        "label_folder = r'/content/YOLOv6/Transmission-dataset-T51-1/labels'\n",
        "raw_images_folder = r'/content/YOLOv6/Transmission-dataset-T51-1/images'\n",
        "save_images_folder = r'/content/YOLOv6/save_images_test'\n",
        "name_list_path = r'/content/YOLOv6/Transmission-dataset-T51-1/labels/test'\n",
        "classes_path = r'/content/YOLOv6/Transmission-dataset-T51-1'\n",
        "image_name=r'./runs/inference/exp/DJI_0785_jpg.rf.ae12a485ef4a0239bc5002ca550afa16.jpg'\n",
        "label=name_of_class='transmissionline'\n",
        "\n",
        "def plot_one_box(x, image, color=None, label=name_of_class,line_thickness=None):\n",
        "\n",
        "    tl = line_thickness or round(0.002 * (image.shape[0] + image.shape[1]) / 2) + 1  # line/font thickness\n",
        "    color = color or [random.randint(0, 255) for _ in range(3)]\n",
        "    c1, c2 = (int(x[0]), int(x[1])), (int(x[2]), int(x[3]))\n",
        "    cv2.rectangle(image, c1, c2, color, thickness=tl, lineType=cv2.LINE_AA)\n",
        "    if label:\n",
        "        tf = max(tl - 1, 1)  # font thickness\n",
        "        t_size = cv2.getTextSize(str(label), 0, fontScale=tl / 3,thickness=tf)[0]\n",
        "        c2 = c1[0] + t_size[0], c1[1] - t_size[1] - 3\n",
        "        cv2.rectangle(image, c1, c2, color, -1, cv2.LINE_AA)  # filled\n",
        "        cv2.putText(image, str(label), (c1[0], c1[1] - 2), 0, tl / 3, [225, 255, 255], thickness=tf, lineType=cv2.LINE_AA)\n",
        "def draw_box_on_image(image_name, classes_path, label_folder, raw_images_folder, save_images_folder ):\n",
        "    txt_path  = r\"/content/YOLOv6/Transmission-dataset-T51-1/labels/test/DJI_0785_jpg.rf.ae12a485ef4a0239bc5002ca550afa16.txt\"\n",
        "    print(image_name)\n",
        "    if image_name == '.DS_Store':\n",
        "        return 0\n",
        "    image_path = r\"./runs/inference/exp/DJI_0785_jpg.rf.ae12a485ef4a0239bc5002ca550afa16.jpg\"\n",
        "    save_file_path = r\"/content/YOLOv6/save_images_test/DJI_0785\"\n",
        "    source_file = open(txt_path) if os.path.exists(txt_path) else []\n",
        "    image = cv2.imread(image_path)\n",
        "    try:\n",
        "        height, width, channels = image.shape\n",
        "    except:\n",
        "        print('no shape info.')\n",
        "        return 0\n",
        "    box_number = 0\n",
        "    for line in source_file:\n",
        "        staff = line.split()\n",
        "        class_idx = int(staff[0])\n",
        "        x_center, y_center, w, h = float(staff[1])*width, float(staff[2])*height, float(staff[3])*width, float(staff[4])*height\n",
        "        x1 = round(x_center-w/2)\n",
        "        y1 = round(y_center-h/2)\n",
        "        x2 = round(x_center+w/2)\n",
        "        y2 = round(y_center+h/2)\n",
        "        plot_one_box([x1,y1,x2,y2], image,  label=name_of_class, line_thickness=None)\n",
        "        cv2.imwrite(r\"/content/YOLOv6/save_images_test/DJI_0785.jpg\",image)\n",
        "        box_number += 1\n",
        "        return box_number\n",
        "draw_box_on_image(image_name, classes_path,  label_folder, raw_images_folder, save_images_folder )\n",
        "\n",
        "\n",
        "\n"
      ]
    },
    {
      "cell_type": "code",
      "execution_count": null,
      "metadata": {
        "colab": {
          "base_uri": "https://localhost:8080/"
        },
        "outputId": "157c409c-c1e8-483e-e60c-bd410363bda2",
        "id": "LCCrtg3WBwSI"
      },
      "outputs": [
        {
          "output_type": "stream",
          "name": "stdout",
          "text": [
            "./runs/inference/exp/DJI_0795_jpg.rf.28f003161514463be3421b687058c456.jpg\n"
          ]
        },
        {
          "output_type": "execute_result",
          "data": {
            "text/plain": [
              "1"
            ]
          },
          "metadata": {},
          "execution_count": 21
        }
      ],
      "source": [
        "import cv2\n",
        "import os\n",
        "import random\n",
        "label_folder = r'/content/YOLOv6/Transmission-dataset-T51-1/labels'\n",
        "raw_images_folder = r'/content/YOLOv6/Transmission-dataset-T51-1/images'\n",
        "save_images_folder = r'/content/YOLOv6/save_images_test'\n",
        "name_list_path = r'/content/YOLOv6/Transmission-dataset-T51-1/labels/test'\n",
        "classes_path = r'/content/YOLOv6/Transmission-dataset-T51-1'\n",
        "image_name='./runs/inference/exp/DJI_0795_jpg.rf.28f003161514463be3421b687058c456.jpg'\n",
        "label=name_of_class='transmissionline'\n",
        "\n",
        "def plot_one_box(x, image, color=None, label=name_of_class,line_thickness=None):\n",
        "\n",
        "    tl = line_thickness or round(0.002 * (image.shape[0] + image.shape[1]) / 2) + 1  # line/font thickness\n",
        "    color = color or [random.randint(0, 255) for _ in range(3)]\n",
        "    c1, c2 = (int(x[0]), int(x[1])), (int(x[2]), int(x[3]))\n",
        "    cv2.rectangle(image, c1, c2, color, thickness=tl, lineType=cv2.LINE_AA)\n",
        "    if label:\n",
        "        tf = max(tl - 1, 1)  # font thickness\n",
        "        t_size = cv2.getTextSize(str(label), 0, fontScale=tl / 3,thickness=tf)[0]\n",
        "        c2 = c1[0] + t_size[0], c1[1] - t_size[1] - 3\n",
        "        cv2.rectangle(image, c1, c2, color, -1, cv2.LINE_AA)  # filled\n",
        "        cv2.putText(image, str(label), (c1[0], c1[1] - 2), 0, tl / 3, [225, 255, 255], thickness=tf, lineType=cv2.LINE_AA)\n",
        "def draw_box_on_image(image_name, classes_path, label_folder, raw_images_folder, save_images_folder ):\n",
        "    txt_path  = r\"/content/YOLOv6/Transmission-dataset-T51-1/labels/test/DJI_0795_jpg.rf.28f003161514463be3421b687058c456.txt\"\n",
        "    print(image_name)\n",
        "    if image_name == '.DS_Store':\n",
        "        return 0\n",
        "    image_path = r\"./runs/inference/exp/DJI_0795_jpg.rf.28f003161514463be3421b687058c456.jpg\"\n",
        "    save_file_path = r\"/content/YOLOv6/save_images_test/DJI_0795\"\n",
        "    source_file = open(txt_path) if os.path.exists(txt_path) else []\n",
        "    image = cv2.imread(image_path)\n",
        "    try:\n",
        "        height, width, channels = image.shape\n",
        "    except:\n",
        "        print('no shape info.')\n",
        "        return 0\n",
        "    box_number = 0\n",
        "    for line in source_file:\n",
        "        staff = line.split()\n",
        "        class_idx = int(staff[0])\n",
        "        x_center, y_center, w, h = float(staff[1])*width, float(staff[2])*height, float(staff[3])*width, float(staff[4])*height\n",
        "        x1 = round(x_center-w/2)\n",
        "        y1 = round(y_center-h/2)\n",
        "        x2 = round(x_center+w/2)\n",
        "        y2 = round(y_center+h/2)\n",
        "        plot_one_box([x1,y1,x2,y2], image,  label=name_of_class, line_thickness=None)\n",
        "        cv2.imwrite(r\"/content/YOLOv6/save_images_test/DJI_0795.jpg\",image)\n",
        "        box_number += 1\n",
        "        return box_number\n",
        "draw_box_on_image(image_name, classes_path,  label_folder, raw_images_folder, save_images_folder )\n",
        "\n",
        "\n",
        "\n"
      ]
    },
    {
      "cell_type": "code",
      "execution_count": null,
      "metadata": {
        "colab": {
          "base_uri": "https://localhost:8080/"
        },
        "outputId": "9a22638f-5613-4163-d6b1-cf5ef8aae735",
        "id": "WfXF47oPBwcm"
      },
      "outputs": [
        {
          "output_type": "stream",
          "name": "stdout",
          "text": [
            "./runs/inference/exp/DJI_0811_jpg.rf.1ca1bd10de0614ec32aa7e37f4c3af9a.jpg\n"
          ]
        },
        {
          "output_type": "execute_result",
          "data": {
            "text/plain": [
              "1"
            ]
          },
          "metadata": {},
          "execution_count": 22
        }
      ],
      "source": [
        "import cv2\n",
        "import os\n",
        "import random\n",
        "label_folder = r'/content/YOLOv6/Transmission-dataset-T51-1/labels'\n",
        "raw_images_folder = r'/content/YOLOv6/Transmission-dataset-T51-1/images'\n",
        "save_images_folder = r'/content/YOLOv6/save_images_test'\n",
        "name_list_path = r'/content/YOLOv6/Transmission-dataset-T51-1/labels/test'\n",
        "classes_path = r'/content/YOLOv6/Transmission-dataset-T51-1'\n",
        "image_name=r'./runs/inference/exp/DJI_0811_jpg.rf.1ca1bd10de0614ec32aa7e37f4c3af9a.jpg'\n",
        "label=name_of_class='transmissionline'\n",
        "\n",
        "def plot_one_box(x, image, color=None, label=name_of_class,line_thickness=None):\n",
        "\n",
        "    tl = line_thickness or round(0.002 * (image.shape[0] + image.shape[1]) / 2) + 1  # line/font thickness\n",
        "    color = color or [random.randint(0, 255) for _ in range(3)]\n",
        "    c1, c2 = (int(x[0]), int(x[1])), (int(x[2]), int(x[3]))\n",
        "    cv2.rectangle(image, c1, c2, color, thickness=tl, lineType=cv2.LINE_AA)\n",
        "    if label:\n",
        "        tf = max(tl - 1, 1)  # font thickness\n",
        "        t_size = cv2.getTextSize(str(label), 0, fontScale=tl / 3,thickness=tf)[0]\n",
        "        c2 = c1[0] + t_size[0], c1[1] - t_size[1] - 3\n",
        "        cv2.rectangle(image, c1, c2, color, -1, cv2.LINE_AA)  # filled\n",
        "        cv2.putText(image, str(label), (c1[0], c1[1] - 2), 0, tl / 3, [225, 255, 255], thickness=tf, lineType=cv2.LINE_AA)\n",
        "def draw_box_on_image(image_name, classes_path, label_folder, raw_images_folder, save_images_folder ):\n",
        "    txt_path  = r\"/content/YOLOv6/Transmission-dataset-T51-1/labels/test/DJI_0811_jpg.rf.1ca1bd10de0614ec32aa7e37f4c3af9a.txt\"\n",
        "    print(image_name)\n",
        "    if image_name == '.DS_Store':\n",
        "        return 0\n",
        "    image_path = r\"./runs/inference/exp/DJI_0811_jpg.rf.1ca1bd10de0614ec32aa7e37f4c3af9a.jpg\"\n",
        "    save_file_path = r\"/content/YOLOv6/save_images_test/DJI_0811\"\n",
        "    source_file = open(txt_path) if os.path.exists(txt_path) else []\n",
        "    image = cv2.imread(image_path)\n",
        "    try:\n",
        "        height, width, channels = image.shape\n",
        "    except:\n",
        "        print('no shape info.')\n",
        "        return 0\n",
        "    box_number = 0\n",
        "    for line in source_file:\n",
        "        staff = line.split()\n",
        "        class_idx = int(staff[0])\n",
        "        x_center, y_center, w, h = float(staff[1])*width, float(staff[2])*height, float(staff[3])*width, float(staff[4])*height\n",
        "        x1 = round(x_center-w/2)\n",
        "        y1 = round(y_center-h/2)\n",
        "        x2 = round(x_center+w/2)\n",
        "        y2 = round(y_center+h/2)\n",
        "        plot_one_box([x1,y1,x2,y2], image,  label=name_of_class, line_thickness=None)\n",
        "        cv2.imwrite(r\"/content/YOLOv6/save_images_test/DJI_0811.jpg\",image)\n",
        "        box_number += 1\n",
        "        return box_number\n",
        "draw_box_on_image(image_name, classes_path,  label_folder, raw_images_folder, save_images_folder )\n",
        "\n",
        "\n",
        "\n"
      ]
    },
    {
      "cell_type": "code",
      "execution_count": null,
      "metadata": {
        "colab": {
          "base_uri": "https://localhost:8080/"
        },
        "outputId": "8b224bc5-5457-4694-8d3b-434482f25517",
        "id": "G-zZNQSXBwmv"
      },
      "outputs": [
        {
          "output_type": "stream",
          "name": "stdout",
          "text": [
            "./runs/inference/exp/DJI_0813_jpg.rf.89b7eda37dfd3a78bc10bc8ca296ffb3.jpg\n"
          ]
        },
        {
          "output_type": "execute_result",
          "data": {
            "text/plain": [
              "1"
            ]
          },
          "metadata": {},
          "execution_count": 23
        }
      ],
      "source": [
        "import cv2\n",
        "import os\n",
        "import random\n",
        "label_folder = r'/content/YOLOv6/Transmission-dataset-T51-1/labels'\n",
        "raw_images_folder = r'/content/YOLOv6/Transmission-dataset-T51-1/images'\n",
        "save_images_folder = r'/content/YOLOv6/save_images_test'\n",
        "name_list_path = r'/content/YOLOv6/Transmission-dataset-T51-1/labels/test'\n",
        "classes_path = r'/content/YOLOv6/Transmission-dataset-T51-1'\n",
        "image_name=r'./runs/inference/exp/DJI_0813_jpg.rf.89b7eda37dfd3a78bc10bc8ca296ffb3.jpg'\n",
        "label=name_of_class='transmissionline'\n",
        "\n",
        "def plot_one_box(x, image, color=None, label=name_of_class,line_thickness=None):\n",
        "\n",
        "    tl = line_thickness or round(0.002 * (image.shape[0] + image.shape[1]) / 2) + 1  # line/font thickness\n",
        "    color = color or [random.randint(0, 255) for _ in range(3)]\n",
        "    c1, c2 = (int(x[0]), int(x[1])), (int(x[2]), int(x[3]))\n",
        "    cv2.rectangle(image, c1, c2, color, thickness=tl, lineType=cv2.LINE_AA)\n",
        "    if label:\n",
        "        tf = max(tl - 1, 1)  # font thickness\n",
        "        t_size = cv2.getTextSize(str(label), 0, fontScale=tl / 3,thickness=tf)[0]\n",
        "        c2 = c1[0] + t_size[0], c1[1] - t_size[1] - 3\n",
        "        cv2.rectangle(image, c1, c2, color, -1, cv2.LINE_AA)  # filled\n",
        "        cv2.putText(image, str(label), (c1[0], c1[1] - 2), 0, tl / 3, [225, 255, 255], thickness=tf, lineType=cv2.LINE_AA)\n",
        "def draw_box_on_image(image_name, classes_path, label_folder, raw_images_folder, save_images_folder ):\n",
        "    txt_path  = r\"/content/YOLOv6/Transmission-dataset-T51-1/labels/test/DJI_0813_jpg.rf.89b7eda37dfd3a78bc10bc8ca296ffb3.txt\"\n",
        "    print(image_name)\n",
        "    if image_name == '.DS_Store':\n",
        "        return 0\n",
        "    image_path = r\"./runs/inference/exp/DJI_0813_jpg.rf.89b7eda37dfd3a78bc10bc8ca296ffb3.jpg\"\n",
        "    save_file_path = r\"/content/YOLOv6/save_images_test/DJI_0813\"\n",
        "    source_file = open(txt_path) if os.path.exists(txt_path) else []\n",
        "    image = cv2.imread(image_path)\n",
        "    try:\n",
        "        height, width, channels = image.shape\n",
        "    except:\n",
        "        print('no shape info.')\n",
        "        return 0\n",
        "    box_number = 0\n",
        "    for line in source_file:\n",
        "        staff = line.split()\n",
        "        class_idx = int(staff[0])\n",
        "        x_center, y_center, w, h = float(staff[1])*width, float(staff[2])*height, float(staff[3])*width, float(staff[4])*height\n",
        "        x1 = round(x_center-w/2)\n",
        "        y1 = round(y_center-h/2)\n",
        "        x2 = round(x_center+w/2)\n",
        "        y2 = round(y_center+h/2)\n",
        "        plot_one_box([x1,y1,x2,y2], image,  label=name_of_class, line_thickness=None)\n",
        "        cv2.imwrite(r\"/content/YOLOv6/save_images_test/DJI_0813.jpg\",image)\n",
        "        box_number += 1\n",
        "        return box_number\n",
        "draw_box_on_image(image_name, classes_path,  label_folder, raw_images_folder, save_images_folder )\n",
        "\n",
        "\n",
        "\n"
      ]
    },
    {
      "cell_type": "code",
      "execution_count": null,
      "metadata": {
        "colab": {
          "base_uri": "https://localhost:8080/"
        },
        "outputId": "76abc3ed-f475-432e-9994-552ce0dd5d2b",
        "id": "9dWGWex6Bww_"
      },
      "outputs": [
        {
          "output_type": "stream",
          "name": "stdout",
          "text": [
            "./runs/inference/exp/DJI_0815_jpg.rf.32cc94256fae3929e454614a880c357e.jpg\n"
          ]
        },
        {
          "output_type": "execute_result",
          "data": {
            "text/plain": [
              "1"
            ]
          },
          "metadata": {},
          "execution_count": 24
        }
      ],
      "source": [
        "import cv2\n",
        "import os\n",
        "import random\n",
        "label_folder = r'/content/YOLOv6/Transmission-dataset-T51-1/labels'\n",
        "raw_images_folder = r'/content/YOLOv6/Transmission-dataset-T51-1/images'\n",
        "save_images_folder = r'/content/YOLOv6/save_images_test'\n",
        "name_list_path = r'/content/YOLOv6/Transmission-dataset-T51-1/labels/test'\n",
        "classes_path = r'/content/YOLOv6/Transmission-dataset-T51-1'\n",
        "image_name=r'./runs/inference/exp/DJI_0815_jpg.rf.32cc94256fae3929e454614a880c357e.jpg'\n",
        "label=name_of_class='transmissionline'\n",
        "\n",
        "def plot_one_box(x, image, color=None, label=name_of_class,line_thickness=None):\n",
        "\n",
        "    tl = line_thickness or round(0.002 * (image.shape[0] + image.shape[1]) / 2) + 1  # line/font thickness\n",
        "    color = color or [random.randint(0, 255) for _ in range(3)]\n",
        "    c1, c2 = (int(x[0]), int(x[1])), (int(x[2]), int(x[3]))\n",
        "    cv2.rectangle(image, c1, c2, color, thickness=tl, lineType=cv2.LINE_AA)\n",
        "    if label:\n",
        "        tf = max(tl - 1, 1)  # font thickness\n",
        "        t_size = cv2.getTextSize(str(label), 0, fontScale=tl / 3,thickness=tf)[0]\n",
        "        c2 = c1[0] + t_size[0], c1[1] - t_size[1] - 3\n",
        "        cv2.rectangle(image, c1, c2, color, -1, cv2.LINE_AA)  # filled\n",
        "        cv2.putText(image, str(label), (c1[0], c1[1] - 2), 0, tl / 3, [225, 255, 255], thickness=tf, lineType=cv2.LINE_AA)\n",
        "def draw_box_on_image(image_name, classes_path, label_folder, raw_images_folder, save_images_folder ):\n",
        "    txt_path  = r\"/content/YOLOv6/Transmission-dataset-T51-1/labels/test/DJI_0815_jpg.rf.32cc94256fae3929e454614a880c357e.txt\"\n",
        "    print(image_name)\n",
        "    if image_name == '.DS_Store':\n",
        "        return 0\n",
        "    image_path = r\"./runs/inference/exp/DJI_0815_jpg.rf.32cc94256fae3929e454614a880c357e.jpg\"\n",
        "    save_file_path = r\"/content/YOLOv6/save_images_test/DJI_0815\"\n",
        "    source_file = open(txt_path) if os.path.exists(txt_path) else []\n",
        "    image = cv2.imread(image_path)\n",
        "    try:\n",
        "        height, width, channels = image.shape\n",
        "    except:\n",
        "        print('no shape info.')\n",
        "        return 0\n",
        "    box_number = 0\n",
        "    for line in source_file:\n",
        "        staff = line.split()\n",
        "        class_idx = int(staff[0])\n",
        "        x_center, y_center, w, h = float(staff[1])*width, float(staff[2])*height, float(staff[3])*width, float(staff[4])*height\n",
        "        x1 = round(x_center-w/2)\n",
        "        y1 = round(y_center-h/2)\n",
        "        x2 = round(x_center+w/2)\n",
        "        y2 = round(y_center+h/2)\n",
        "        plot_one_box([x1,y1,x2,y2], image,  label=name_of_class, line_thickness=None)\n",
        "        cv2.imwrite(r\"/content/YOLOv6/save_images_test/DJI_0815.jpg\",image)\n",
        "        box_number += 1\n",
        "        return box_number\n",
        "draw_box_on_image(image_name, classes_path,  label_folder, raw_images_folder, save_images_folder )\n",
        "\n",
        "\n",
        "\n"
      ]
    },
    {
      "cell_type": "code",
      "execution_count": null,
      "metadata": {
        "colab": {
          "base_uri": "https://localhost:8080/"
        },
        "outputId": "9edf5554-8c06-4d6e-e75b-580c0b0ac612",
        "id": "JJlc3RZEBw6n"
      },
      "outputs": [
        {
          "output_type": "stream",
          "name": "stdout",
          "text": [
            "./runs/inference/exp/DJI_0851_jpg.rf.9a219ab01fd23018d6269ee36eb07a9f.jpg\n"
          ]
        },
        {
          "output_type": "execute_result",
          "data": {
            "text/plain": [
              "1"
            ]
          },
          "metadata": {},
          "execution_count": 25
        }
      ],
      "source": [
        "import cv2\n",
        "import os\n",
        "import random\n",
        "label_folder = r'/content/YOLOv6/Transmission-dataset-T51-1/labels'\n",
        "raw_images_folder = r'/content/YOLOv6/Transmission-dataset-T51-1/images'\n",
        "save_images_folder = r'/content/YOLOv6/save_images_test'\n",
        "name_list_path = r'/content/YOLOv6/Transmission-dataset-T51-1/labels/test'\n",
        "classes_path = r'/content/YOLOv6/Transmission-dataset-T51-1'\n",
        "image_name=r'./runs/inference/exp/DJI_0851_jpg.rf.9a219ab01fd23018d6269ee36eb07a9f.jpg'\n",
        "label=name_of_class='transmissionline'\n",
        "\n",
        "def plot_one_box(x, image, color=None, label=name_of_class,line_thickness=None):\n",
        "\n",
        "    tl = line_thickness or round(0.002 * (image.shape[0] + image.shape[1]) / 2) + 1  # line/font thickness\n",
        "    color = color or [random.randint(0, 255) for _ in range(3)]\n",
        "    c1, c2 = (int(x[0]), int(x[1])), (int(x[2]), int(x[3]))\n",
        "    cv2.rectangle(image, c1, c2, color, thickness=tl, lineType=cv2.LINE_AA)\n",
        "    if label:\n",
        "        tf = max(tl - 1, 1)  # font thickness\n",
        "        t_size = cv2.getTextSize(str(label), 0, fontScale=tl / 3,thickness=tf)[0]\n",
        "        c2 = c1[0] + t_size[0], c1[1] - t_size[1] - 3\n",
        "        cv2.rectangle(image, c1, c2, color, -1, cv2.LINE_AA)  # filled\n",
        "        cv2.putText(image, str(label), (c1[0], c1[1] - 2), 0, tl / 3, [225, 255, 255], thickness=tf, lineType=cv2.LINE_AA)\n",
        "def draw_box_on_image(image_name, classes_path, label_folder, raw_images_folder, save_images_folder ):\n",
        "    txt_path  = r\"/content/YOLOv6/Transmission-dataset-T51-1/labels/test/DJI_0851_jpg.rf.9a219ab01fd23018d6269ee36eb07a9f.txt\"\n",
        "    print(image_name)\n",
        "    if image_name == '.DS_Store':\n",
        "        return 0\n",
        "    image_path = r\"./runs/inference/exp/DJI_0851_jpg.rf.9a219ab01fd23018d6269ee36eb07a9f.jpg\"\n",
        "    save_file_path = r\"/content/YOLOv6/save_images_test/DJI_0851\"\n",
        "    source_file = open(txt_path) if os.path.exists(txt_path) else []\n",
        "    image = cv2.imread(image_path)\n",
        "    try:\n",
        "        height, width, channels = image.shape\n",
        "    except:\n",
        "        print('no shape info.')\n",
        "        return 0\n",
        "    box_number = 0\n",
        "    for line in source_file:\n",
        "        staff = line.split()\n",
        "        class_idx = int(staff[0])\n",
        "        x_center, y_center, w, h = float(staff[1])*width, float(staff[2])*height, float(staff[3])*width, float(staff[4])*height\n",
        "        x1 = round(x_center-w/2)\n",
        "        y1 = round(y_center-h/2)\n",
        "        x2 = round(x_center+w/2)\n",
        "        y2 = round(y_center+h/2)\n",
        "        plot_one_box([x1,y1,x2,y2], image,  label=name_of_class, line_thickness=None)\n",
        "        cv2.imwrite(r\"/content/YOLOv6/save_images_test/DJI_0851.jpg\",image)\n",
        "        box_number += 1\n",
        "        return box_number\n",
        "draw_box_on_image(image_name, classes_path,  label_folder, raw_images_folder, save_images_folder )\n",
        "\n",
        "\n",
        "\n"
      ]
    },
    {
      "cell_type": "code",
      "execution_count": null,
      "metadata": {
        "colab": {
          "base_uri": "https://localhost:8080/"
        },
        "outputId": "98f80231-912d-41f6-9774-9552207fc7c1",
        "id": "hSdfhpNBBxE2"
      },
      "outputs": [
        {
          "output_type": "stream",
          "name": "stdout",
          "text": [
            "./runs/inference/exp/DJI_0857_jpg.rf.403b927f586d5a9c18727429b0745586.jpg\n"
          ]
        },
        {
          "output_type": "execute_result",
          "data": {
            "text/plain": [
              "1"
            ]
          },
          "metadata": {},
          "execution_count": 26
        }
      ],
      "source": [
        "import cv2\n",
        "import os\n",
        "import random\n",
        "label_folder = r'/content/YOLOv6/Transmission-dataset-T51-1/labels'\n",
        "raw_images_folder = r'/content/YOLOv6/Transmission-dataset-T51-1/images'\n",
        "save_images_folder = r'/content/YOLOv6/save_images_test'\n",
        "name_list_path = r'/content/YOLOv6/Transmission-dataset-T51-1/labels/test'\n",
        "classes_path = r'/content/YOLOv6/Transmission-dataset-T51-1'\n",
        "image_name=r'./runs/inference/exp/DJI_0857_jpg.rf.403b927f586d5a9c18727429b0745586.jpg'\n",
        "label=name_of_class='transmissionline'\n",
        "\n",
        "def plot_one_box(x, image, color=None, label=name_of_class,line_thickness=None):\n",
        "\n",
        "    tl = line_thickness or round(0.002 * (image.shape[0] + image.shape[1]) / 2) + 1  # line/font thickness\n",
        "    color = color or [random.randint(0, 255) for _ in range(3)]\n",
        "    c1, c2 = (int(x[0]), int(x[1])), (int(x[2]), int(x[3]))\n",
        "    cv2.rectangle(image, c1, c2, color, thickness=tl, lineType=cv2.LINE_AA)\n",
        "    if label:\n",
        "        tf = max(tl - 1, 1)  # font thickness\n",
        "        t_size = cv2.getTextSize(str(label), 0, fontScale=tl / 3,thickness=tf)[0]\n",
        "        c2 = c1[0] + t_size[0], c1[1] - t_size[1] - 3\n",
        "        cv2.rectangle(image, c1, c2, color, -1, cv2.LINE_AA)  # filled\n",
        "        cv2.putText(image, str(label), (c1[0], c1[1] - 2), 0, tl / 3, [225, 255, 255], thickness=tf, lineType=cv2.LINE_AA)\n",
        "def draw_box_on_image(image_name, classes_path, label_folder, raw_images_folder, save_images_folder ):\n",
        "    txt_path  = r\"/content/YOLOv6/Transmission-dataset-T51-1/labels/test/DJI_0857_jpg.rf.403b927f586d5a9c18727429b0745586.txt\"\n",
        "    print(image_name)\n",
        "    if image_name == '.DS_Store':\n",
        "        return 0\n",
        "    image_path = r\"./runs/inference/exp/DJI_0857_jpg.rf.403b927f586d5a9c18727429b0745586.jpg\"\n",
        "    save_file_path = r\"/content/YOLOv6/save_images_test/DJI_0857\"\n",
        "    source_file = open(txt_path) if os.path.exists(txt_path) else []\n",
        "    image = cv2.imread(image_path)\n",
        "    try:\n",
        "        height, width, channels = image.shape\n",
        "    except:\n",
        "        print('no shape info.')\n",
        "        return 0\n",
        "    box_number = 0\n",
        "    for line in source_file:\n",
        "        staff = line.split()\n",
        "        class_idx = int(staff[0])\n",
        "        x_center, y_center, w, h = float(staff[1])*width, float(staff[2])*height, float(staff[3])*width, float(staff[4])*height\n",
        "        x1 = round(x_center-w/2)\n",
        "        y1 = round(y_center-h/2)\n",
        "        x2 = round(x_center+w/2)\n",
        "        y2 = round(y_center+h/2)\n",
        "        plot_one_box([x1,y1,x2,y2], image,  label=name_of_class, line_thickness=None)\n",
        "        cv2.imwrite(r\"/content/YOLOv6/save_images_test/DJI_0857.jpg\",image)\n",
        "        box_number += 1\n",
        "        return box_number\n",
        "draw_box_on_image(image_name, classes_path,  label_folder, raw_images_folder, save_images_folder )\n",
        "\n",
        "\n",
        "\n"
      ]
    },
    {
      "cell_type": "code",
      "execution_count": null,
      "metadata": {
        "colab": {
          "base_uri": "https://localhost:8080/"
        },
        "outputId": "6116cc34-a951-45e2-b82b-c7ed96e5a577",
        "id": "YrFKBoxOBxPf"
      },
      "outputs": [
        {
          "output_type": "stream",
          "name": "stdout",
          "text": [
            "./runs/inference/exp/DJI_0863_jpg.rf.b33f088418661bfd484376a5f4f4d731.jpg\n"
          ]
        },
        {
          "output_type": "execute_result",
          "data": {
            "text/plain": [
              "1"
            ]
          },
          "metadata": {},
          "execution_count": 27
        }
      ],
      "source": [
        "import cv2\n",
        "import os\n",
        "import random\n",
        "label_folder = r'/content/YOLOv6/Transmission-dataset-T51-1/labels'\n",
        "raw_images_folder = r'/content/YOLOv6/Transmission-dataset-T51-1/images'\n",
        "save_images_folder = r'/content/YOLOv6/save_images_test'\n",
        "name_list_path = r'/content/YOLOv6/Transmission-dataset-T51-1/labels/test'\n",
        "classes_path = r'/content/YOLOv6/Transmission-dataset-T51-1'\n",
        "image_name=r'./runs/inference/exp/DJI_0863_jpg.rf.b33f088418661bfd484376a5f4f4d731.jpg'\n",
        "label=name_of_class='transmissionline'\n",
        "\n",
        "def plot_one_box(x, image, color=None, label=name_of_class,line_thickness=None):\n",
        "\n",
        "    tl = line_thickness or round(0.002 * (image.shape[0] + image.shape[1]) / 2) + 1  # line/font thickness\n",
        "    color = color or [random.randint(0, 255) for _ in range(3)]\n",
        "    c1, c2 = (int(x[0]), int(x[1])), (int(x[2]), int(x[3]))\n",
        "    cv2.rectangle(image, c1, c2, color, thickness=tl, lineType=cv2.LINE_AA)\n",
        "    if label:\n",
        "        tf = max(tl - 1, 1)  # font thickness\n",
        "        t_size = cv2.getTextSize(str(label), 0, fontScale=tl / 3,thickness=tf)[0]\n",
        "        c2 = c1[0] + t_size[0], c1[1] - t_size[1] - 3\n",
        "        cv2.rectangle(image, c1, c2, color, -1, cv2.LINE_AA)  # filled\n",
        "        cv2.putText(image, str(label), (c1[0], c1[1] - 2), 0, tl / 3, [225, 255, 255], thickness=tf, lineType=cv2.LINE_AA)\n",
        "def draw_box_on_image(image_name, classes_path, label_folder, raw_images_folder, save_images_folder ):\n",
        "    txt_path  = r\"/content/YOLOv6/Transmission-dataset-T51-1/labels/test/DJI_0863_jpg.rf.b33f088418661bfd484376a5f4f4d731.txt\"\n",
        "    print(image_name)\n",
        "    if image_name == '.DS_Store':\n",
        "        return 0\n",
        "    image_path = r\"./runs/inference/exp/DJI_0863_jpg.rf.b33f088418661bfd484376a5f4f4d731.jpg\"\n",
        "    save_file_path = r\"/content/YOLOv6/save_images_test/DJI_0863\"\n",
        "    source_file = open(txt_path) if os.path.exists(txt_path) else []\n",
        "    image = cv2.imread(image_path)\n",
        "    try:\n",
        "        height, width, channels = image.shape\n",
        "    except:\n",
        "        print('no shape info.')\n",
        "        return 0\n",
        "    box_number = 0\n",
        "    for line in source_file:\n",
        "        staff = line.split()\n",
        "        class_idx = int(staff[0])\n",
        "        x_center, y_center, w, h = float(staff[1])*width, float(staff[2])*height, float(staff[3])*width, float(staff[4])*height\n",
        "        x1 = round(x_center-w/2)\n",
        "        y1 = round(y_center-h/2)\n",
        "        x2 = round(x_center+w/2)\n",
        "        y2 = round(y_center+h/2)\n",
        "        plot_one_box([x1,y1,x2,y2], image,  label=name_of_class, line_thickness=None)\n",
        "        cv2.imwrite(r\"/content/YOLOv6/save_images_test/DJI_0863.jpg\",image)\n",
        "        box_number += 1\n",
        "        return box_number\n",
        "draw_box_on_image(image_name, classes_path,  label_folder, raw_images_folder, save_images_folder )\n",
        "\n",
        "\n",
        "\n"
      ]
    },
    {
      "cell_type": "code",
      "execution_count": null,
      "metadata": {
        "colab": {
          "base_uri": "https://localhost:8080/"
        },
        "outputId": "a19f649a-34fe-4e65-db0e-4c802205b1ff",
        "id": "cksSyphxBxav"
      },
      "outputs": [
        {
          "output_type": "stream",
          "name": "stdout",
          "text": [
            "./runs/inference/exp/DJI_0865_jpg.rf.b0a4cf1bf20e2c8d2529c6e9aa37f6e0.jpg\n"
          ]
        },
        {
          "output_type": "execute_result",
          "data": {
            "text/plain": [
              "1"
            ]
          },
          "metadata": {},
          "execution_count": 28
        }
      ],
      "source": [
        "import cv2\n",
        "import os\n",
        "import random\n",
        "label_folder = r'/content/YOLOv6/Transmission-dataset-T51-1/labels'\n",
        "raw_images_folder = r'/content/YOLOv6/Transmission-dataset-T51-1/images'\n",
        "save_images_folder = r'/content/YOLOv6/save_images_test'\n",
        "name_list_path = r'/content/YOLOv6/Transmission-dataset-T51-1/labels/test'\n",
        "classes_path = r'/content/YOLOv6/Transmission-dataset-T51-1'\n",
        "image_name=r'./runs/inference/exp/DJI_0865_jpg.rf.b0a4cf1bf20e2c8d2529c6e9aa37f6e0.jpg'\n",
        "label=name_of_class='transmissionline'\n",
        "\n",
        "def plot_one_box(x, image, color=None, label=name_of_class,line_thickness=None):\n",
        "\n",
        "    tl = line_thickness or round(0.002 * (image.shape[0] + image.shape[1]) / 2) + 1  # line/font thickness\n",
        "    color = color or [random.randint(0, 255) for _ in range(3)]\n",
        "    c1, c2 = (int(x[0]), int(x[1])), (int(x[2]), int(x[3]))\n",
        "    cv2.rectangle(image, c1, c2, color, thickness=tl, lineType=cv2.LINE_AA)\n",
        "    if label:\n",
        "        tf = max(tl - 1, 1)  # font thickness\n",
        "        t_size = cv2.getTextSize(str(label), 0, fontScale=tl / 3,thickness=tf)[0]\n",
        "        c2 = c1[0] + t_size[0], c1[1] - t_size[1] - 3\n",
        "        cv2.rectangle(image, c1, c2, color, -1, cv2.LINE_AA)  # filled\n",
        "        cv2.putText(image, str(label), (c1[0], c1[1] - 2), 0, tl / 3, [225, 255, 255], thickness=tf, lineType=cv2.LINE_AA)\n",
        "def draw_box_on_image(image_name, classes_path, label_folder, raw_images_folder, save_images_folder ):\n",
        "    txt_path  = r\"/content/YOLOv6/Transmission-dataset-T51-1/labels/test/DJI_0865_jpg.rf.b0a4cf1bf20e2c8d2529c6e9aa37f6e0.txt\"\n",
        "    print(image_name)\n",
        "    if image_name == '.DS_Store':\n",
        "        return 0\n",
        "    image_path = r\"./runs/inference/exp/DJI_0865_jpg.rf.b0a4cf1bf20e2c8d2529c6e9aa37f6e0.jpg\"\n",
        "    save_file_path = r\"/content/YOLOv6/save_images_test/DJI_0865\"\n",
        "    source_file = open(txt_path) if os.path.exists(txt_path) else []\n",
        "    image = cv2.imread(image_path)\n",
        "    try:\n",
        "        height, width, channels = image.shape\n",
        "    except:\n",
        "        print('no shape info.')\n",
        "        return 0\n",
        "    box_number = 0\n",
        "    for line in source_file:\n",
        "        staff = line.split()\n",
        "        class_idx = int(staff[0])\n",
        "        x_center, y_center, w, h = float(staff[1])*width, float(staff[2])*height, float(staff[3])*width, float(staff[4])*height\n",
        "        x1 = round(x_center-w/2)\n",
        "        y1 = round(y_center-h/2)\n",
        "        x2 = round(x_center+w/2)\n",
        "        y2 = round(y_center+h/2)\n",
        "        plot_one_box([x1,y1,x2,y2], image,  label=name_of_class, line_thickness=None)\n",
        "        cv2.imwrite(r\"/content/YOLOv6/save_images_test/DJI_0865.jpg\",image)\n",
        "        box_number += 1\n",
        "        return box_number\n",
        "draw_box_on_image(image_name, classes_path,  label_folder, raw_images_folder, save_images_folder )\n",
        "\n",
        "\n",
        "\n"
      ]
    },
    {
      "cell_type": "code",
      "execution_count": null,
      "metadata": {
        "colab": {
          "base_uri": "https://localhost:8080/"
        },
        "outputId": "aba092c8-f726-4a9e-dd6f-13abd5b35955",
        "id": "vBB5gT9iBxln"
      },
      "outputs": [
        {
          "output_type": "stream",
          "name": "stdout",
          "text": [
            "./runs/inference/exp/DJI_0885_jpg.rf.4a9e1412d8a7f613c1a38d1512162687.jpg\n"
          ]
        },
        {
          "output_type": "execute_result",
          "data": {
            "text/plain": [
              "1"
            ]
          },
          "metadata": {},
          "execution_count": 30
        }
      ],
      "source": [
        "import cv2\n",
        "import os\n",
        "import random\n",
        "label_folder = r'/content/YOLOv6/Transmission-dataset-T51-1/labels'\n",
        "raw_images_folder = r'/content/YOLOv6/Transmission-dataset-T51-1/images'\n",
        "save_images_folder = r'/content/YOLOv6/save_images_test'\n",
        "name_list_path = r'/content/YOLOv6/Transmission-dataset-T51-1/labels/test'\n",
        "classes_path = r'/content/YOLOv6/Transmission-dataset-T51-1'\n",
        "image_name='./runs/inference/exp/DJI_0885_jpg.rf.4a9e1412d8a7f613c1a38d1512162687.jpg'\n",
        "label=name_of_class='tower'\n",
        "\n",
        "def plot_one_box(x, image, color=None, label=name_of_class,line_thickness=None):\n",
        "\n",
        "    tl = line_thickness or round(0.002 * (image.shape[0] + image.shape[1]) / 2) + 1  # line/font thickness\n",
        "    color = color or [random.randint(0, 255) for _ in range(3)]\n",
        "    c1, c2 = (int(x[0]), int(x[1])), (int(x[2]), int(x[3]))\n",
        "    cv2.rectangle(image, c1, c2, color, thickness=tl, lineType=cv2.LINE_AA)\n",
        "    if label:\n",
        "        tf = max(tl - 1, 1)  # font thickness\n",
        "        t_size = cv2.getTextSize(str(label), 0, fontScale=tl / 3,thickness=tf)[0]\n",
        "        c2 = c1[0] + t_size[0], c1[1] - t_size[1] - 3\n",
        "        cv2.rectangle(image, c1, c2, color, -1, cv2.LINE_AA)  # filled\n",
        "        cv2.putText(image, str(label), (c1[0], c1[1] - 2), 0, tl / 3, [225, 255, 255], thickness=tf, lineType=cv2.LINE_AA)\n",
        "def draw_box_on_image(image_name, classes_path, label_folder, raw_images_folder, save_images_folder ):\n",
        "    txt_path  = r\"/content/YOLOv6/Transmission-dataset-T51-1/labels/test/DJI_0885_jpg.rf.4a9e1412d8a7f613c1a38d1512162687.txt\"\n",
        "    print(image_name)\n",
        "    if image_name == '.DS_Store':\n",
        "        return 0\n",
        "    image_path = r\"./runs/inference/exp/DJI_0885_jpg.rf.4a9e1412d8a7f613c1a38d1512162687.jpg\"\n",
        "    save_file_path = r\"/content/YOLOv6/save_images_test/DJI_0885\"\n",
        "    source_file = open(txt_path) if os.path.exists(txt_path) else []\n",
        "    image = cv2.imread(image_path)\n",
        "    try:\n",
        "        height, width, channels = image.shape\n",
        "    except:\n",
        "        print('no shape info.')\n",
        "        return 0\n",
        "    box_number = 0\n",
        "    for line in source_file:\n",
        "        staff = line.split()\n",
        "        class_idx = int(staff[0])\n",
        "        x_center, y_center, w, h = float(staff[1])*width, float(staff[2])*height, float(staff[3])*width, float(staff[4])*height\n",
        "        x1 = round(x_center-w/2)\n",
        "        y1 = round(y_center-h/2)\n",
        "        x2 = round(x_center+w/2)\n",
        "        y2 = round(y_center+h/2)\n",
        "        plot_one_box([x1,y1,x2,y2], image,  label=name_of_class, line_thickness=None)\n",
        "        cv2.imwrite(r\"/content/YOLOv6/save_images_test/DJI_0885.jpg\",image)\n",
        "        box_number += 1\n",
        "        return box_number\n",
        "draw_box_on_image(image_name, classes_path,  label_folder, raw_images_folder, save_images_folder )\n",
        "\n",
        "\n",
        "\n"
      ]
    },
    {
      "cell_type": "code",
      "execution_count": null,
      "metadata": {
        "colab": {
          "base_uri": "https://localhost:8080/"
        },
        "outputId": "11bd203d-1a5e-423b-a318-c5c0c82e8abd",
        "id": "BYckO0QvBxwn"
      },
      "outputs": [
        {
          "output_type": "stream",
          "name": "stdout",
          "text": [
            "./runs/inference/exp/DJI_0923_jpg.rf.0399eaa5ea18374a3616e591080dcdca.jpg\n"
          ]
        },
        {
          "output_type": "execute_result",
          "data": {
            "text/plain": [
              "1"
            ]
          },
          "metadata": {},
          "execution_count": 31
        }
      ],
      "source": [
        "import cv2\n",
        "import os\n",
        "import random\n",
        "label_folder = r'/content/YOLOv6/Transmission-dataset-T51-1/labels'\n",
        "raw_images_folder = r'/content/YOLOv6/Transmission-dataset-T51-1/images'\n",
        "save_images_folder = r'/content/YOLOv6/save_images_test'\n",
        "name_list_path = r'/content/YOLOv6/Transmission-dataset-T51-1/labels/test'\n",
        "classes_path = r'/content/YOLOv6/Transmission-dataset-T51-1'\n",
        "image_name=r'./runs/inference/exp/DJI_0923_jpg.rf.0399eaa5ea18374a3616e591080dcdca.jpg'\n",
        "label=name_of_class='transmissionline'\n",
        "\n",
        "def plot_one_box(x, image, color=None, label=name_of_class,line_thickness=None):\n",
        "\n",
        "    tl = line_thickness or round(0.002 * (image.shape[0] + image.shape[1]) / 2) + 1  # line/font thickness\n",
        "    color = color or [random.randint(0, 255) for _ in range(3)]\n",
        "    c1, c2 = (int(x[0]), int(x[1])), (int(x[2]), int(x[3]))\n",
        "    cv2.rectangle(image, c1, c2, color, thickness=tl, lineType=cv2.LINE_AA)\n",
        "    if label:\n",
        "        tf = max(tl - 1, 1)  # font thickness\n",
        "        t_size = cv2.getTextSize(str(label), 0, fontScale=tl / 3,thickness=tf)[0]\n",
        "        c2 = c1[0] + t_size[0], c1[1] - t_size[1] - 3\n",
        "        cv2.rectangle(image, c1, c2, color, -1, cv2.LINE_AA)  # filled\n",
        "        cv2.putText(image, str(label), (c1[0], c1[1] - 2), 0, tl / 3, [225, 255, 255], thickness=tf, lineType=cv2.LINE_AA)\n",
        "def draw_box_on_image(image_name, classes_path, label_folder, raw_images_folder, save_images_folder ):\n",
        "    txt_path  = r\"/content/YOLOv6/Transmission-dataset-T51-1/labels/test/DJI_0923_jpg.rf.0399eaa5ea18374a3616e591080dcdca.txt\"\n",
        "    print(image_name)\n",
        "    if image_name == '.DS_Store':\n",
        "        return 0\n",
        "    image_path = r\"./runs/inference/exp/DJI_0923_jpg.rf.0399eaa5ea18374a3616e591080dcdca.jpg\"\n",
        "    save_file_path = r\"/content/YOLOv6/save_images_test/DJI_0923\"\n",
        "    source_file = open(txt_path) if os.path.exists(txt_path) else []\n",
        "    image = cv2.imread(image_path)\n",
        "    try:\n",
        "        height, width, channels = image.shape\n",
        "    except:\n",
        "        print('no shape info.')\n",
        "        return 0\n",
        "    box_number = 0\n",
        "    for line in source_file:\n",
        "        staff = line.split()\n",
        "        class_idx = int(staff[0])\n",
        "        x_center, y_center, w, h = float(staff[1])*width, float(staff[2])*height, float(staff[3])*width, float(staff[4])*height\n",
        "        x1 = round(x_center-w/2)\n",
        "        y1 = round(y_center-h/2)\n",
        "        x2 = round(x_center+w/2)\n",
        "        y2 = round(y_center+h/2)\n",
        "        plot_one_box([x1,y1,x2,y2], image,  label=name_of_class, line_thickness=None)\n",
        "        cv2.imwrite(r\"/content/YOLOv6/save_images_test/DJI_0923.jpg\",image)\n",
        "        box_number += 1\n",
        "        return box_number\n",
        "draw_box_on_image(image_name, classes_path,  label_folder, raw_images_folder, save_images_folder )\n",
        "\n",
        "\n",
        "\n"
      ]
    },
    {
      "cell_type": "code",
      "source": [
        "!python tools/infer.py --yaml {dataset.location}/data.yaml  --weights runs/train/exp/weights/best_ckpt.pt --source {dataset.location}/images/test/DJI_0547-5_jpg.rf.ba66e51f00105991b7c51774c86ea74b.jpg --device 0"
      ],
      "metadata": {
        "colab": {
          "base_uri": "https://localhost:8080/"
        },
        "id": "E4bVR2soveq0",
        "outputId": "c918da41-122d-4d7a-e87a-b5ec9061a8e0"
      },
      "execution_count": null,
      "outputs": [
        {
          "output_type": "stream",
          "name": "stdout",
          "text": [
            "Namespace(weights='runs/train/exp/weights/best_ckpt.pt', source='/content/YOLOv6/Transmission-dataset-T51-1/images/test/DJI_0547-5_jpg.rf.ba66e51f00105991b7c51774c86ea74b.jpg', webcam=False, webcam_addr='0', yaml='/content/YOLOv6/Transmission-dataset-T51-1/data.yaml', img_size=[640, 640], conf_thres=0.4, iou_thres=0.45, max_det=1000, device='0', save_txt=False, not_save_img=False, save_dir=None, view_img=False, classes=None, agnostic_nms=False, project='runs/inference', name='exp', hide_labels=False, hide_conf=False, half=False)\n",
            "Loading checkpoint from runs/train/exp/weights/best_ckpt.pt\n",
            "\n",
            "Fusing model...\n",
            "Switch model to deploy modality.\n",
            "100% 1/1 [00:00<00:00,  7.28it/s]\n",
            "Results saved to runs/inference/exp\n"
          ]
        }
      ]
    },
    {
      "cell_type": "code",
      "execution_count": null,
      "metadata": {
        "colab": {
          "base_uri": "https://localhost:8080/"
        },
        "outputId": "fbeb396b-2959-49bf-b5ce-0103c5464f37",
        "id": "3D8ElPo_vm6d"
      },
      "outputs": [
        {
          "output_type": "stream",
          "name": "stdout",
          "text": [
            "./runs/inference/exp/DJI_0547-5_jpg.rf.ba66e51f00105991b7c51774c86ea74b.jpg\n"
          ]
        },
        {
          "output_type": "execute_result",
          "data": {
            "text/plain": [
              "1"
            ]
          },
          "metadata": {},
          "execution_count": 10
        }
      ],
      "source": [
        "import cv2\n",
        "import os\n",
        "import random\n",
        "label_folder = r'/content/YOLOv6/Transmission-dataset-T51-1/labels'\n",
        "raw_images_folder = r'/content/YOLOv6/Transmission-dataset-T51-1/images'\n",
        "save_images_folder = r'/content/YOLOv6/save_images_test'\n",
        "name_list_path = r'/content/YOLOv6/Transmission-dataset-T51-1/labels/test'\n",
        "classes_path = r'/content/YOLOv6/Transmission-dataset-T51-1'\n",
        "image_name=r'./runs/inference/exp/DJI_0547-5_jpg.rf.ba66e51f00105991b7c51774c86ea74b.jpg'\n",
        "label=name_of_class='defect insulator'\n",
        "\n",
        "def plot_one_box(x, image, color=None, label=name_of_class,line_thickness=None):\n",
        "\n",
        "    tl = line_thickness or round(0.002 * (image.shape[0] + image.shape[1]) / 2) + 1  # line/font thickness\n",
        "    color = color or [random.randint(0, 255) for _ in range(3)]\n",
        "    c1, c2 = (int(x[0]), int(x[1])), (int(x[2]), int(x[3]))\n",
        "    cv2.rectangle(image, c1, c2, color, thickness=tl, lineType=cv2.LINE_AA)\n",
        "    if label:\n",
        "        tf = max(tl - 1, 1)  # font thickness\n",
        "        t_size = cv2.getTextSize(str(label), 0, fontScale=tl / 3,thickness=tf)[0]\n",
        "        c2 = c1[0] + t_size[0], c1[1] - t_size[1] - 3\n",
        "        cv2.rectangle(image, c1, c2, color, -1, cv2.LINE_AA)  # filled\n",
        "        cv2.putText(image, str(label), (c1[0], c1[1] - 2), 0, tl / 3, [225, 255, 255], thickness=tf, lineType=cv2.LINE_AA)\n",
        "def draw_box_on_image(image_name, classes_path, label_folder, raw_images_folder, save_images_folder ):\n",
        "    txt_path  = r\"/content/YOLOv6/Transmission-dataset-T51-1/labels/test/DJI_0547-5_jpg.rf.ba66e51f00105991b7c51774c86ea74b.txt\"\n",
        "    print(image_name)\n",
        "    if image_name == '.DS_Store':\n",
        "        return 0\n",
        "    image_path = r\"./runs/inference/exp/DJI_0547-5_jpg.rf.ba66e51f00105991b7c51774c86ea74b.jpg\"\n",
        "    save_file_path = r\"/content/YOLOv6/save_images_test/DJI_0547-5\"\n",
        "    source_file = open(txt_path) if os.path.exists(txt_path) else []\n",
        "    image = cv2.imread(image_path)\n",
        "    try:\n",
        "        height, width, channels = image.shape\n",
        "    except:\n",
        "        print('no shape info.')\n",
        "        return 0\n",
        "    box_number = 0\n",
        "    for line in source_file:\n",
        "        staff = line.split()\n",
        "        class_idx = int(staff[0])\n",
        "        x_center, y_center, w, h = float(staff[1])*width, float(staff[2])*height, float(staff[3])*width, float(staff[4])*height\n",
        "        x1 = round(x_center-w/2)\n",
        "        y1 = round(y_center-h/2)\n",
        "        x2 = round(x_center+w/2)\n",
        "        y2 = round(y_center+h/2)\n",
        "        plot_one_box([x1,y1,x2,y2], image,  label=name_of_class, line_thickness=None)\n",
        "        cv2.imwrite(r\"/content/YOLOv6/save_images_test/DJI_0547-5.jpg\",image)\n",
        "        box_number += 1\n",
        "        return box_number\n",
        "draw_box_on_image(image_name, classes_path,  label_folder, raw_images_folder, save_images_folder )\n",
        "\n",
        "\n",
        "\n"
      ]
    },
    {
      "cell_type": "code",
      "source": [
        "!python tools/infer.py --yaml {dataset.location}/data.yaml  --weights runs/train/exp/weights/best_ckpt.pt --source {dataset.location}/images/test/DJI_0565-4_jpg.rf.d9300e9090d101665896829a31fc6694.jpg --device 0"
      ],
      "metadata": {
        "colab": {
          "base_uri": "https://localhost:8080/"
        },
        "id": "TnY9xh3y8wxq",
        "outputId": "f1f18ff5-c3b9-4da0-b73d-ca52f9a41fde"
      },
      "execution_count": null,
      "outputs": [
        {
          "output_type": "stream",
          "name": "stdout",
          "text": [
            "Namespace(weights='runs/train/exp/weights/best_ckpt.pt', source='/content/YOLOv6/Transmission-dataset-T51-1/images/test/DJI_0565-4_jpg.rf.d9300e9090d101665896829a31fc6694.jpg', webcam=False, webcam_addr='0', yaml='/content/YOLOv6/Transmission-dataset-T51-1/data.yaml', img_size=[640, 640], conf_thres=0.4, iou_thres=0.45, max_det=1000, device='0', save_txt=False, not_save_img=False, save_dir=None, view_img=False, classes=None, agnostic_nms=False, project='runs/inference', name='exp', hide_labels=False, hide_conf=False, half=False)\n",
            "Save directory already existed\n",
            "Loading checkpoint from runs/train/exp/weights/best_ckpt.pt\n",
            "\n",
            "Fusing model...\n",
            "Switch model to deploy modality.\n",
            "100% 1/1 [00:00<00:00, 10.21it/s]\n",
            "Results saved to runs/inference/exp\n"
          ]
        }
      ]
    },
    {
      "cell_type": "code",
      "source": [
        "!python tools/infer.py --yaml {dataset.location}/data.yaml  --weights runs/train/exp/weights/best_ckpt.pt --source {dataset.location}/images/test/DJI_0571-6_jpg.rf.698a8aad100cc6359544c43805f1bd9d.jpg --device 0"
      ],
      "metadata": {
        "colab": {
          "base_uri": "https://localhost:8080/"
        },
        "id": "0cMmvXTV83MR",
        "outputId": "ce79aebe-948a-4ff6-dbc7-c38546f6f1cf"
      },
      "execution_count": null,
      "outputs": [
        {
          "output_type": "stream",
          "name": "stdout",
          "text": [
            "Namespace(weights='runs/train/exp/weights/best_ckpt.pt', source='/content/YOLOv6/Transmission-dataset-T51-1/images/test/DJI_0571-6_jpg.rf.698a8aad100cc6359544c43805f1bd9d.jpg', webcam=False, webcam_addr='0', yaml='/content/YOLOv6/Transmission-dataset-T51-1/data.yaml', img_size=[640, 640], conf_thres=0.4, iou_thres=0.45, max_det=1000, device='0', save_txt=False, not_save_img=False, save_dir=None, view_img=False, classes=None, agnostic_nms=False, project='runs/inference', name='exp', hide_labels=False, hide_conf=False, half=False)\n",
            "Save directory already existed\n",
            "Loading checkpoint from runs/train/exp/weights/best_ckpt.pt\n",
            "\n",
            "Fusing model...\n",
            "Switch model to deploy modality.\n",
            "100% 1/1 [00:00<00:00, 10.57it/s]\n",
            "Results saved to runs/inference/exp\n"
          ]
        }
      ]
    },
    {
      "cell_type": "code",
      "source": [
        "!python tools/infer.py --yaml {dataset.location}/data.yaml  --weights runs/train/exp/weights/best_ckpt.pt --source {dataset.location}/images/test/DJI_0579-1_jpg.rf.cca9e2c20934e5c2c0fdf0ddc063faf2.jpg --device 0"
      ],
      "metadata": {
        "colab": {
          "base_uri": "https://localhost:8080/"
        },
        "id": "TF9NJBY483U6",
        "outputId": "dc0e50fa-5124-4e0b-cbe3-7488f9b4fbee"
      },
      "execution_count": null,
      "outputs": [
        {
          "output_type": "stream",
          "name": "stdout",
          "text": [
            "Namespace(weights='runs/train/exp/weights/best_ckpt.pt', source='/content/YOLOv6/Transmission-dataset-T51-1/images/test/DJI_0579-1_jpg.rf.cca9e2c20934e5c2c0fdf0ddc063faf2.jpg', webcam=False, webcam_addr='0', yaml='/content/YOLOv6/Transmission-dataset-T51-1/data.yaml', img_size=[640, 640], conf_thres=0.4, iou_thres=0.45, max_det=1000, device='0', save_txt=False, not_save_img=False, save_dir=None, view_img=False, classes=None, agnostic_nms=False, project='runs/inference', name='exp', hide_labels=False, hide_conf=False, half=False)\n",
            "Save directory already existed\n",
            "Loading checkpoint from runs/train/exp/weights/best_ckpt.pt\n",
            "\n",
            "Fusing model...\n",
            "Switch model to deploy modality.\n",
            "100% 1/1 [00:00<00:00,  9.51it/s]\n",
            "Results saved to runs/inference/exp\n"
          ]
        }
      ]
    },
    {
      "cell_type": "code",
      "source": [
        "!python tools/infer.py --yaml {dataset.location}/data.yaml  --weights runs/train/exp/weights/best_ckpt.pt --source {dataset.location}/images/test/DJI_0591-3_jpg.rf.d3bbe754f05bc4b97e167df9e6c2bc48.jpg --device 0"
      ],
      "metadata": {
        "colab": {
          "base_uri": "https://localhost:8080/"
        },
        "id": "KRWWzD7i83Z5",
        "outputId": "fea7cdd3-f91b-4310-b028-ddac5ae6fb5f"
      },
      "execution_count": null,
      "outputs": [
        {
          "output_type": "stream",
          "name": "stdout",
          "text": [
            "Namespace(weights='runs/train/exp/weights/best_ckpt.pt', source='/content/YOLOv6/Transmission-dataset-T51-1/images/test/DJI_0591-3_jpg.rf.d3bbe754f05bc4b97e167df9e6c2bc48.jpg', webcam=False, webcam_addr='0', yaml='/content/YOLOv6/Transmission-dataset-T51-1/data.yaml', img_size=[640, 640], conf_thres=0.4, iou_thres=0.45, max_det=1000, device='0', save_txt=False, not_save_img=False, save_dir=None, view_img=False, classes=None, agnostic_nms=False, project='runs/inference', name='exp', hide_labels=False, hide_conf=False, half=False)\n",
            "Save directory already existed\n",
            "Loading checkpoint from runs/train/exp/weights/best_ckpt.pt\n",
            "\n",
            "Fusing model...\n",
            "Switch model to deploy modality.\n",
            "100% 1/1 [00:00<00:00, 10.26it/s]\n",
            "Results saved to runs/inference/exp\n"
          ]
        }
      ]
    },
    {
      "cell_type": "code",
      "source": [
        "!python tools/infer.py --yaml {dataset.location}/data.yaml  --weights runs/train/exp/weights/best_ckpt.pt --source {dataset.location}/images/test/DJI_0639-2_jpg.rf.9b08f8cecd1c6dc2ba5448137205230b.jpg --device 0"
      ],
      "metadata": {
        "colab": {
          "base_uri": "https://localhost:8080/"
        },
        "id": "_jS-ZgCR83eB",
        "outputId": "2a74d6e9-5731-45d3-9b55-72642ae64ccb"
      },
      "execution_count": null,
      "outputs": [
        {
          "output_type": "stream",
          "name": "stdout",
          "text": [
            "Namespace(weights='runs/train/exp/weights/best_ckpt.pt', source='/content/YOLOv6/Transmission-dataset-T51-1/images/test/DJI_0639-2_jpg.rf.9b08f8cecd1c6dc2ba5448137205230b.jpg', webcam=False, webcam_addr='0', yaml='/content/YOLOv6/Transmission-dataset-T51-1/data.yaml', img_size=[640, 640], conf_thres=0.4, iou_thres=0.45, max_det=1000, device='0', save_txt=False, not_save_img=False, save_dir=None, view_img=False, classes=None, agnostic_nms=False, project='runs/inference', name='exp', hide_labels=False, hide_conf=False, half=False)\n",
            "Save directory already existed\n",
            "Loading checkpoint from runs/train/exp/weights/best_ckpt.pt\n",
            "\n",
            "Fusing model...\n",
            "Switch model to deploy modality.\n",
            "100% 1/1 [00:00<00:00, 10.29it/s]\n",
            "Results saved to runs/inference/exp\n"
          ]
        }
      ]
    },
    {
      "cell_type": "code",
      "source": [
        "!python tools/infer.py --yaml {dataset.location}/data.yaml  --weights runs/train/exp/weights/best_ckpt.pt --source {dataset.location}/images/test/DJI_0649-2_jpg.rf.d8f9412a54c20daf6af713408ffe73e9.jpg --device 0"
      ],
      "metadata": {
        "colab": {
          "base_uri": "https://localhost:8080/"
        },
        "id": "Ue6Hk9kt8356",
        "outputId": "c4b43774-8482-4184-d20f-4547c3d08aba"
      },
      "execution_count": null,
      "outputs": [
        {
          "output_type": "stream",
          "name": "stdout",
          "text": [
            "Namespace(weights='runs/train/exp/weights/best_ckpt.pt', source='/content/YOLOv6/Transmission-dataset-T51-1/images/test/DJI_0649-2_jpg.rf.d8f9412a54c20daf6af713408ffe73e9.jpg', webcam=False, webcam_addr='0', yaml='/content/YOLOv6/Transmission-dataset-T51-1/data.yaml', img_size=[640, 640], conf_thres=0.4, iou_thres=0.45, max_det=1000, device='0', save_txt=False, not_save_img=False, save_dir=None, view_img=False, classes=None, agnostic_nms=False, project='runs/inference', name='exp', hide_labels=False, hide_conf=False, half=False)\n",
            "Save directory already existed\n",
            "Loading checkpoint from runs/train/exp/weights/best_ckpt.pt\n",
            "\n",
            "Fusing model...\n",
            "Switch model to deploy modality.\n",
            "100% 1/1 [00:00<00:00,  9.97it/s]\n",
            "Results saved to runs/inference/exp\n"
          ]
        }
      ]
    },
    {
      "cell_type": "code",
      "source": [
        "!python tools/infer.py --yaml {dataset.location}/data.yaml  --weights runs/train/exp/weights/best_ckpt.pt --source {dataset.location}/images/test/DJI_0677-2_jpg.rf.c3ec437f4035fa4fc75c3579a019d79d.jpg --device 0"
      ],
      "metadata": {
        "colab": {
          "base_uri": "https://localhost:8080/"
        },
        "id": "uF0ohzH_83_j",
        "outputId": "63300628-3512-43d0-ca70-7d055e7bce3d"
      },
      "execution_count": null,
      "outputs": [
        {
          "output_type": "stream",
          "name": "stdout",
          "text": [
            "Namespace(weights='runs/train/exp/weights/best_ckpt.pt', source='/content/YOLOv6/Transmission-dataset-T51-1/images/test/DJI_0677-2_jpg.rf.c3ec437f4035fa4fc75c3579a019d79d.jpg', webcam=False, webcam_addr='0', yaml='/content/YOLOv6/Transmission-dataset-T51-1/data.yaml', img_size=[640, 640], conf_thres=0.4, iou_thres=0.45, max_det=1000, device='0', save_txt=False, not_save_img=False, save_dir=None, view_img=False, classes=None, agnostic_nms=False, project='runs/inference', name='exp', hide_labels=False, hide_conf=False, half=False)\n",
            "Save directory already existed\n",
            "Loading checkpoint from runs/train/exp/weights/best_ckpt.pt\n",
            "\n",
            "Fusing model...\n",
            "Switch model to deploy modality.\n",
            "100% 1/1 [00:00<00:00, 10.29it/s]\n",
            "Results saved to runs/inference/exp\n"
          ]
        }
      ]
    },
    {
      "cell_type": "code",
      "source": [
        "!python tools/infer.py --yaml {dataset.location}/data.yaml  --weights runs/train/exp/weights/best_ckpt.pt --source {dataset.location}/images/test/DJI_0681_jpg.rf.592a0b2e77b11378fea61271739a2287.jpg --device 0"
      ],
      "metadata": {
        "colab": {
          "base_uri": "https://localhost:8080/"
        },
        "id": "E3imlbey84Dr",
        "outputId": "0df4c60a-3a96-411b-d150-98bc72508a9b"
      },
      "execution_count": null,
      "outputs": [
        {
          "output_type": "stream",
          "name": "stdout",
          "text": [
            "Namespace(weights='runs/train/exp/weights/best_ckpt.pt', source='/content/YOLOv6/Transmission-dataset-T51-1/images/test/DJI_0681_jpg.rf.592a0b2e77b11378fea61271739a2287.jpg', webcam=False, webcam_addr='0', yaml='/content/YOLOv6/Transmission-dataset-T51-1/data.yaml', img_size=[640, 640], conf_thres=0.4, iou_thres=0.45, max_det=1000, device='0', save_txt=False, not_save_img=False, save_dir=None, view_img=False, classes=None, agnostic_nms=False, project='runs/inference', name='exp', hide_labels=False, hide_conf=False, half=False)\n",
            "Save directory already existed\n",
            "Loading checkpoint from runs/train/exp/weights/best_ckpt.pt\n",
            "\n",
            "Fusing model...\n",
            "Switch model to deploy modality.\n",
            "100% 1/1 [00:00<00:00, 10.25it/s]\n",
            "Results saved to runs/inference/exp\n"
          ]
        }
      ]
    },
    {
      "cell_type": "code",
      "source": [
        "!python tools/infer.py --yaml {dataset.location}/data.yaml  --weights runs/train/exp/weights/best_ckpt.pt --source {dataset.location}/images/test/DJI_0683_jpg.rf.af306f549ff36cba8d68444ebaa0f894.jpg --device 0"
      ],
      "metadata": {
        "colab": {
          "base_uri": "https://localhost:8080/"
        },
        "id": "0LAcvXM084Ki",
        "outputId": "f74857bf-dd14-4004-848e-e0a94416cbf2"
      },
      "execution_count": null,
      "outputs": [
        {
          "output_type": "stream",
          "name": "stdout",
          "text": [
            "Namespace(weights='runs/train/exp/weights/best_ckpt.pt', source='/content/YOLOv6/Transmission-dataset-T51-1/images/test/DJI_0683_jpg.rf.af306f549ff36cba8d68444ebaa0f894.jpg', webcam=False, webcam_addr='0', yaml='/content/YOLOv6/Transmission-dataset-T51-1/data.yaml', img_size=[640, 640], conf_thres=0.4, iou_thres=0.45, max_det=1000, device='0', save_txt=False, not_save_img=False, save_dir=None, view_img=False, classes=None, agnostic_nms=False, project='runs/inference', name='exp', hide_labels=False, hide_conf=False, half=False)\n",
            "Save directory already existed\n",
            "Loading checkpoint from runs/train/exp/weights/best_ckpt.pt\n",
            "\n",
            "Fusing model...\n",
            "Switch model to deploy modality.\n",
            "100% 1/1 [00:00<00:00, 10.19it/s]\n",
            "Results saved to runs/inference/exp\n"
          ]
        }
      ]
    },
    {
      "cell_type": "code",
      "source": [
        "!python tools/infer.py --yaml {dataset.location}/data.yaml  --weights runs/train/exp/weights/best_ckpt.pt --source {dataset.location}/images/test/DJI_0685_jpg.rf.31975d6c41083ad866341d6ee158226d.jpg --device 0"
      ],
      "metadata": {
        "colab": {
          "base_uri": "https://localhost:8080/"
        },
        "id": "crtcuEJ385uR",
        "outputId": "549b5ecf-8818-4889-dc2a-9dbe672c26a3"
      },
      "execution_count": null,
      "outputs": [
        {
          "output_type": "stream",
          "name": "stdout",
          "text": [
            "Namespace(weights='runs/train/exp/weights/best_ckpt.pt', source='/content/YOLOv6/Transmission-dataset-T51-1/images/test/DJI_0685_jpg.rf.31975d6c41083ad866341d6ee158226d.jpg', webcam=False, webcam_addr='0', yaml='/content/YOLOv6/Transmission-dataset-T51-1/data.yaml', img_size=[640, 640], conf_thres=0.4, iou_thres=0.45, max_det=1000, device='0', save_txt=False, not_save_img=False, save_dir=None, view_img=False, classes=None, agnostic_nms=False, project='runs/inference', name='exp', hide_labels=False, hide_conf=False, half=False)\n",
            "Save directory already existed\n",
            "Loading checkpoint from runs/train/exp/weights/best_ckpt.pt\n",
            "\n",
            "Fusing model...\n",
            "Switch model to deploy modality.\n",
            "100% 1/1 [00:00<00:00, 10.98it/s]\n",
            "Results saved to runs/inference/exp\n"
          ]
        }
      ]
    },
    {
      "cell_type": "code",
      "source": [
        "!python tools/infer.py --yaml {dataset.location}/data.yaml  --weights runs/train/exp/weights/best_ckpt.pt --source {dataset.location}/images/test/DJI_0689_jpg.rf.51aa7429c16c3d4827056305e52298b6.jpg --device 0"
      ],
      "metadata": {
        "colab": {
          "base_uri": "https://localhost:8080/"
        },
        "id": "cIRSUC1V855y",
        "outputId": "df15b15c-a611-4f28-f70f-966ad9506e0d"
      },
      "execution_count": null,
      "outputs": [
        {
          "output_type": "stream",
          "name": "stdout",
          "text": [
            "Namespace(weights='runs/train/exp/weights/best_ckpt.pt', source='/content/YOLOv6/Transmission-dataset-T51-1/images/test/DJI_0689_jpg.rf.51aa7429c16c3d4827056305e52298b6.jpg', webcam=False, webcam_addr='0', yaml='/content/YOLOv6/Transmission-dataset-T51-1/data.yaml', img_size=[640, 640], conf_thres=0.4, iou_thres=0.45, max_det=1000, device='0', save_txt=False, not_save_img=False, save_dir=None, view_img=False, classes=None, agnostic_nms=False, project='runs/inference', name='exp', hide_labels=False, hide_conf=False, half=False)\n",
            "Save directory already existed\n",
            "Loading checkpoint from runs/train/exp/weights/best_ckpt.pt\n",
            "\n",
            "Fusing model...\n",
            "Switch model to deploy modality.\n",
            "100% 1/1 [00:00<00:00,  9.75it/s]\n",
            "Results saved to runs/inference/exp\n"
          ]
        }
      ]
    },
    {
      "cell_type": "code",
      "source": [
        "!python tools/infer.py --yaml {dataset.location}/data.yaml  --weights runs/train/exp/weights/best_ckpt.pt --source {dataset.location}/images/test/DJI_0693-2_jpg.rf.dcf252862f9198010c2a327b4ad390f4.jpg --device 0"
      ],
      "metadata": {
        "colab": {
          "base_uri": "https://localhost:8080/"
        },
        "id": "ePAMG5oP86Eq",
        "outputId": "3ccd2708-ee3c-43bf-82a3-7615c6999d49"
      },
      "execution_count": null,
      "outputs": [
        {
          "output_type": "stream",
          "name": "stdout",
          "text": [
            "Namespace(weights='runs/train/exp/weights/best_ckpt.pt', source='/content/YOLOv6/Transmission-dataset-T51-1/images/test/DJI_0693-2_jpg.rf.dcf252862f9198010c2a327b4ad390f4.jpg', webcam=False, webcam_addr='0', yaml='/content/YOLOv6/Transmission-dataset-T51-1/data.yaml', img_size=[640, 640], conf_thres=0.4, iou_thres=0.45, max_det=1000, device='0', save_txt=False, not_save_img=False, save_dir=None, view_img=False, classes=None, agnostic_nms=False, project='runs/inference', name='exp', hide_labels=False, hide_conf=False, half=False)\n",
            "Save directory already existed\n",
            "Loading checkpoint from runs/train/exp/weights/best_ckpt.pt\n",
            "\n",
            "Fusing model...\n",
            "Switch model to deploy modality.\n",
            "100% 1/1 [00:00<00:00, 10.36it/s]\n",
            "Results saved to runs/inference/exp\n"
          ]
        }
      ]
    },
    {
      "cell_type": "code",
      "source": [
        "!python tools/infer.py --yaml {dataset.location}/data.yaml  --weights runs/train/exp/weights/best_ckpt.pt --source {dataset.location}/images/test/DJI_0701-2_jpg.rf.365645864595ac1dbb9e448f607c739b.jpg --device 0"
      ],
      "metadata": {
        "colab": {
          "base_uri": "https://localhost:8080/"
        },
        "id": "G0jFINa886Vp",
        "outputId": "d34b84d4-ed32-42ee-c7aa-c5a3647b2352"
      },
      "execution_count": null,
      "outputs": [
        {
          "output_type": "stream",
          "name": "stdout",
          "text": [
            "Namespace(weights='runs/train/exp/weights/best_ckpt.pt', source='/content/YOLOv6/Transmission-dataset-T51-1/images/test/DJI_0701-2_jpg.rf.365645864595ac1dbb9e448f607c739b.jpg', webcam=False, webcam_addr='0', yaml='/content/YOLOv6/Transmission-dataset-T51-1/data.yaml', img_size=[640, 640], conf_thres=0.4, iou_thres=0.45, max_det=1000, device='0', save_txt=False, not_save_img=False, save_dir=None, view_img=False, classes=None, agnostic_nms=False, project='runs/inference', name='exp', hide_labels=False, hide_conf=False, half=False)\n",
            "Save directory already existed\n",
            "Loading checkpoint from runs/train/exp/weights/best_ckpt.pt\n",
            "\n",
            "Fusing model...\n",
            "Switch model to deploy modality.\n",
            "100% 1/1 [00:00<00:00, 10.70it/s]\n",
            "Results saved to runs/inference/exp\n"
          ]
        }
      ]
    },
    {
      "cell_type": "code",
      "source": [
        "!python tools/infer.py --yaml {dataset.location}/data.yaml  --weights runs/train/exp/weights/best_ckpt.pt --source {dataset.location}/images/test/DJI_0703-2_jpg.rf.e19c370d7979da69b16c1a01306e0133.jpg --device 0"
      ],
      "metadata": {
        "colab": {
          "base_uri": "https://localhost:8080/"
        },
        "id": "vXrr4fzX86kT",
        "outputId": "52d0f755-a8f2-4b88-aa25-7288bc95282d"
      },
      "execution_count": null,
      "outputs": [
        {
          "output_type": "stream",
          "name": "stdout",
          "text": [
            "Namespace(weights='runs/train/exp/weights/best_ckpt.pt', source='/content/YOLOv6/Transmission-dataset-T51-1/images/test/DJI_0703-2_jpg.rf.e19c370d7979da69b16c1a01306e0133.jpg', webcam=False, webcam_addr='0', yaml='/content/YOLOv6/Transmission-dataset-T51-1/data.yaml', img_size=[640, 640], conf_thres=0.4, iou_thres=0.45, max_det=1000, device='0', save_txt=False, not_save_img=False, save_dir=None, view_img=False, classes=None, agnostic_nms=False, project='runs/inference', name='exp', hide_labels=False, hide_conf=False, half=False)\n",
            "Save directory already existed\n",
            "Loading checkpoint from runs/train/exp/weights/best_ckpt.pt\n",
            "\n",
            "Fusing model...\n",
            "Switch model to deploy modality.\n",
            "100% 1/1 [00:00<00:00,  9.39it/s]\n",
            "Results saved to runs/inference/exp\n"
          ]
        }
      ]
    },
    {
      "cell_type": "code",
      "source": [
        "!python tools/infer.py --yaml {dataset.location}/data.yaml  --weights runs/train/exp/weights/best_ckpt.pt --source {dataset.location}/images/test/DJI_0729_jpg.rf.60dee5f639dff4629b010ea30c2bbcbe.jpg --device 0"
      ],
      "metadata": {
        "colab": {
          "base_uri": "https://localhost:8080/"
        },
        "id": "1lfZM_yK86ta",
        "outputId": "d0bc044f-b028-4c33-e6f1-4065894fa1d6"
      },
      "execution_count": null,
      "outputs": [
        {
          "output_type": "stream",
          "name": "stdout",
          "text": [
            "Namespace(weights='runs/train/exp/weights/best_ckpt.pt', source='/content/YOLOv6/Transmission-dataset-T51-1/images/test/DJI_0729_jpg.rf.60dee5f639dff4629b010ea30c2bbcbe.jpg', webcam=False, webcam_addr='0', yaml='/content/YOLOv6/Transmission-dataset-T51-1/data.yaml', img_size=[640, 640], conf_thres=0.4, iou_thres=0.45, max_det=1000, device='0', save_txt=False, not_save_img=False, save_dir=None, view_img=False, classes=None, agnostic_nms=False, project='runs/inference', name='exp', hide_labels=False, hide_conf=False, half=False)\n",
            "Save directory already existed\n",
            "Loading checkpoint from runs/train/exp/weights/best_ckpt.pt\n",
            "\n",
            "Fusing model...\n",
            "Switch model to deploy modality.\n",
            "100% 1/1 [00:00<00:00, 10.37it/s]\n",
            "Results saved to runs/inference/exp\n"
          ]
        }
      ]
    },
    {
      "cell_type": "code",
      "execution_count": null,
      "metadata": {
        "colab": {
          "base_uri": "https://localhost:8080/"
        },
        "outputId": "5c190fd9-89fe-43b1-ee4b-9e6549f33410",
        "id": "LKFxMRrs-8N8"
      },
      "outputs": [
        {
          "output_type": "stream",
          "name": "stdout",
          "text": [
            "./runs/inference/exp/DJI_0565-4_jpg.rf.d9300e9090d101665896829a31fc6694.jpg\n"
          ]
        },
        {
          "output_type": "execute_result",
          "data": {
            "text/plain": [
              "1"
            ]
          },
          "metadata": {},
          "execution_count": 26
        }
      ],
      "source": [
        "import cv2\n",
        "import os\n",
        "import random\n",
        "label_folder = r'/content/YOLOv6/Transmission-dataset-T51-1/labels'\n",
        "raw_images_folder = r'/content/YOLOv6/Transmission-dataset-T51-1/images'\n",
        "save_images_folder = r'/content/YOLOv6/save_images_test'\n",
        "name_list_path = r'/content/YOLOv6/Transmission-dataset-T51-1/labels/test'\n",
        "classes_path = r'/content/YOLOv6/Transmission-dataset-T51-1'\n",
        "image_name=r'./runs/inference/exp/DJI_0565-4_jpg.rf.d9300e9090d101665896829a31fc6694.jpg'\n",
        "label=name_of_class='defect insulator'\n",
        "\n",
        "def plot_one_box(x, image, color=None, label=name_of_class,line_thickness=None):\n",
        "\n",
        "    tl = line_thickness or round(0.002 * (image.shape[0] + image.shape[1]) / 2) + 1  # line/font thickness\n",
        "    color = color or [random.randint(0, 255) for _ in range(3)]\n",
        "    c1, c2 = (int(x[0]), int(x[1])), (int(x[2]), int(x[3]))\n",
        "    cv2.rectangle(image, c1, c2, color, thickness=tl, lineType=cv2.LINE_AA)\n",
        "    if label:\n",
        "        tf = max(tl - 1, 1)  # font thickness\n",
        "        t_size = cv2.getTextSize(str(label), 0, fontScale=tl / 3,thickness=tf)[0]\n",
        "        c2 = c1[0] + t_size[0], c1[1] - t_size[1] - 3\n",
        "        cv2.rectangle(image, c1, c2, color, -1, cv2.LINE_AA)  # filled\n",
        "        cv2.putText(image, str(label), (c1[0], c1[1] - 2), 0, tl / 3, [225, 255, 255], thickness=tf, lineType=cv2.LINE_AA)\n",
        "def draw_box_on_image(image_name, classes_path, label_folder, raw_images_folder, save_images_folder ):\n",
        "    txt_path  = r\"/content/YOLOv6/Transmission-dataset-T51-1/labels/test/DJI_0565-4_jpg.rf.d9300e9090d101665896829a31fc6694.txt\"\n",
        "    print(image_name)\n",
        "    if image_name == '.DS_Store':\n",
        "        return 0\n",
        "    image_path = r\"./runs/inference/exp/DJI_0565-4_jpg.rf.d9300e9090d101665896829a31fc6694.jpg\"\n",
        "    save_file_path = r\"/content/YOLOv6/save_images_test/DJI_0565-4\"\n",
        "    source_file = open(txt_path) if os.path.exists(txt_path) else []\n",
        "    image = cv2.imread(image_path)\n",
        "    try:\n",
        "        height, width, channels = image.shape\n",
        "    except:\n",
        "        print('no shape info.')\n",
        "        return 0\n",
        "    box_number = 0\n",
        "    for line in source_file:\n",
        "        staff = line.split()\n",
        "        class_idx = int(staff[0])\n",
        "        x_center, y_center, w, h = float(staff[1])*width, float(staff[2])*height, float(staff[3])*width, float(staff[4])*height\n",
        "        x1 = round(x_center-w/2)\n",
        "        y1 = round(y_center-h/2)\n",
        "        x2 = round(x_center+w/2)\n",
        "        y2 = round(y_center+h/2)\n",
        "        plot_one_box([x1,y1,x2,y2], image,  label=name_of_class, line_thickness=None)\n",
        "        cv2.imwrite(r\"/content/YOLOv6/save_images_test/DJI_0565-4.jpg\",image)\n",
        "        box_number += 1\n",
        "        return box_number\n",
        "draw_box_on_image(image_name, classes_path,  label_folder, raw_images_folder, save_images_folder )\n",
        "\n",
        "\n",
        "\n"
      ]
    },
    {
      "cell_type": "code",
      "execution_count": null,
      "metadata": {
        "colab": {
          "base_uri": "https://localhost:8080/"
        },
        "outputId": "99caf2e7-a716-4d2f-e170-b7217d2e33af",
        "id": "oCab3n2M_IQV"
      },
      "outputs": [
        {
          "output_type": "stream",
          "name": "stdout",
          "text": [
            "./runs/inference/exp/DJI_0571-6_jpg.rf.698a8aad100cc6359544c43805f1bd9d.jpg\n"
          ]
        },
        {
          "output_type": "execute_result",
          "data": {
            "text/plain": [
              "1"
            ]
          },
          "metadata": {},
          "execution_count": 27
        }
      ],
      "source": [
        "import cv2\n",
        "import os\n",
        "import random\n",
        "label_folder = r'/content/YOLOv6/Transmission-dataset-T51-1/labels'\n",
        "raw_images_folder = r'/content/YOLOv6/Transmission-dataset-T51-1/images'\n",
        "save_images_folder = r'/content/YOLOv6/save_images_test'\n",
        "name_list_path = r'/content/YOLOv6/Transmission-dataset-T51-1/labels/test'\n",
        "classes_path = r'/content/YOLOv6/Transmission-dataset-T51-1'\n",
        "image_name=r'./runs/inference/exp/DJI_0571-6_jpg.rf.698a8aad100cc6359544c43805f1bd9d.jpg'\n",
        "label=name_of_class='defect insulator'\n",
        "\n",
        "def plot_one_box(x, image, color=None, label=name_of_class,line_thickness=None):\n",
        "\n",
        "    tl = line_thickness or round(0.002 * (image.shape[0] + image.shape[1]) / 2) + 1  # line/font thickness\n",
        "    color = color or [random.randint(0, 255) for _ in range(3)]\n",
        "    c1, c2 = (int(x[0]), int(x[1])), (int(x[2]), int(x[3]))\n",
        "    cv2.rectangle(image, c1, c2, color, thickness=tl, lineType=cv2.LINE_AA)\n",
        "    if label:\n",
        "        tf = max(tl - 1, 1)  # font thickness\n",
        "        t_size = cv2.getTextSize(str(label), 0, fontScale=tl / 3,thickness=tf)[0]\n",
        "        c2 = c1[0] + t_size[0], c1[1] - t_size[1] - 3\n",
        "        cv2.rectangle(image, c1, c2, color, -1, cv2.LINE_AA)  # filled\n",
        "        cv2.putText(image, str(label), (c1[0], c1[1] - 2), 0, tl / 3, [225, 255, 255], thickness=tf, lineType=cv2.LINE_AA)\n",
        "def draw_box_on_image(image_name, classes_path, label_folder, raw_images_folder, save_images_folder ):\n",
        "    txt_path  = r\"/content/YOLOv6/Transmission-dataset-T51-1/labels/test/DJI_0571-6_jpg.rf.698a8aad100cc6359544c43805f1bd9d.txt\"\n",
        "    print(image_name)\n",
        "    if image_name == '.DS_Store':\n",
        "        return 0\n",
        "    image_path = r\"./runs/inference/exp/DJI_0571-6_jpg.rf.698a8aad100cc6359544c43805f1bd9d.jpg\"\n",
        "    save_file_path = r\"/content/YOLOv6/save_images_test/DJI_0571-6\"\n",
        "    source_file = open(txt_path) if os.path.exists(txt_path) else []\n",
        "    image = cv2.imread(image_path)\n",
        "    try:\n",
        "        height, width, channels = image.shape\n",
        "    except:\n",
        "        print('no shape info.')\n",
        "        return 0\n",
        "    box_number = 0\n",
        "    for line in source_file:\n",
        "        staff = line.split()\n",
        "        class_idx = int(staff[0])\n",
        "        x_center, y_center, w, h = float(staff[1])*width, float(staff[2])*height, float(staff[3])*width, float(staff[4])*height\n",
        "        x1 = round(x_center-w/2)\n",
        "        y1 = round(y_center-h/2)\n",
        "        x2 = round(x_center+w/2)\n",
        "        y2 = round(y_center+h/2)\n",
        "        plot_one_box([x1,y1,x2,y2], image,  label=name_of_class, line_thickness=None)\n",
        "        cv2.imwrite(r\"/content/YOLOv6/save_images_test/DJI_0571-6.jpg\",image)\n",
        "        box_number += 1\n",
        "        return box_number\n",
        "draw_box_on_image(image_name, classes_path,  label_folder, raw_images_folder, save_images_folder )\n",
        "\n",
        "\n",
        "\n"
      ]
    },
    {
      "cell_type": "code",
      "execution_count": null,
      "metadata": {
        "colab": {
          "base_uri": "https://localhost:8080/"
        },
        "outputId": "37d0021a-aece-47a2-889a-438a190dfb92",
        "id": "4ngE4rFE_KDp"
      },
      "outputs": [
        {
          "output_type": "stream",
          "name": "stdout",
          "text": [
            "./runs/inference/exp/DJI_0579-1_jpg.rf.cca9e2c20934e5c2c0fdf0ddc063faf2.jpg\n"
          ]
        },
        {
          "output_type": "execute_result",
          "data": {
            "text/plain": [
              "1"
            ]
          },
          "metadata": {},
          "execution_count": 29
        }
      ],
      "source": [
        "import cv2\n",
        "import os\n",
        "import random\n",
        "label_folder = r'/content/YOLOv6/Transmission-dataset-T51-1/labels'\n",
        "raw_images_folder = r'/content/YOLOv6/Transmission-dataset-T51-1/images'\n",
        "save_images_folder = r'/content/YOLOv6/save_images_test'\n",
        "name_list_path = r'/content/YOLOv6/Transmission-dataset-T51-1/labels/test'\n",
        "classes_path = r'/content/YOLOv6/Transmission-dataset-T51-1'\n",
        "image_name=r'./runs/inference/exp/DJI_0579-1_jpg.rf.cca9e2c20934e5c2c0fdf0ddc063faf2.jpg'\n",
        "label=name_of_class='defect insulator'\n",
        "\n",
        "def plot_one_box(x, image, color=None, label=name_of_class,line_thickness=None):\n",
        "\n",
        "    tl = line_thickness or round(0.002 * (image.shape[0] + image.shape[1]) / 2) + 1  # line/font thickness\n",
        "    color = color or [random.randint(0, 255) for _ in range(3)]\n",
        "    c1, c2 = (int(x[0]), int(x[1])), (int(x[2]), int(x[3]))\n",
        "    cv2.rectangle(image, c1, c2, color, thickness=tl, lineType=cv2.LINE_AA)\n",
        "    if label:\n",
        "        tf = max(tl - 1, 1)  # font thickness\n",
        "        t_size = cv2.getTextSize(str(label), 0, fontScale=tl / 3,thickness=tf)[0]\n",
        "        c2 = c1[0] + t_size[0], c1[1] - t_size[1] - 3\n",
        "        cv2.rectangle(image, c1, c2, color, -1, cv2.LINE_AA)  # filled\n",
        "        cv2.putText(image, str(label), (c1[0], c1[1] - 2), 0, tl / 3, [225, 255, 255], thickness=tf, lineType=cv2.LINE_AA)\n",
        "def draw_box_on_image(image_name, classes_path, label_folder, raw_images_folder, save_images_folder ):\n",
        "    txt_path  = r\"/content/YOLOv6/Transmission-dataset-T51-1/labels/test/DJI_0579-1_jpg.rf.cca9e2c20934e5c2c0fdf0ddc063faf2.txt\"\n",
        "    print(image_name)\n",
        "    if image_name == '.DS_Store':\n",
        "        return 0\n",
        "    image_path = r\"./runs/inference/exp/DJI_0579-1_jpg.rf.cca9e2c20934e5c2c0fdf0ddc063faf2.jpg\"\n",
        "    save_file_path = r\"/content/YOLOv6/save_images_test/DJI_0579-1\"\n",
        "    source_file = open(txt_path) if os.path.exists(txt_path) else []\n",
        "    image = cv2.imread(image_path)\n",
        "    try:\n",
        "        height, width, channels = image.shape\n",
        "    except:\n",
        "        print('no shape info.')\n",
        "        return 0\n",
        "    box_number = 0\n",
        "    for line in source_file:\n",
        "        staff = line.split()\n",
        "        class_idx = int(staff[0])\n",
        "        x_center, y_center, w, h = float(staff[1])*width, float(staff[2])*height, float(staff[3])*width, float(staff[4])*height\n",
        "        x1 = round(x_center-w/2)\n",
        "        y1 = round(y_center-h/2)\n",
        "        x2 = round(x_center+w/2)\n",
        "        y2 = round(y_center+h/2)\n",
        "        plot_one_box([x1,y1,x2,y2], image,  label=name_of_class, line_thickness=None)\n",
        "        cv2.imwrite(r\"/content/YOLOv6/save_images_test/DJI_0579-1.jpg\",image)\n",
        "        box_number += 1\n",
        "        return box_number\n",
        "draw_box_on_image(image_name, classes_path,  label_folder, raw_images_folder, save_images_folder )\n",
        "\n",
        "\n",
        "\n"
      ]
    },
    {
      "cell_type": "code",
      "execution_count": null,
      "metadata": {
        "colab": {
          "base_uri": "https://localhost:8080/"
        },
        "outputId": "5934892d-2e64-493a-85f6-1ef7628c0ac9",
        "id": "Xsxa5NFZ_KOV"
      },
      "outputs": [
        {
          "output_type": "stream",
          "name": "stdout",
          "text": [
            "./runs/inference/exp/DJI_0591-3_jpg.rf.d3bbe754f05bc4b97e167df9e6c2bc48.jpg\n"
          ]
        },
        {
          "output_type": "execute_result",
          "data": {
            "text/plain": [
              "1"
            ]
          },
          "metadata": {},
          "execution_count": 30
        }
      ],
      "source": [
        "import cv2\n",
        "import os\n",
        "import random\n",
        "label_folder = r'/content/YOLOv6/Transmission-dataset-T51-1/labels'\n",
        "raw_images_folder = r'/content/YOLOv6/Transmission-dataset-T51-1/images'\n",
        "save_images_folder = r'/content/YOLOv6/save_images_test'\n",
        "name_list_path = r'/content/YOLOv6/Transmission-dataset-T51-1/labels/test'\n",
        "classes_path = r'/content/YOLOv6/Transmission-dataset-T51-1'\n",
        "image_name=r'./runs/inference/exp/DJI_0591-3_jpg.rf.d3bbe754f05bc4b97e167df9e6c2bc48.jpg'\n",
        "label=name_of_class='defect insulator'\n",
        "\n",
        "def plot_one_box(x, image, color=None, label=name_of_class,line_thickness=None):\n",
        "\n",
        "    tl = line_thickness or round(0.002 * (image.shape[0] + image.shape[1]) / 2) + 1  # line/font thickness\n",
        "    color = color or [random.randint(0, 255) for _ in range(3)]\n",
        "    c1, c2 = (int(x[0]), int(x[1])), (int(x[2]), int(x[3]))\n",
        "    cv2.rectangle(image, c1, c2, color, thickness=tl, lineType=cv2.LINE_AA)\n",
        "    if label:\n",
        "        tf = max(tl - 1, 1)  # font thickness\n",
        "        t_size = cv2.getTextSize(str(label), 0, fontScale=tl / 3,thickness=tf)[0]\n",
        "        c2 = c1[0] + t_size[0], c1[1] - t_size[1] - 3\n",
        "        cv2.rectangle(image, c1, c2, color, -1, cv2.LINE_AA)  # filled\n",
        "        cv2.putText(image, str(label), (c1[0], c1[1] - 2), 0, tl / 3, [225, 255, 255], thickness=tf, lineType=cv2.LINE_AA)\n",
        "def draw_box_on_image(image_name, classes_path, label_folder, raw_images_folder, save_images_folder ):\n",
        "    txt_path  = r\"/content/YOLOv6/Transmission-dataset-T51-1/labels/test/DJI_0591-3_jpg.rf.d3bbe754f05bc4b97e167df9e6c2bc48.txt\"\n",
        "    print(image_name)\n",
        "    if image_name == '.DS_Store':\n",
        "        return 0\n",
        "    image_path = r\"./runs/inference/exp/DJI_0591-3_jpg.rf.d3bbe754f05bc4b97e167df9e6c2bc48.jpg\"\n",
        "    save_file_path = r\"/content/YOLOv6/save_images_test/DJI_0591-3\"\n",
        "    source_file = open(txt_path) if os.path.exists(txt_path) else []\n",
        "    image = cv2.imread(image_path)\n",
        "    try:\n",
        "        height, width, channels = image.shape\n",
        "    except:\n",
        "        print('no shape info.')\n",
        "        return 0\n",
        "    box_number = 0\n",
        "    for line in source_file:\n",
        "        staff = line.split()\n",
        "        class_idx = int(staff[0])\n",
        "        x_center, y_center, w, h = float(staff[1])*width, float(staff[2])*height, float(staff[3])*width, float(staff[4])*height\n",
        "        x1 = round(x_center-w/2)\n",
        "        y1 = round(y_center-h/2)\n",
        "        x2 = round(x_center+w/2)\n",
        "        y2 = round(y_center+h/2)\n",
        "        plot_one_box([x1,y1,x2,y2], image,  label=name_of_class, line_thickness=None)\n",
        "        cv2.imwrite(r\"/content/YOLOv6/save_images_test/DJI_0591-3.jpg\",image)\n",
        "        box_number += 1\n",
        "        return box_number\n",
        "draw_box_on_image(image_name, classes_path,  label_folder, raw_images_folder, save_images_folder )\n",
        "\n",
        "\n",
        "\n"
      ]
    },
    {
      "cell_type": "code",
      "execution_count": null,
      "metadata": {
        "colab": {
          "base_uri": "https://localhost:8080/"
        },
        "outputId": "434093f1-7bec-4118-ec12-3cd4f8dc649d",
        "id": "emOwf2M__KYE"
      },
      "outputs": [
        {
          "output_type": "stream",
          "name": "stdout",
          "text": [
            "./runs/inference/exp/DJI_0639-2_jpg.rf.9b08f8cecd1c6dc2ba5448137205230b.jpg\n"
          ]
        },
        {
          "output_type": "execute_result",
          "data": {
            "text/plain": [
              "1"
            ]
          },
          "metadata": {},
          "execution_count": 31
        }
      ],
      "source": [
        "import cv2\n",
        "import os\n",
        "import random\n",
        "label_folder = r'/content/YOLOv6/Transmission-dataset-T51-1/labels'\n",
        "raw_images_folder = r'/content/YOLOv6/Transmission-dataset-T51-1/images'\n",
        "save_images_folder = r'/content/YOLOv6/save_images_test'\n",
        "name_list_path = r'/content/YOLOv6/Transmission-dataset-T51-1/labels/test'\n",
        "classes_path = r'/content/YOLOv6/Transmission-dataset-T51-1'\n",
        "image_name=r'./runs/inference/exp/DJI_0639-2_jpg.rf.9b08f8cecd1c6dc2ba5448137205230b.jpg'\n",
        "label=name_of_class='defect insulator'\n",
        "\n",
        "def plot_one_box(x, image, color=None, label=name_of_class,line_thickness=None):\n",
        "\n",
        "    tl = line_thickness or round(0.002 * (image.shape[0] + image.shape[1]) / 2) + 1  # line/font thickness\n",
        "    color = color or [random.randint(0, 255) for _ in range(3)]\n",
        "    c1, c2 = (int(x[0]), int(x[1])), (int(x[2]), int(x[3]))\n",
        "    cv2.rectangle(image, c1, c2, color, thickness=tl, lineType=cv2.LINE_AA)\n",
        "    if label:\n",
        "        tf = max(tl - 1, 1)  # font thickness\n",
        "        t_size = cv2.getTextSize(str(label), 0, fontScale=tl / 3,thickness=tf)[0]\n",
        "        c2 = c1[0] + t_size[0], c1[1] - t_size[1] - 3\n",
        "        cv2.rectangle(image, c1, c2, color, -1, cv2.LINE_AA)  # filled\n",
        "        cv2.putText(image, str(label), (c1[0], c1[1] - 2), 0, tl / 3, [225, 255, 255], thickness=tf, lineType=cv2.LINE_AA)\n",
        "def draw_box_on_image(image_name, classes_path, label_folder, raw_images_folder, save_images_folder ):\n",
        "    txt_path  = r\"/content/YOLOv6/Transmission-dataset-T51-1/labels/test/DJI_0639-2_jpg.rf.9b08f8cecd1c6dc2ba5448137205230b.txt\"\n",
        "    print(image_name)\n",
        "    if image_name == '.DS_Store':\n",
        "        return 0\n",
        "    image_path = r\"./runs/inference/exp/DJI_0639-2_jpg.rf.9b08f8cecd1c6dc2ba5448137205230b.jpg\"\n",
        "    save_file_path = r\"/content/YOLOv6/save_images_test/DJI_0639-2\"\n",
        "    source_file = open(txt_path) if os.path.exists(txt_path) else []\n",
        "    image = cv2.imread(image_path)\n",
        "    try:\n",
        "        height, width, channels = image.shape\n",
        "    except:\n",
        "        print('no shape info.')\n",
        "        return 0\n",
        "    box_number = 0\n",
        "    for line in source_file:\n",
        "        staff = line.split()\n",
        "        class_idx = int(staff[0])\n",
        "        x_center, y_center, w, h = float(staff[1])*width, float(staff[2])*height, float(staff[3])*width, float(staff[4])*height\n",
        "        x1 = round(x_center-w/2)\n",
        "        y1 = round(y_center-h/2)\n",
        "        x2 = round(x_center+w/2)\n",
        "        y2 = round(y_center+h/2)\n",
        "        plot_one_box([x1,y1,x2,y2], image,  label=name_of_class, line_thickness=None)\n",
        "        cv2.imwrite(r\"/content/YOLOv6/save_images_test/DJI_0639-2.jpg\",image)\n",
        "        box_number += 1\n",
        "        return box_number\n",
        "draw_box_on_image(image_name, classes_path,  label_folder, raw_images_folder, save_images_folder )\n",
        "\n",
        "\n",
        "\n"
      ]
    },
    {
      "cell_type": "code",
      "execution_count": null,
      "metadata": {
        "colab": {
          "base_uri": "https://localhost:8080/"
        },
        "outputId": "b2c5665d-da46-4ca6-a97e-2d34bf7f0592",
        "id": "pnCzUKc2_Kht"
      },
      "outputs": [
        {
          "output_type": "stream",
          "name": "stdout",
          "text": [
            "./runs/inference/exp/DJI_0649-2_jpg.rf.d8f9412a54c20daf6af713408ffe73e9.jpg\n"
          ]
        },
        {
          "output_type": "execute_result",
          "data": {
            "text/plain": [
              "1"
            ]
          },
          "metadata": {},
          "execution_count": 32
        }
      ],
      "source": [
        "import cv2\n",
        "import os\n",
        "import random\n",
        "label_folder = r'/content/YOLOv6/Transmission-dataset-T51-1/labels'\n",
        "raw_images_folder = r'/content/YOLOv6/Transmission-dataset-T51-1/images'\n",
        "save_images_folder = r'/content/YOLOv6/save_images_test'\n",
        "name_list_path = r'/content/YOLOv6/Transmission-dataset-T51-1/labels/test'\n",
        "classes_path = r'/content/YOLOv6/Transmission-dataset-T51-1'\n",
        "image_name=r'./runs/inference/exp/DJI_0649-2_jpg.rf.d8f9412a54c20daf6af713408ffe73e9.jpg'\n",
        "label=name_of_class='defect insulator'\n",
        "\n",
        "def plot_one_box(x, image, color=None, label=name_of_class,line_thickness=None):\n",
        "\n",
        "    tl = line_thickness or round(0.002 * (image.shape[0] + image.shape[1]) / 2) + 1  # line/font thickness\n",
        "    color = color or [random.randint(0, 255) for _ in range(3)]\n",
        "    c1, c2 = (int(x[0]), int(x[1])), (int(x[2]), int(x[3]))\n",
        "    cv2.rectangle(image, c1, c2, color, thickness=tl, lineType=cv2.LINE_AA)\n",
        "    if label:\n",
        "        tf = max(tl - 1, 1)  # font thickness\n",
        "        t_size = cv2.getTextSize(str(label), 0, fontScale=tl / 3,thickness=tf)[0]\n",
        "        c2 = c1[0] + t_size[0], c1[1] - t_size[1] - 3\n",
        "        cv2.rectangle(image, c1, c2, color, -1, cv2.LINE_AA)  # filled\n",
        "        cv2.putText(image, str(label), (c1[0], c1[1] - 2), 0, tl / 3, [225, 255, 255], thickness=tf, lineType=cv2.LINE_AA)\n",
        "def draw_box_on_image(image_name, classes_path, label_folder, raw_images_folder, save_images_folder ):\n",
        "    txt_path  = r\"/content/YOLOv6/Transmission-dataset-T51-1/labels/test/DJI_0649-2_jpg.rf.d8f9412a54c20daf6af713408ffe73e9.txt\"\n",
        "    print(image_name)\n",
        "    if image_name == '.DS_Store':\n",
        "        return 0\n",
        "    image_path = r\"./runs/inference/exp/DJI_0649-2_jpg.rf.d8f9412a54c20daf6af713408ffe73e9.jpg\"\n",
        "    save_file_path = r\"/content/YOLOv6/save_images_test/DJI_0649-2\"\n",
        "    source_file = open(txt_path) if os.path.exists(txt_path) else []\n",
        "    image = cv2.imread(image_path)\n",
        "    try:\n",
        "        height, width, channels = image.shape\n",
        "    except:\n",
        "        print('no shape info.')\n",
        "        return 0\n",
        "    box_number = 0\n",
        "    for line in source_file:\n",
        "        staff = line.split()\n",
        "        class_idx = int(staff[0])\n",
        "        x_center, y_center, w, h = float(staff[1])*width, float(staff[2])*height, float(staff[3])*width, float(staff[4])*height\n",
        "        x1 = round(x_center-w/2)\n",
        "        y1 = round(y_center-h/2)\n",
        "        x2 = round(x_center+w/2)\n",
        "        y2 = round(y_center+h/2)\n",
        "        plot_one_box([x1,y1,x2,y2], image,  label=name_of_class, line_thickness=None)\n",
        "        cv2.imwrite(r\"/content/YOLOv6/save_images_test/DJI_0649-2.jpg\",image)\n",
        "        box_number += 1\n",
        "        return box_number\n",
        "draw_box_on_image(image_name, classes_path,  label_folder, raw_images_folder, save_images_folder )\n",
        "\n",
        "\n",
        "\n"
      ]
    },
    {
      "cell_type": "code",
      "execution_count": null,
      "metadata": {
        "colab": {
          "base_uri": "https://localhost:8080/"
        },
        "outputId": "5c4285e4-444b-448c-a173-8fcf1d1da2a6",
        "id": "D9-NlMRx_Kr1"
      },
      "outputs": [
        {
          "output_type": "stream",
          "name": "stdout",
          "text": [
            "./runs/inference/exp/DJI_0677-2_jpg.rf.c3ec437f4035fa4fc75c3579a019d79d.jpg\n"
          ]
        },
        {
          "output_type": "execute_result",
          "data": {
            "text/plain": [
              "1"
            ]
          },
          "metadata": {},
          "execution_count": 33
        }
      ],
      "source": [
        "import cv2\n",
        "import os\n",
        "import random\n",
        "label_folder = r'/content/YOLOv6/Transmission-dataset-T51-1/labels'\n",
        "raw_images_folder = r'/content/YOLOv6/Transmission-dataset-T51-1/images'\n",
        "save_images_folder = r'/content/YOLOv6/save_images_test'\n",
        "name_list_path = r'/content/YOLOv6/Transmission-dataset-T51-1/labels/test'\n",
        "classes_path = r'/content/YOLOv6/Transmission-dataset-T51-1'\n",
        "image_name=r'./runs/inference/exp/DJI_0677-2_jpg.rf.c3ec437f4035fa4fc75c3579a019d79d.jpg'\n",
        "label=name_of_class='defect insulator'\n",
        "\n",
        "def plot_one_box(x, image, color=None, label=name_of_class,line_thickness=None):\n",
        "\n",
        "    tl = line_thickness or round(0.002 * (image.shape[0] + image.shape[1]) / 2) + 1  # line/font thickness\n",
        "    color = color or [random.randint(0, 255) for _ in range(3)]\n",
        "    c1, c2 = (int(x[0]), int(x[1])), (int(x[2]), int(x[3]))\n",
        "    cv2.rectangle(image, c1, c2, color, thickness=tl, lineType=cv2.LINE_AA)\n",
        "    if label:\n",
        "        tf = max(tl - 1, 1)  # font thickness\n",
        "        t_size = cv2.getTextSize(str(label), 0, fontScale=tl / 3,thickness=tf)[0]\n",
        "        c2 = c1[0] + t_size[0], c1[1] - t_size[1] - 3\n",
        "        cv2.rectangle(image, c1, c2, color, -1, cv2.LINE_AA)  # filled\n",
        "        cv2.putText(image, str(label), (c1[0], c1[1] - 2), 0, tl / 3, [225, 255, 255], thickness=tf, lineType=cv2.LINE_AA)\n",
        "def draw_box_on_image(image_name, classes_path, label_folder, raw_images_folder, save_images_folder ):\n",
        "    txt_path  = r\"/content/YOLOv6/Transmission-dataset-T51-1/labels/test/DJI_0677-2_jpg.rf.c3ec437f4035fa4fc75c3579a019d79d.txt\"\n",
        "    print(image_name)\n",
        "    if image_name == '.DS_Store':\n",
        "        return 0\n",
        "    image_path = r\"./runs/inference/exp/DJI_0677-2_jpg.rf.c3ec437f4035fa4fc75c3579a019d79d.jpg\"\n",
        "    save_file_path = r\"/content/YOLOv6/save_images_test/DJI_0677-2\"\n",
        "    source_file = open(txt_path) if os.path.exists(txt_path) else []\n",
        "    image = cv2.imread(image_path)\n",
        "    try:\n",
        "        height, width, channels = image.shape\n",
        "    except:\n",
        "        print('no shape info.')\n",
        "        return 0\n",
        "    box_number = 0\n",
        "    for line in source_file:\n",
        "        staff = line.split()\n",
        "        class_idx = int(staff[0])\n",
        "        x_center, y_center, w, h = float(staff[1])*width, float(staff[2])*height, float(staff[3])*width, float(staff[4])*height\n",
        "        x1 = round(x_center-w/2)\n",
        "        y1 = round(y_center-h/2)\n",
        "        x2 = round(x_center+w/2)\n",
        "        y2 = round(y_center+h/2)\n",
        "        plot_one_box([x1,y1,x2,y2], image,  label=name_of_class, line_thickness=None)\n",
        "        cv2.imwrite(r\"/content/YOLOv6/save_images_test/DJI_0677-2.jpg\",image)\n",
        "        box_number += 1\n",
        "        return box_number\n",
        "draw_box_on_image(image_name, classes_path,  label_folder, raw_images_folder, save_images_folder )\n",
        "\n",
        "\n",
        "\n"
      ]
    },
    {
      "cell_type": "code",
      "execution_count": null,
      "metadata": {
        "colab": {
          "base_uri": "https://localhost:8080/"
        },
        "outputId": "8420edf0-6689-4ceb-a929-6f6ec54c0f5c",
        "id": "uf7qpumQ_K1m"
      },
      "outputs": [
        {
          "output_type": "stream",
          "name": "stdout",
          "text": [
            "./runs/inference/exp/DJI_0681_jpg.rf.592a0b2e77b11378fea61271739a2287.jpg\n"
          ]
        },
        {
          "output_type": "execute_result",
          "data": {
            "text/plain": [
              "1"
            ]
          },
          "metadata": {},
          "execution_count": 34
        }
      ],
      "source": [
        "import cv2\n",
        "import os\n",
        "import random\n",
        "label_folder = r'/content/YOLOv6/Transmission-dataset-T51-1/labels'\n",
        "raw_images_folder = r'/content/YOLOv6/Transmission-dataset-T51-1/images'\n",
        "save_images_folder = r'/content/YOLOv6/save_images_test'\n",
        "name_list_path = r'/content/YOLOv6/Transmission-dataset-T51-1/labels/test'\n",
        "classes_path = r'/content/YOLOv6/Transmission-dataset-T51-1'\n",
        "image_name=r'./runs/inference/exp/DJI_0681_jpg.rf.592a0b2e77b11378fea61271739a2287.jpg'\n",
        "label=name_of_class='defect insulator'\n",
        "\n",
        "def plot_one_box(x, image, color=None, label=name_of_class,line_thickness=None):\n",
        "\n",
        "    tl = line_thickness or round(0.002 * (image.shape[0] + image.shape[1]) / 2) + 1  # line/font thickness\n",
        "    color = color or [random.randint(0, 255) for _ in range(3)]\n",
        "    c1, c2 = (int(x[0]), int(x[1])), (int(x[2]), int(x[3]))\n",
        "    cv2.rectangle(image, c1, c2, color, thickness=tl, lineType=cv2.LINE_AA)\n",
        "    if label:\n",
        "        tf = max(tl - 1, 1)  # font thickness\n",
        "        t_size = cv2.getTextSize(str(label), 0, fontScale=tl / 3,thickness=tf)[0]\n",
        "        c2 = c1[0] + t_size[0], c1[1] - t_size[1] - 3\n",
        "        cv2.rectangle(image, c1, c2, color, -1, cv2.LINE_AA)  # filled\n",
        "        cv2.putText(image, str(label), (c1[0], c1[1] - 2), 0, tl / 3, [225, 255, 255], thickness=tf, lineType=cv2.LINE_AA)\n",
        "def draw_box_on_image(image_name, classes_path, label_folder, raw_images_folder, save_images_folder ):\n",
        "    txt_path  = r\"/content/YOLOv6/Transmission-dataset-T51-1/labels/test/DJI_0681_jpg.rf.592a0b2e77b11378fea61271739a2287.txt\"\n",
        "    print(image_name)\n",
        "    if image_name == '.DS_Store':\n",
        "        return 0\n",
        "    image_path = r\"./runs/inference/exp/DJI_0681_jpg.rf.592a0b2e77b11378fea61271739a2287.jpg\"\n",
        "    save_file_path = r\"/content/YOLOv6/save_images_test/DJI_0681\"\n",
        "    source_file = open(txt_path) if os.path.exists(txt_path) else []\n",
        "    image = cv2.imread(image_path)\n",
        "    try:\n",
        "        height, width, channels = image.shape\n",
        "    except:\n",
        "        print('no shape info.')\n",
        "        return 0\n",
        "    box_number = 0\n",
        "    for line in source_file:\n",
        "        staff = line.split()\n",
        "        class_idx = int(staff[0])\n",
        "        x_center, y_center, w, h = float(staff[1])*width, float(staff[2])*height, float(staff[3])*width, float(staff[4])*height\n",
        "        x1 = round(x_center-w/2)\n",
        "        y1 = round(y_center-h/2)\n",
        "        x2 = round(x_center+w/2)\n",
        "        y2 = round(y_center+h/2)\n",
        "        plot_one_box([x1,y1,x2,y2], image,  label=name_of_class, line_thickness=None)\n",
        "        cv2.imwrite(r\"/content/YOLOv6/save_images_test/DJI_0681.jpg\",image)\n",
        "        box_number += 1\n",
        "        return box_number\n",
        "draw_box_on_image(image_name, classes_path,  label_folder, raw_images_folder, save_images_folder )\n",
        "\n",
        "\n",
        "\n"
      ]
    },
    {
      "cell_type": "code",
      "execution_count": null,
      "metadata": {
        "colab": {
          "base_uri": "https://localhost:8080/"
        },
        "outputId": "d6297d51-63d5-453b-8173-3d9d009d84ba",
        "id": "ipZCGszh_K-C"
      },
      "outputs": [
        {
          "output_type": "stream",
          "name": "stdout",
          "text": [
            "./runs/inference/exp/DJI_0683_jpg.rf.af306f549ff36cba8d68444ebaa0f894.jpg\n"
          ]
        },
        {
          "output_type": "execute_result",
          "data": {
            "text/plain": [
              "1"
            ]
          },
          "metadata": {},
          "execution_count": 35
        }
      ],
      "source": [
        "import cv2\n",
        "import os\n",
        "import random\n",
        "label_folder = r'/content/YOLOv6/Transmission-dataset-T51-1/labels'\n",
        "raw_images_folder = r'/content/YOLOv6/Transmission-dataset-T51-1/images'\n",
        "save_images_folder = r'/content/YOLOv6/save_images_test'\n",
        "name_list_path = r'/content/YOLOv6/Transmission-dataset-T51-1/labels/test'\n",
        "classes_path = r'/content/YOLOv6/Transmission-dataset-T51-1'\n",
        "image_name=r'./runs/inference/exp/DJI_0683_jpg.rf.af306f549ff36cba8d68444ebaa0f894.jpg'\n",
        "label=name_of_class='defect insulator'\n",
        "\n",
        "def plot_one_box(x, image, color=None, label=name_of_class,line_thickness=None):\n",
        "\n",
        "    tl = line_thickness or round(0.002 * (image.shape[0] + image.shape[1]) / 2) + 1  # line/font thickness\n",
        "    color = color or [random.randint(0, 255) for _ in range(3)]\n",
        "    c1, c2 = (int(x[0]), int(x[1])), (int(x[2]), int(x[3]))\n",
        "    cv2.rectangle(image, c1, c2, color, thickness=tl, lineType=cv2.LINE_AA)\n",
        "    if label:\n",
        "        tf = max(tl - 1, 1)  # font thickness\n",
        "        t_size = cv2.getTextSize(str(label), 0, fontScale=tl / 3,thickness=tf)[0]\n",
        "        c2 = c1[0] + t_size[0], c1[1] - t_size[1] - 3\n",
        "        cv2.rectangle(image, c1, c2, color, -1, cv2.LINE_AA)  # filled\n",
        "        cv2.putText(image, str(label), (c1[0], c1[1] - 2), 0, tl / 3, [225, 255, 255], thickness=tf, lineType=cv2.LINE_AA)\n",
        "def draw_box_on_image(image_name, classes_path, label_folder, raw_images_folder, save_images_folder ):\n",
        "    txt_path  = r\"/content/YOLOv6/Transmission-dataset-T51-1/labels/test/DJI_0683_jpg.rf.af306f549ff36cba8d68444ebaa0f894.txt\"\n",
        "    print(image_name)\n",
        "    if image_name == '.DS_Store':\n",
        "        return 0\n",
        "    image_path = r\"./runs/inference/exp/DJI_0683_jpg.rf.af306f549ff36cba8d68444ebaa0f894.jpg\"\n",
        "    save_file_path = r\"/content/YOLOv6/save_images_test/DJI_0683\"\n",
        "    source_file = open(txt_path) if os.path.exists(txt_path) else []\n",
        "    image = cv2.imread(image_path)\n",
        "    try:\n",
        "        height, width, channels = image.shape\n",
        "    except:\n",
        "        print('no shape info.')\n",
        "        return 0\n",
        "    box_number = 0\n",
        "    for line in source_file:\n",
        "        staff = line.split()\n",
        "        class_idx = int(staff[0])\n",
        "        x_center, y_center, w, h = float(staff[1])*width, float(staff[2])*height, float(staff[3])*width, float(staff[4])*height\n",
        "        x1 = round(x_center-w/2)\n",
        "        y1 = round(y_center-h/2)\n",
        "        x2 = round(x_center+w/2)\n",
        "        y2 = round(y_center+h/2)\n",
        "        plot_one_box([x1,y1,x2,y2], image,  label=name_of_class, line_thickness=None)\n",
        "        cv2.imwrite(r\"/content/YOLOv6/save_images_test/DJI_0683.jpg\",image)\n",
        "        box_number += 1\n",
        "        return box_number\n",
        "draw_box_on_image(image_name, classes_path,  label_folder, raw_images_folder, save_images_folder )\n",
        "\n",
        "\n",
        "\n"
      ]
    },
    {
      "cell_type": "code",
      "execution_count": null,
      "metadata": {
        "colab": {
          "base_uri": "https://localhost:8080/"
        },
        "outputId": "601e3acc-c601-4ff6-82be-c100af91617d",
        "id": "6zg4G9T-_LHj"
      },
      "outputs": [
        {
          "output_type": "stream",
          "name": "stdout",
          "text": [
            "./runs/inference/exp/DJI_0685_jpg.rf.31975d6c41083ad866341d6ee158226d.jpg\n"
          ]
        },
        {
          "output_type": "execute_result",
          "data": {
            "text/plain": [
              "1"
            ]
          },
          "metadata": {},
          "execution_count": 36
        }
      ],
      "source": [
        "import cv2\n",
        "import os\n",
        "import random\n",
        "label_folder = r'/content/YOLOv6/Transmission-dataset-T51-1/labels'\n",
        "raw_images_folder = r'/content/YOLOv6/Transmission-dataset-T51-1/images'\n",
        "save_images_folder = r'/content/YOLOv6/save_images_test'\n",
        "name_list_path = r'/content/YOLOv6/Transmission-dataset-T51-1/labels/test'\n",
        "classes_path = r'/content/YOLOv6/Transmission-dataset-T51-1'\n",
        "image_name=r'./runs/inference/exp/DJI_0685_jpg.rf.31975d6c41083ad866341d6ee158226d.jpg'\n",
        "label=name_of_class='defect insulator'\n",
        "\n",
        "def plot_one_box(x, image, color=None, label=name_of_class,line_thickness=None):\n",
        "\n",
        "    tl = line_thickness or round(0.002 * (image.shape[0] + image.shape[1]) / 2) + 1  # line/font thickness\n",
        "    color = color or [random.randint(0, 255) for _ in range(3)]\n",
        "    c1, c2 = (int(x[0]), int(x[1])), (int(x[2]), int(x[3]))\n",
        "    cv2.rectangle(image, c1, c2, color, thickness=tl, lineType=cv2.LINE_AA)\n",
        "    if label:\n",
        "        tf = max(tl - 1, 1)  # font thickness\n",
        "        t_size = cv2.getTextSize(str(label), 0, fontScale=tl / 3,thickness=tf)[0]\n",
        "        c2 = c1[0] + t_size[0], c1[1] - t_size[1] - 3\n",
        "        cv2.rectangle(image, c1, c2, color, -1, cv2.LINE_AA)  # filled\n",
        "        cv2.putText(image, str(label), (c1[0], c1[1] - 2), 0, tl / 3, [225, 255, 255], thickness=tf, lineType=cv2.LINE_AA)\n",
        "def draw_box_on_image(image_name, classes_path, label_folder, raw_images_folder, save_images_folder ):\n",
        "    txt_path  = r\"/content/YOLOv6/Transmission-dataset-T51-1/labels/test/DJI_0685_jpg.rf.31975d6c41083ad866341d6ee158226d.txt\"\n",
        "    print(image_name)\n",
        "    if image_name == '.DS_Store':\n",
        "        return 0\n",
        "    image_path = r\"./runs/inference/exp/DJI_0685_jpg.rf.31975d6c41083ad866341d6ee158226d.jpg\"\n",
        "    save_file_path = r\"/content/YOLOv6/save_images_test/DJI_0685\"\n",
        "    source_file = open(txt_path) if os.path.exists(txt_path) else []\n",
        "    image = cv2.imread(image_path)\n",
        "    try:\n",
        "        height, width, channels = image.shape\n",
        "    except:\n",
        "        print('no shape info.')\n",
        "        return 0\n",
        "    box_number = 0\n",
        "    for line in source_file:\n",
        "        staff = line.split()\n",
        "        class_idx = int(staff[0])\n",
        "        x_center, y_center, w, h = float(staff[1])*width, float(staff[2])*height, float(staff[3])*width, float(staff[4])*height\n",
        "        x1 = round(x_center-w/2)\n",
        "        y1 = round(y_center-h/2)\n",
        "        x2 = round(x_center+w/2)\n",
        "        y2 = round(y_center+h/2)\n",
        "        plot_one_box([x1,y1,x2,y2], image,  label=name_of_class, line_thickness=None)\n",
        "        cv2.imwrite(r\"/content/YOLOv6/save_images_test/DJI_0685.jpg\",image)\n",
        "        box_number += 1\n",
        "        return box_number\n",
        "draw_box_on_image(image_name, classes_path,  label_folder, raw_images_folder, save_images_folder )\n",
        "\n",
        "\n",
        "\n"
      ]
    },
    {
      "cell_type": "code",
      "execution_count": null,
      "metadata": {
        "colab": {
          "base_uri": "https://localhost:8080/"
        },
        "outputId": "ac105f49-c7c7-45b7-ea74-7abbb1311461",
        "id": "GaosnfmQ_LSV"
      },
      "outputs": [
        {
          "output_type": "stream",
          "name": "stdout",
          "text": [
            "./runs/inference/exp/DJI_0689_jpg.rf.51aa7429c16c3d4827056305e52298b6.jpg\n"
          ]
        },
        {
          "output_type": "execute_result",
          "data": {
            "text/plain": [
              "1"
            ]
          },
          "metadata": {},
          "execution_count": 37
        }
      ],
      "source": [
        "import cv2\n",
        "import os\n",
        "import random\n",
        "label_folder = r'/content/YOLOv6/Transmission-dataset-T51-1/labels'\n",
        "raw_images_folder = r'/content/YOLOv6/Transmission-dataset-T51-1/images'\n",
        "save_images_folder = r'/content/YOLOv6/save_images_test'\n",
        "name_list_path = r'/content/YOLOv6/Transmission-dataset-T51-1/labels/test'\n",
        "classes_path = r'/content/YOLOv6/Transmission-dataset-T51-1'\n",
        "image_name=r'./runs/inference/exp/DJI_0689_jpg.rf.51aa7429c16c3d4827056305e52298b6.jpg'\n",
        "label=name_of_class='defect insulator'\n",
        "\n",
        "def plot_one_box(x, image, color=None, label=name_of_class,line_thickness=None):\n",
        "\n",
        "    tl = line_thickness or round(0.002 * (image.shape[0] + image.shape[1]) / 2) + 1  # line/font thickness\n",
        "    color = color or [random.randint(0, 255) for _ in range(3)]\n",
        "    c1, c2 = (int(x[0]), int(x[1])), (int(x[2]), int(x[3]))\n",
        "    cv2.rectangle(image, c1, c2, color, thickness=tl, lineType=cv2.LINE_AA)\n",
        "    if label:\n",
        "        tf = max(tl - 1, 1)  # font thickness\n",
        "        t_size = cv2.getTextSize(str(label), 0, fontScale=tl / 3,thickness=tf)[0]\n",
        "        c2 = c1[0] + t_size[0], c1[1] - t_size[1] - 3\n",
        "        cv2.rectangle(image, c1, c2, color, -1, cv2.LINE_AA)  # filled\n",
        "        cv2.putText(image, str(label), (c1[0], c1[1] - 2), 0, tl / 3, [225, 255, 255], thickness=tf, lineType=cv2.LINE_AA)\n",
        "def draw_box_on_image(image_name, classes_path, label_folder, raw_images_folder, save_images_folder ):\n",
        "    txt_path  = r\"/content/YOLOv6/Transmission-dataset-T51-1/labels/test/DJI_0689_jpg.rf.51aa7429c16c3d4827056305e52298b6.txt\"\n",
        "    print(image_name)\n",
        "    if image_name == '.DS_Store':\n",
        "        return 0\n",
        "    image_path = r\"./runs/inference/exp/DJI_0689_jpg.rf.51aa7429c16c3d4827056305e52298b6.jpg\"\n",
        "    save_file_path = r\"/content/YOLOv6/save_images_test/DJI_0689\"\n",
        "    source_file = open(txt_path) if os.path.exists(txt_path) else []\n",
        "    image = cv2.imread(image_path)\n",
        "    try:\n",
        "        height, width, channels = image.shape\n",
        "    except:\n",
        "        print('no shape info.')\n",
        "        return 0\n",
        "    box_number = 0\n",
        "    for line in source_file:\n",
        "        staff = line.split()\n",
        "        class_idx = int(staff[0])\n",
        "        x_center, y_center, w, h = float(staff[1])*width, float(staff[2])*height, float(staff[3])*width, float(staff[4])*height\n",
        "        x1 = round(x_center-w/2)\n",
        "        y1 = round(y_center-h/2)\n",
        "        x2 = round(x_center+w/2)\n",
        "        y2 = round(y_center+h/2)\n",
        "        plot_one_box([x1,y1,x2,y2], image,  label=name_of_class, line_thickness=None)\n",
        "        cv2.imwrite(r\"/content/YOLOv6/save_images_test/DJI_0689.jpg\",image)\n",
        "        box_number += 1\n",
        "        return box_number\n",
        "draw_box_on_image(image_name, classes_path,  label_folder, raw_images_folder, save_images_folder )\n",
        "\n",
        "\n",
        "\n"
      ]
    },
    {
      "cell_type": "code",
      "execution_count": null,
      "metadata": {
        "colab": {
          "base_uri": "https://localhost:8080/"
        },
        "outputId": "00799b97-24ca-43e1-f11f-3d45aebcd419",
        "id": "kyVpLmuf_Lc0"
      },
      "outputs": [
        {
          "output_type": "stream",
          "name": "stdout",
          "text": [
            "./runs/inference/exp/DJI_0693-2_jpg.rf.dcf252862f9198010c2a327b4ad390f4.jpg\n"
          ]
        },
        {
          "output_type": "execute_result",
          "data": {
            "text/plain": [
              "1"
            ]
          },
          "metadata": {},
          "execution_count": 38
        }
      ],
      "source": [
        "import cv2\n",
        "import os\n",
        "import random\n",
        "label_folder = r'/content/YOLOv6/Transmission-dataset-T51-1/labels'\n",
        "raw_images_folder = r'/content/YOLOv6/Transmission-dataset-T51-1/images'\n",
        "save_images_folder = r'/content/YOLOv6/save_images_test'\n",
        "name_list_path = r'/content/YOLOv6/Transmission-dataset-T51-1/labels/test'\n",
        "classes_path = r'/content/YOLOv6/Transmission-dataset-T51-1'\n",
        "image_name=r'./runs/inference/exp/DJI_0693-2_jpg.rf.dcf252862f9198010c2a327b4ad390f4.jpg'\n",
        "label=name_of_class='defect insulator'\n",
        "\n",
        "def plot_one_box(x, image, color=None, label=name_of_class,line_thickness=None):\n",
        "\n",
        "    tl = line_thickness or round(0.002 * (image.shape[0] + image.shape[1]) / 2) + 1  # line/font thickness\n",
        "    color = color or [random.randint(0, 255) for _ in range(3)]\n",
        "    c1, c2 = (int(x[0]), int(x[1])), (int(x[2]), int(x[3]))\n",
        "    cv2.rectangle(image, c1, c2, color, thickness=tl, lineType=cv2.LINE_AA)\n",
        "    if label:\n",
        "        tf = max(tl - 1, 1)  # font thickness\n",
        "        t_size = cv2.getTextSize(str(label), 0, fontScale=tl / 3,thickness=tf)[0]\n",
        "        c2 = c1[0] + t_size[0], c1[1] - t_size[1] - 3\n",
        "        cv2.rectangle(image, c1, c2, color, -1, cv2.LINE_AA)  # filled\n",
        "        cv2.putText(image, str(label), (c1[0], c1[1] - 2), 0, tl / 3, [225, 255, 255], thickness=tf, lineType=cv2.LINE_AA)\n",
        "def draw_box_on_image(image_name, classes_path, label_folder, raw_images_folder, save_images_folder ):\n",
        "    txt_path  = r\"/content/YOLOv6/Transmission-dataset-T51-1/labels/test/DJI_0693-2_jpg.rf.dcf252862f9198010c2a327b4ad390f4.txt\"\n",
        "    print(image_name)\n",
        "    if image_name == '.DS_Store':\n",
        "        return 0\n",
        "    image_path = r\"./runs/inference/exp/DJI_0693-2_jpg.rf.dcf252862f9198010c2a327b4ad390f4.jpg\"\n",
        "    save_file_path = r\"/content/YOLOv6/save_images_test/DJI_0693-2\"\n",
        "    source_file = open(txt_path) if os.path.exists(txt_path) else []\n",
        "    image = cv2.imread(image_path)\n",
        "    try:\n",
        "        height, width, channels = image.shape\n",
        "    except:\n",
        "        print('no shape info.')\n",
        "        return 0\n",
        "    box_number = 0\n",
        "    for line in source_file:\n",
        "        staff = line.split()\n",
        "        class_idx = int(staff[0])\n",
        "        x_center, y_center, w, h = float(staff[1])*width, float(staff[2])*height, float(staff[3])*width, float(staff[4])*height\n",
        "        x1 = round(x_center-w/2)\n",
        "        y1 = round(y_center-h/2)\n",
        "        x2 = round(x_center+w/2)\n",
        "        y2 = round(y_center+h/2)\n",
        "        plot_one_box([x1,y1,x2,y2], image,  label=name_of_class, line_thickness=None)\n",
        "        cv2.imwrite(r\"/content/YOLOv6/save_images_test/DJI_0693-2.jpg\",image)\n",
        "        box_number += 1\n",
        "        return box_number\n",
        "draw_box_on_image(image_name, classes_path,  label_folder, raw_images_folder, save_images_folder )\n",
        "\n",
        "\n",
        "\n"
      ]
    },
    {
      "cell_type": "code",
      "execution_count": null,
      "metadata": {
        "colab": {
          "base_uri": "https://localhost:8080/"
        },
        "outputId": "fbeb396b-2959-49bf-b5ce-0103c5464f37",
        "id": "EjIJEfrC_LmS"
      },
      "outputs": [
        {
          "output_type": "stream",
          "name": "stdout",
          "text": [
            "./runs/inference/exp/DJI_0547-5_jpg.rf.ba66e51f00105991b7c51774c86ea74b.jpg\n"
          ]
        },
        {
          "output_type": "execute_result",
          "data": {
            "text/plain": [
              "1"
            ]
          },
          "metadata": {},
          "execution_count": 10
        }
      ],
      "source": [
        "import cv2\n",
        "import os\n",
        "import random\n",
        "label_folder = r'/content/YOLOv6/Transmission-dataset-T51-1/labels'\n",
        "raw_images_folder = r'/content/YOLOv6/Transmission-dataset-T51-1/images'\n",
        "save_images_folder = r'/content/YOLOv6/save_images_test'\n",
        "name_list_path = r'/content/YOLOv6/Transmission-dataset-T51-1/labels/test'\n",
        "classes_path = r'/content/YOLOv6/Transmission-dataset-T51-1'\n",
        "image_name=r'.'\n",
        "label=name_of_class='defect insulator'\n",
        "\n",
        "def plot_one_box(x, image, color=None, label=name_of_class,line_thickness=None):\n",
        "\n",
        "    tl = line_thickness or round(0.002 * (image.shape[0] + image.shape[1]) / 2) + 1  # line/font thickness\n",
        "    color = color or [random.randint(0, 255) for _ in range(3)]\n",
        "    c1, c2 = (int(x[0]), int(x[1])), (int(x[2]), int(x[3]))\n",
        "    cv2.rectangle(image, c1, c2, color, thickness=tl, lineType=cv2.LINE_AA)\n",
        "    if label:\n",
        "        tf = max(tl - 1, 1)  # font thickness\n",
        "        t_size = cv2.getTextSize(str(label), 0, fontScale=tl / 3,thickness=tf)[0]\n",
        "        c2 = c1[0] + t_size[0], c1[1] - t_size[1] - 3\n",
        "        cv2.rectangle(image, c1, c2, color, -1, cv2.LINE_AA)  # filled\n",
        "        cv2.putText(image, str(label), (c1[0], c1[1] - 2), 0, tl / 3, [225, 255, 255], thickness=tf, lineType=cv2.LINE_AA)\n",
        "def draw_box_on_image(image_name, classes_path, label_folder, raw_images_folder, save_images_folder ):\n",
        "    txt_path  = r\"\"\n",
        "    print(image_name)\n",
        "    if image_name == '.DS_Store':\n",
        "        return 0\n",
        "    image_path = r\".\"\n",
        "    save_file_path = r\"/content/YOLOv6/save_images_test/DJI_\"\n",
        "    source_file = open(txt_path) if os.path.exists(txt_path) else []\n",
        "    image = cv2.imread(image_path)\n",
        "    try:\n",
        "        height, width, channels = image.shape\n",
        "    except:\n",
        "        print('no shape info.')\n",
        "        return 0\n",
        "    box_number = 0\n",
        "    for line in source_file:\n",
        "        staff = line.split()\n",
        "        class_idx = int(staff[0])\n",
        "        x_center, y_center, w, h = float(staff[1])*width, float(staff[2])*height, float(staff[3])*width, float(staff[4])*height\n",
        "        x1 = round(x_center-w/2)\n",
        "        y1 = round(y_center-h/2)\n",
        "        x2 = round(x_center+w/2)\n",
        "        y2 = round(y_center+h/2)\n",
        "        plot_one_box([x1,y1,x2,y2], image,  label=name_of_class, line_thickness=None)\n",
        "        cv2.imwrite(r\"/content/YOLOv6/save_images_test/DJI_.jpg\",image)\n",
        "        box_number += 1\n",
        "        return box_number\n",
        "draw_box_on_image(image_name, classes_path,  label_folder, raw_images_folder, save_images_folder )\n",
        "\n",
        "\n",
        "\n"
      ]
    },
    {
      "cell_type": "code",
      "execution_count": null,
      "metadata": {
        "colab": {
          "base_uri": "https://localhost:8080/"
        },
        "outputId": "5f35fc0c-7872-484e-da4c-f3be3468ed9a",
        "id": "XxV9HSze_Lv1"
      },
      "outputs": [
        {
          "output_type": "stream",
          "name": "stdout",
          "text": [
            "./runs/inference/exp/DJI_0701-2_jpg.rf.365645864595ac1dbb9e448f607c739b.jpg\n"
          ]
        },
        {
          "output_type": "execute_result",
          "data": {
            "text/plain": [
              "1"
            ]
          },
          "metadata": {},
          "execution_count": 39
        }
      ],
      "source": [
        "import cv2\n",
        "import os\n",
        "import random\n",
        "label_folder = r'/content/YOLOv6/Transmission-dataset-T51-1/labels'\n",
        "raw_images_folder = r'/content/YOLOv6/Transmission-dataset-T51-1/images'\n",
        "save_images_folder = r'/content/YOLOv6/save_images_test'\n",
        "name_list_path = r'/content/YOLOv6/Transmission-dataset-T51-1/labels/test'\n",
        "classes_path = r'/content/YOLOv6/Transmission-dataset-T51-1'\n",
        "image_name=r'./runs/inference/exp/DJI_0701-2_jpg.rf.365645864595ac1dbb9e448f607c739b.jpg'\n",
        "label=name_of_class='defect insulator'\n",
        "\n",
        "def plot_one_box(x, image, color=None, label=name_of_class,line_thickness=None):\n",
        "\n",
        "    tl = line_thickness or round(0.002 * (image.shape[0] + image.shape[1]) / 2) + 1  # line/font thickness\n",
        "    color = color or [random.randint(0, 255) for _ in range(3)]\n",
        "    c1, c2 = (int(x[0]), int(x[1])), (int(x[2]), int(x[3]))\n",
        "    cv2.rectangle(image, c1, c2, color, thickness=tl, lineType=cv2.LINE_AA)\n",
        "    if label:\n",
        "        tf = max(tl - 1, 1)  # font thickness\n",
        "        t_size = cv2.getTextSize(str(label), 0, fontScale=tl / 3,thickness=tf)[0]\n",
        "        c2 = c1[0] + t_size[0], c1[1] - t_size[1] - 3\n",
        "        cv2.rectangle(image, c1, c2, color, -1, cv2.LINE_AA)  # filled\n",
        "        cv2.putText(image, str(label), (c1[0], c1[1] - 2), 0, tl / 3, [225, 255, 255], thickness=tf, lineType=cv2.LINE_AA)\n",
        "def draw_box_on_image(image_name, classes_path, label_folder, raw_images_folder, save_images_folder ):\n",
        "    txt_path  = r\"/content/YOLOv6/Transmission-dataset-T51-1/labels/test/DJI_0701-2_jpg.rf.365645864595ac1dbb9e448f607c739b.txt\"\n",
        "    print(image_name)\n",
        "    if image_name == '.DS_Store':\n",
        "        return 0\n",
        "    image_path = r\"./runs/inference/exp/DJI_0701-2_jpg.rf.365645864595ac1dbb9e448f607c739b.jpg\"\n",
        "    save_file_path = r\"/content/YOLOv6/save_images_test/DJI_0701-2\"\n",
        "    source_file = open(txt_path) if os.path.exists(txt_path) else []\n",
        "    image = cv2.imread(image_path)\n",
        "    try:\n",
        "        height, width, channels = image.shape\n",
        "    except:\n",
        "        print('no shape info.')\n",
        "        return 0\n",
        "    box_number = 0\n",
        "    for line in source_file:\n",
        "        staff = line.split()\n",
        "        class_idx = int(staff[0])\n",
        "        x_center, y_center, w, h = float(staff[1])*width, float(staff[2])*height, float(staff[3])*width, float(staff[4])*height\n",
        "        x1 = round(x_center-w/2)\n",
        "        y1 = round(y_center-h/2)\n",
        "        x2 = round(x_center+w/2)\n",
        "        y2 = round(y_center+h/2)\n",
        "        plot_one_box([x1,y1,x2,y2], image,  label=name_of_class, line_thickness=None)\n",
        "        cv2.imwrite(r\"/content/YOLOv6/save_images_test/DJI_0701-2.jpg\",image)\n",
        "        box_number += 1\n",
        "        return box_number\n",
        "draw_box_on_image(image_name, classes_path,  label_folder, raw_images_folder, save_images_folder )\n",
        "\n",
        "\n",
        "\n"
      ]
    },
    {
      "cell_type": "code",
      "execution_count": null,
      "metadata": {
        "colab": {
          "base_uri": "https://localhost:8080/"
        },
        "outputId": "6f6390a2-d006-4b11-a699-647a7d47d349",
        "id": "183llwXC_MAt"
      },
      "outputs": [
        {
          "output_type": "stream",
          "name": "stdout",
          "text": [
            "./runs/inference/exp/DJI_0703-2_jpg.rf.e19c370d7979da69b16c1a01306e0133.jpg\n"
          ]
        },
        {
          "output_type": "execute_result",
          "data": {
            "text/plain": [
              "1"
            ]
          },
          "metadata": {},
          "execution_count": 40
        }
      ],
      "source": [
        "import cv2\n",
        "import os\n",
        "import random\n",
        "label_folder = r'/content/YOLOv6/Transmission-dataset-T51-1/labels'\n",
        "raw_images_folder = r'/content/YOLOv6/Transmission-dataset-T51-1/images'\n",
        "save_images_folder = r'/content/YOLOv6/save_images_test'\n",
        "name_list_path = r'/content/YOLOv6/Transmission-dataset-T51-1/labels/test'\n",
        "classes_path = r'/content/YOLOv6/Transmission-dataset-T51-1'\n",
        "image_name=r'./runs/inference/exp/DJI_0703-2_jpg.rf.e19c370d7979da69b16c1a01306e0133.jpg'\n",
        "label=name_of_class='defect insulator'\n",
        "\n",
        "def plot_one_box(x, image, color=None, label=name_of_class,line_thickness=None):\n",
        "\n",
        "    tl = line_thickness or round(0.002 * (image.shape[0] + image.shape[1]) / 2) + 1  # line/font thickness\n",
        "    color = color or [random.randint(0, 255) for _ in range(3)]\n",
        "    c1, c2 = (int(x[0]), int(x[1])), (int(x[2]), int(x[3]))\n",
        "    cv2.rectangle(image, c1, c2, color, thickness=tl, lineType=cv2.LINE_AA)\n",
        "    if label:\n",
        "        tf = max(tl - 1, 1)  # font thickness\n",
        "        t_size = cv2.getTextSize(str(label), 0, fontScale=tl / 3,thickness=tf)[0]\n",
        "        c2 = c1[0] + t_size[0], c1[1] - t_size[1] - 3\n",
        "        cv2.rectangle(image, c1, c2, color, -1, cv2.LINE_AA)  # filled\n",
        "        cv2.putText(image, str(label), (c1[0], c1[1] - 2), 0, tl / 3, [225, 255, 255], thickness=tf, lineType=cv2.LINE_AA)\n",
        "def draw_box_on_image(image_name, classes_path, label_folder, raw_images_folder, save_images_folder ):\n",
        "    txt_path  = r\"/content/YOLOv6/Transmission-dataset-T51-1/labels/test/DJI_0703-2_jpg.rf.e19c370d7979da69b16c1a01306e0133.txt\"\n",
        "    print(image_name)\n",
        "    if image_name == '.DS_Store':\n",
        "        return 0\n",
        "    image_path = r\"./runs/inference/exp/DJI_0703-2_jpg.rf.e19c370d7979da69b16c1a01306e0133.jpg\"\n",
        "    save_file_path = r\"/content/YOLOv6/save_images_test/DJI_0703-2\"\n",
        "    source_file = open(txt_path) if os.path.exists(txt_path) else []\n",
        "    image = cv2.imread(image_path)\n",
        "    try:\n",
        "        height, width, channels = image.shape\n",
        "    except:\n",
        "        print('no shape info.')\n",
        "        return 0\n",
        "    box_number = 0\n",
        "    for line in source_file:\n",
        "        staff = line.split()\n",
        "        class_idx = int(staff[0])\n",
        "        x_center, y_center, w, h = float(staff[1])*width, float(staff[2])*height, float(staff[3])*width, float(staff[4])*height\n",
        "        x1 = round(x_center-w/2)\n",
        "        y1 = round(y_center-h/2)\n",
        "        x2 = round(x_center+w/2)\n",
        "        y2 = round(y_center+h/2)\n",
        "        plot_one_box([x1,y1,x2,y2], image,  label=name_of_class, line_thickness=None)\n",
        "        cv2.imwrite(r\"/content/YOLOv6/save_images_test/DJI_0703-2.jpg\",image)\n",
        "        box_number += 1\n",
        "        return box_number\n",
        "draw_box_on_image(image_name, classes_path,  label_folder, raw_images_folder, save_images_folder )\n",
        "\n",
        "\n",
        "\n"
      ]
    },
    {
      "cell_type": "code",
      "execution_count": null,
      "metadata": {
        "colab": {
          "base_uri": "https://localhost:8080/"
        },
        "outputId": "2a39d8fb-432f-48ea-8155-83bc9c9814b9",
        "id": "I8-o3Slu_OVt"
      },
      "outputs": [
        {
          "output_type": "stream",
          "name": "stdout",
          "text": [
            "./runs/inference/exp/DJI_0729_jpg.rf.60dee5f639dff4629b010ea30c2bbcbe.jpg\n"
          ]
        },
        {
          "output_type": "execute_result",
          "data": {
            "text/plain": [
              "1"
            ]
          },
          "metadata": {},
          "execution_count": 41
        }
      ],
      "source": [
        "import cv2\n",
        "import os\n",
        "import random\n",
        "label_folder = r'/content/YOLOv6/Transmission-dataset-T51-1/labels'\n",
        "raw_images_folder = r'/content/YOLOv6/Transmission-dataset-T51-1/images'\n",
        "save_images_folder = r'/content/YOLOv6/save_images_test'\n",
        "name_list_path = r'/content/YOLOv6/Transmission-dataset-T51-1/labels/test'\n",
        "classes_path = r'/content/YOLOv6/Transmission-dataset-T51-1'\n",
        "image_name=r'./runs/inference/exp/DJI_0729_jpg.rf.60dee5f639dff4629b010ea30c2bbcbe.jpg'\n",
        "label=name_of_class='defect insulator'\n",
        "\n",
        "def plot_one_box(x, image, color=None, label=name_of_class,line_thickness=None):\n",
        "\n",
        "    tl = line_thickness or round(0.002 * (image.shape[0] + image.shape[1]) / 2) + 1  # line/font thickness\n",
        "    color = color or [random.randint(0, 255) for _ in range(3)]\n",
        "    c1, c2 = (int(x[0]), int(x[1])), (int(x[2]), int(x[3]))\n",
        "    cv2.rectangle(image, c1, c2, color, thickness=tl, lineType=cv2.LINE_AA)\n",
        "    if label:\n",
        "        tf = max(tl - 1, 1)  # font thickness\n",
        "        t_size = cv2.getTextSize(str(label), 0, fontScale=tl / 3,thickness=tf)[0]\n",
        "        c2 = c1[0] + t_size[0], c1[1] - t_size[1] - 3\n",
        "        cv2.rectangle(image, c1, c2, color, -1, cv2.LINE_AA)  # filled\n",
        "        cv2.putText(image, str(label), (c1[0], c1[1] - 2), 0, tl / 3, [225, 255, 255], thickness=tf, lineType=cv2.LINE_AA)\n",
        "def draw_box_on_image(image_name, classes_path, label_folder, raw_images_folder, save_images_folder ):\n",
        "    txt_path  = r\"/content/YOLOv6/Transmission-dataset-T51-1/labels/test/DJI_0729_jpg.rf.60dee5f639dff4629b010ea30c2bbcbe.txt\"\n",
        "    print(image_name)\n",
        "    if image_name == '.DS_Store':\n",
        "        return 0\n",
        "    image_path = r\"./runs/inference/exp/DJI_0729_jpg.rf.60dee5f639dff4629b010ea30c2bbcbe.jpg\"\n",
        "    save_file_path = r\"/content/YOLOv6/save_images_test/DJI_0729\"\n",
        "    source_file = open(txt_path) if os.path.exists(txt_path) else []\n",
        "    image = cv2.imread(image_path)\n",
        "    try:\n",
        "        height, width, channels = image.shape\n",
        "    except:\n",
        "        print('no shape info.')\n",
        "        return 0\n",
        "    box_number = 0\n",
        "    for line in source_file:\n",
        "        staff = line.split()\n",
        "        class_idx = int(staff[0])\n",
        "        x_center, y_center, w, h = float(staff[1])*width, float(staff[2])*height, float(staff[3])*width, float(staff[4])*height\n",
        "        x1 = round(x_center-w/2)\n",
        "        y1 = round(y_center-h/2)\n",
        "        x2 = round(x_center+w/2)\n",
        "        y2 = round(y_center+h/2)\n",
        "        plot_one_box([x1,y1,x2,y2], image,  label=name_of_class, line_thickness=None)\n",
        "        cv2.imwrite(r\"/content/YOLOv6/save_images_test/DJI_0729.jpg\",image)\n",
        "        box_number += 1\n",
        "        return box_number\n",
        "draw_box_on_image(image_name, classes_path,  label_folder, raw_images_folder, save_images_folder )\n",
        "\n",
        "\n",
        "\n"
      ]
    }
  ]
}